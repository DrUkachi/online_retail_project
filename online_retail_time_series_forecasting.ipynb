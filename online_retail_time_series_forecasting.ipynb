{
  "nbformat": 4,
  "nbformat_minor": 0,
  "metadata": {
    "colab": {
      "name": "online_retail_time_series_forecasting.ipynb",
      "provenance": [],
      "collapsed_sections": [],
      "mount_file_id": "1YqopAkFXFtp2jK88Ie8rxCw_igW1AFUp",
      "authorship_tag": "ABX9TyNEDUZWIm0UwjshEQsWv+6C",
      "include_colab_link": true
    },
    "kernelspec": {
      "name": "python3",
      "display_name": "Python 3"
    },
    "language_info": {
      "name": "python"
    }
  },
  "cells": [
    {
      "cell_type": "markdown",
      "metadata": {
        "id": "view-in-github",
        "colab_type": "text"
      },
      "source": [
        "<a href=\"https://colab.research.google.com/github/DrUkachi/online_retail_project/blob/main/online_retail_time_series_forecasting.ipynb\" target=\"_parent\"><img src=\"https://colab.research.google.com/assets/colab-badge.svg\" alt=\"Open In Colab\"/></a>"
      ]
    },
    {
      "cell_type": "code",
      "metadata": {
        "colab": {
          "base_uri": "https://localhost:8080/"
        },
        "id": "XsSs1KqZcEoR",
        "outputId": "67f8a0db-ca4c-4fb3-ece8-32febb5f561d"
      },
      "source": [
        "from google.colab import drive\n",
        "drive.mount('/content/drive')"
      ],
      "execution_count": 1,
      "outputs": [
        {
          "output_type": "stream",
          "name": "stdout",
          "text": [
            "Drive already mounted at /content/drive; to attempt to forcibly remount, call drive.mount(\"/content/drive\", force_remount=True).\n"
          ]
        }
      ]
    },
    {
      "cell_type": "markdown",
      "metadata": {
        "id": "Up0rLD1a_2IQ"
      },
      "source": [
        "## Time-Series Forecasting\n",
        "After the analysis of the time-Series has been performed in [this notebook](https://github.com/DrUkachi/online_retail_project/blob/main/online_retail_time_series_analysis.ipynb)\n",
        "\n",
        "We can then confidently use some time-series algorithms to forecast the aggregated weekly sales for the next for weeks.\n",
        "\n",
        "Several methods can be used to perform time-series, however model selection should be based on the analysis of the data.\n",
        "\n",
        "In developing time-series models it is important to choose whether forecasts will depend only on the series itself (univariate) or whether predictions should be made on additional attributes (regressors). In this section, these two methods will be used to make the forecast."
      ]
    },
    {
      "cell_type": "code",
      "metadata": {
        "colab": {
          "base_uri": "https://localhost:8080/"
        },
        "id": "vZDocMRd9ysk",
        "outputId": "39b2494a-0b24-4509-f421-d3ef2484f519"
      },
      "source": [
        "\n",
        "!pip install pmdarima\n",
        "!pip install bayesian-optimization\n",
        "!pip install gluonts\n",
        "!pip install mxnet"
      ],
      "execution_count": 2,
      "outputs": [
        {
          "output_type": "stream",
          "name": "stdout",
          "text": [
            "Collecting pmdarima\n",
            "  Downloading pmdarima-1.8.3-cp37-cp37m-manylinux_2_17_x86_64.manylinux2014_x86_64.manylinux_2_24_x86_64.whl (1.4 MB)\n",
            "\u001b[K     |████████████████████████████████| 1.4 MB 9.3 MB/s \n",
            "\u001b[?25hRequirement already satisfied: setuptools!=50.0.0,>=38.6.0 in /usr/local/lib/python3.7/dist-packages (from pmdarima) (57.4.0)\n",
            "Requirement already satisfied: Cython!=0.29.18,>=0.29 in /usr/local/lib/python3.7/dist-packages (from pmdarima) (0.29.24)\n",
            "Collecting statsmodels!=0.12.0,>=0.11\n",
            "  Downloading statsmodels-0.13.0-cp37-cp37m-manylinux_2_17_x86_64.manylinux2014_x86_64.whl (9.8 MB)\n",
            "\u001b[K     |████████████████████████████████| 9.8 MB 54.4 MB/s \n",
            "\u001b[?25hRequirement already satisfied: numpy>=1.19.3 in /usr/local/lib/python3.7/dist-packages (from pmdarima) (1.19.5)\n",
            "Requirement already satisfied: joblib>=0.11 in /usr/local/lib/python3.7/dist-packages (from pmdarima) (1.0.1)\n",
            "Requirement already satisfied: scikit-learn>=0.22 in /usr/local/lib/python3.7/dist-packages (from pmdarima) (0.22.2.post1)\n",
            "Requirement already satisfied: pandas>=0.19 in /usr/local/lib/python3.7/dist-packages (from pmdarima) (1.1.5)\n",
            "Requirement already satisfied: scipy>=1.3.2 in /usr/local/lib/python3.7/dist-packages (from pmdarima) (1.4.1)\n",
            "Requirement already satisfied: urllib3 in /usr/local/lib/python3.7/dist-packages (from pmdarima) (1.24.3)\n",
            "Requirement already satisfied: pytz>=2017.2 in /usr/local/lib/python3.7/dist-packages (from pandas>=0.19->pmdarima) (2018.9)\n",
            "Requirement already satisfied: python-dateutil>=2.7.3 in /usr/local/lib/python3.7/dist-packages (from pandas>=0.19->pmdarima) (2.8.2)\n",
            "Requirement already satisfied: six>=1.5 in /usr/local/lib/python3.7/dist-packages (from python-dateutil>=2.7.3->pandas>=0.19->pmdarima) (1.15.0)\n",
            "Collecting patsy>=0.5.2\n",
            "  Downloading patsy-0.5.2-py2.py3-none-any.whl (233 kB)\n",
            "\u001b[K     |████████████████████████████████| 233 kB 75.1 MB/s \n",
            "\u001b[?25hInstalling collected packages: patsy, statsmodels, pmdarima\n",
            "  Attempting uninstall: patsy\n",
            "    Found existing installation: patsy 0.5.1\n",
            "    Uninstalling patsy-0.5.1:\n",
            "      Successfully uninstalled patsy-0.5.1\n",
            "  Attempting uninstall: statsmodels\n",
            "    Found existing installation: statsmodels 0.10.2\n",
            "    Uninstalling statsmodels-0.10.2:\n",
            "      Successfully uninstalled statsmodels-0.10.2\n",
            "Successfully installed patsy-0.5.2 pmdarima-1.8.3 statsmodels-0.13.0\n",
            "Collecting bayesian-optimization\n",
            "  Downloading bayesian-optimization-1.2.0.tar.gz (14 kB)\n",
            "Requirement already satisfied: numpy>=1.9.0 in /usr/local/lib/python3.7/dist-packages (from bayesian-optimization) (1.19.5)\n",
            "Requirement already satisfied: scipy>=0.14.0 in /usr/local/lib/python3.7/dist-packages (from bayesian-optimization) (1.4.1)\n",
            "Requirement already satisfied: scikit-learn>=0.18.0 in /usr/local/lib/python3.7/dist-packages (from bayesian-optimization) (0.22.2.post1)\n",
            "Requirement already satisfied: joblib>=0.11 in /usr/local/lib/python3.7/dist-packages (from scikit-learn>=0.18.0->bayesian-optimization) (1.0.1)\n",
            "Building wheels for collected packages: bayesian-optimization\n",
            "  Building wheel for bayesian-optimization (setup.py) ... \u001b[?25l\u001b[?25hdone\n",
            "  Created wheel for bayesian-optimization: filename=bayesian_optimization-1.2.0-py3-none-any.whl size=11685 sha256=59acfb19e8ff13808b220623b2d791efbee4f1c1f5716619f4ff73433d653271\n",
            "  Stored in directory: /root/.cache/pip/wheels/fd/9b/71/f127d694e02eb40bcf18c7ae9613b88a6be4470f57a8528c5b\n",
            "Successfully built bayesian-optimization\n",
            "Installing collected packages: bayesian-optimization\n",
            "Successfully installed bayesian-optimization-1.2.0\n",
            "Collecting gluonts\n",
            "  Downloading gluonts-0.8.1-py3-none-any.whl (2.1 MB)\n",
            "\u001b[K     |████████████████████████████████| 2.1 MB 7.0 MB/s \n",
            "\u001b[?25hRequirement already satisfied: toolz~=0.10 in /usr/local/lib/python3.7/dist-packages (from gluonts) (0.11.1)\n",
            "Requirement already satisfied: pandas~=1.0 in /usr/local/lib/python3.7/dist-packages (from gluonts) (1.1.5)\n",
            "Requirement already satisfied: numpy~=1.16 in /usr/local/lib/python3.7/dist-packages (from gluonts) (1.19.5)\n",
            "Collecting pydantic~=1.1\n",
            "  Downloading pydantic-1.8.2-cp37-cp37m-manylinux2014_x86_64.whl (10.1 MB)\n",
            "\u001b[K     |████████████████████████████████| 10.1 MB 45.4 MB/s \n",
            "\u001b[?25hRequirement already satisfied: holidays>=0.9 in /usr/local/lib/python3.7/dist-packages (from gluonts) (0.10.5.2)\n",
            "Requirement already satisfied: matplotlib~=3.0 in /usr/local/lib/python3.7/dist-packages (from gluonts) (3.2.2)\n",
            "Requirement already satisfied: tqdm~=4.23 in /usr/local/lib/python3.7/dist-packages (from gluonts) (4.62.3)\n",
            "Collecting typing-extensions~=3.10.0.0\n",
            "  Downloading typing_extensions-3.10.0.2-py3-none-any.whl (26 kB)\n",
            "Requirement already satisfied: korean-lunar-calendar in /usr/local/lib/python3.7/dist-packages (from holidays>=0.9->gluonts) (0.2.1)\n",
            "Requirement already satisfied: hijri-converter in /usr/local/lib/python3.7/dist-packages (from holidays>=0.9->gluonts) (2.2.1)\n",
            "Requirement already satisfied: six in /usr/local/lib/python3.7/dist-packages (from holidays>=0.9->gluonts) (1.15.0)\n",
            "Requirement already satisfied: convertdate>=2.3.0 in /usr/local/lib/python3.7/dist-packages (from holidays>=0.9->gluonts) (2.3.2)\n",
            "Requirement already satisfied: python-dateutil in /usr/local/lib/python3.7/dist-packages (from holidays>=0.9->gluonts) (2.8.2)\n",
            "Requirement already satisfied: pytz>=2014.10 in /usr/local/lib/python3.7/dist-packages (from convertdate>=2.3.0->holidays>=0.9->gluonts) (2018.9)\n",
            "Requirement already satisfied: pymeeus<=1,>=0.3.13 in /usr/local/lib/python3.7/dist-packages (from convertdate>=2.3.0->holidays>=0.9->gluonts) (0.5.11)\n",
            "Requirement already satisfied: kiwisolver>=1.0.1 in /usr/local/lib/python3.7/dist-packages (from matplotlib~=3.0->gluonts) (1.3.2)\n",
            "Requirement already satisfied: cycler>=0.10 in /usr/local/lib/python3.7/dist-packages (from matplotlib~=3.0->gluonts) (0.10.0)\n",
            "Requirement already satisfied: pyparsing!=2.0.4,!=2.1.2,!=2.1.6,>=2.0.1 in /usr/local/lib/python3.7/dist-packages (from matplotlib~=3.0->gluonts) (2.4.7)\n",
            "Installing collected packages: typing-extensions, pydantic, gluonts\n",
            "  Attempting uninstall: typing-extensions\n",
            "    Found existing installation: typing-extensions 3.7.4.3\n",
            "    Uninstalling typing-extensions-3.7.4.3:\n",
            "      Successfully uninstalled typing-extensions-3.7.4.3\n",
            "\u001b[31mERROR: pip's dependency resolver does not currently take into account all the packages that are installed. This behaviour is the source of the following dependency conflicts.\n",
            "tensorflow 2.6.0 requires typing-extensions~=3.7.4, but you have typing-extensions 3.10.0.2 which is incompatible.\u001b[0m\n",
            "Successfully installed gluonts-0.8.1 pydantic-1.8.2 typing-extensions-3.10.0.2\n",
            "Collecting mxnet\n",
            "  Downloading mxnet-1.8.0.post0-py2.py3-none-manylinux2014_x86_64.whl (46.9 MB)\n",
            "\u001b[K     |████████████████████████████████| 46.9 MB 52 kB/s \n",
            "\u001b[?25hCollecting graphviz<0.9.0,>=0.8.1\n",
            "  Downloading graphviz-0.8.4-py2.py3-none-any.whl (16 kB)\n",
            "Requirement already satisfied: requests<3,>=2.20.0 in /usr/local/lib/python3.7/dist-packages (from mxnet) (2.23.0)\n",
            "Requirement already satisfied: numpy<2.0.0,>1.16.0 in /usr/local/lib/python3.7/dist-packages (from mxnet) (1.19.5)\n",
            "Requirement already satisfied: urllib3!=1.25.0,!=1.25.1,<1.26,>=1.21.1 in /usr/local/lib/python3.7/dist-packages (from requests<3,>=2.20.0->mxnet) (1.24.3)\n",
            "Requirement already satisfied: chardet<4,>=3.0.2 in /usr/local/lib/python3.7/dist-packages (from requests<3,>=2.20.0->mxnet) (3.0.4)\n",
            "Requirement already satisfied: certifi>=2017.4.17 in /usr/local/lib/python3.7/dist-packages (from requests<3,>=2.20.0->mxnet) (2021.5.30)\n",
            "Requirement already satisfied: idna<3,>=2.5 in /usr/local/lib/python3.7/dist-packages (from requests<3,>=2.20.0->mxnet) (2.10)\n",
            "Installing collected packages: graphviz, mxnet\n",
            "  Attempting uninstall: graphviz\n",
            "    Found existing installation: graphviz 0.10.1\n",
            "    Uninstalling graphviz-0.10.1:\n",
            "      Successfully uninstalled graphviz-0.10.1\n",
            "Successfully installed graphviz-0.8.4 mxnet-1.8.0.post0\n"
          ]
        }
      ]
    },
    {
      "cell_type": "code",
      "metadata": {
        "id": "EhGitR4AjYjR",
        "colab": {
          "base_uri": "https://localhost:8080/"
        },
        "outputId": "4ad60fe3-e241-4e23-ed1c-a2cfe063b2d6"
      },
      "source": [
        "import pickle\n",
        "import warnings\n",
        "from math import sqrt\n",
        "\n",
        "import lightgbm as lgb\n",
        "import matplotlib as mpl\n",
        "import numpy as np\n",
        "import pandas as pd  # Basic library for all of our dataset operations\n",
        "import pmdarima as pm\n",
        "import tensorflow as tf\n",
        "import xgboost as xgb\n",
        "from bayes_opt import BayesianOptimization\n",
        "from fbprophet import Prophet\n",
        "from gluonts.dataset.common import ListDataset\n",
        "from gluonts.evaluation.backtest import make_evaluation_predictions\n",
        "from gluonts.model.deepar import DeepAREstimator\n",
        "from gluonts.mx.trainer import Trainer\n",
        "from matplotlib import pyplot as plt\n",
        "from sklearn import linear_model, svm\n",
        "from sklearn.ensemble import RandomForestRegressor\n",
        "from sklearn.metrics import make_scorer, mean_squared_error\n",
        "from sklearn.model_selection import GridSearchCV, cross_val_score\n",
        "from sklearn.neighbors import KNeighborsRegressor\n",
        "from sklearn.preprocessing import StandardScaler\n",
        "from statsmodels.tsa.ar_model import AR\n",
        "from statsmodels.tsa.arima_model import ARIMA, ARMA\n",
        "from statsmodels.tsa.holtwinters import ExponentialSmoothing, SimpleExpSmoothing\n",
        "from statsmodels.tsa.statespace.sarimax import SARIMAX\n",
        "from tqdm import tqdm"
      ],
      "execution_count": 3,
      "outputs": [
        {
          "output_type": "stream",
          "name": "stderr",
          "text": [
            "/usr/local/lib/python3.7/dist-packages/gluonts/json.py:46: UserWarning:\n",
            "\n",
            "Using `json`-module for json-handling. Consider installing one of `orjson`, `ujson` to speed up serialization and deserialization.\n",
            "\n"
          ]
        }
      ]
    },
    {
      "cell_type": "code",
      "metadata": {
        "id": "L-Mxb3na3acf"
      },
      "source": [
        "CLEANED_DATASET_PATH = \"/content/drive/MyDrive/Colab_Notebooks/online_retail/further_cleaned_retail_data.csv\"\n",
        "cleaned_data = pd.read_csv(CLEANED_DATASET_PATH)\n",
        "cleaned_data.drop(columns=['Unnamed: 0'], inplace=True)\n",
        "\n",
        "# Generate the aggregated weekly sales\n",
        "dated_retail_data = cleaned_data.copy()\n",
        "dated_retail_data[\"Date\"] = pd.to_datetime(cleaned_data[\"InvoiceDate\"]) - pd.to_timedelta(7, unit=\"d\")\n",
        "dated_retail_data.index = dated_retail_data[\"Date\"]\n",
        "#resampling to get the weekly sales and returns\n",
        "weekly_sale = dated_retail_data[dated_retail_data['Quantity']>0].Quantity.resample('W').sum()\n",
        "weekly_retail = dated_retail_data[dated_retail_data['Quantity']<0].Quantity.resample('W').sum().abs()\n",
        "\n",
        "series = weekly_sale"
      ],
      "execution_count": 4,
      "outputs": []
    },
    {
      "cell_type": "markdown",
      "metadata": {
        "id": "5kqB25bkRxow"
      },
      "source": [
        "## Preparing the Data"
      ]
    },
    {
      "cell_type": "code",
      "metadata": {
        "id": "eHxfdgYU-Vgx"
      },
      "source": [
        "df_series = pd.DataFrame(series)"
      ],
      "execution_count": 5,
      "outputs": []
    },
    {
      "cell_type": "markdown",
      "metadata": {
        "id": "xJqGci-Rb6oa"
      },
      "source": [
        "## Defining Metrics\n",
        "Metrics are used to measure the quality of predictions. To measure the accuracy of time-series forecasts, several methods exists. However, in this project there will be a focus the following metrisc:\n",
        "\n",
        "1. **R-squred**: This is also known as the coefficient of determination and it is denoted by:\n",
        "\n",
        "\\begin{align}\n",
        "        R^2 = 1 -\\frac{SS_{res}} {SS_{tot}}\n",
        "    \\end{align}\n",
        "\n",
        "  where,\n",
        "$SS_{res}$ is the sum of squared residuals from the predicted values, and $SS_{tot}$ is the sum of squared deviations of the dependent variable from the sample mean.\n",
        "\n",
        "2. **Mean Absolute Error**: This is the average of the absolute values of the deviation. This type of error measurement is useful when measuring prediction errors in the same unit as the original series.\n",
        "\n",
        "\\begin{align}\n",
        "        MAE = \\frac{\\sum_{i=0}^n |y_i - \\hat{y}_i|}{n}.\n",
        "    \\end{align}\n",
        "\n",
        "3. **Root Mean Squared Error (RMSE)**: This is the square root of the mean of the square of all the error. TThe use of RMSE is very common, and it is considered an excellent general-purpose error metric for numerical predictions.\n",
        "\n",
        "\\begin{align}\n",
        "        RMSE = \\sqrt{\\frac{1}{n}\\sum_{i=1}^n(S_i- O_i)^2}\n",
        "    \\end{align}\n",
        "\n",
        "where $O_i$ are the observations, $S_i$ predicted values of a variable, and $n$ is the number of observations avaialable for analysis. RMSE is a good measure for accuracy, but mainly used to compare prediction errors of different models or model configurations for a particular set of variable and not between variables because it is scale dependent.\n",
        "\n",
        "4. **Mean Absolute Percentage Error**:The mean absolute percentage error (MAPE), also known as mean absolute percentage deviation (MAPD), is a measure of prediction accuracy of a forecasting method in statistics. It usually expresses the accuracy as a ratio defined by the formula:\n",
        "\n",
        "\\begin{align}\n",
        "        MAPE = \\frac{100}{n}\\sum_{i=1}^n|{\\frac{A_t - F_t}{A_t}}|\n",
        "    \\end{align}\n",
        "\n",
        "where $A_t$ is the actual value and $F_t$ is the forecast value. Their difference is divided by the actual value $A_t$. The absolute value in this ratio is summed for every forecasted point in time and divided by the number of fitted points $n$.\n",
        "\n",
        "\n",
        "\n"
      ]
    },
    {
      "cell_type": "code",
      "metadata": {
        "id": "Y_Zr9PY5bsEf"
      },
      "source": [
        "import numpy as np\n",
        "from sklearn.metrics import r2_score\n",
        "\n",
        "EPSILON = 1e-10\n",
        "\n",
        "\n",
        "def _error(actual: np.ndarray, predicted: np.ndarray):\n",
        "    \"\"\"Simple error\"\"\"\n",
        "    return actual - predicted\n",
        "\n",
        "\n",
        "def _percentage_error(actual: np.ndarray, predicted: np.ndarray):\n",
        "    \"\"\"\n",
        "    Percentage error\n",
        "\n",
        "    Note: result is NOT multiplied by 100\n",
        "    \"\"\"\n",
        "    return _error(actual, predicted) / (actual + EPSILON)\n",
        "\n",
        "\n",
        "def _naive_forecasting(actual: np.ndarray, seasonality: int = 1):\n",
        "    \"\"\"Naive forecasting method which just repeats previous samples\"\"\"\n",
        "    return actual[:-seasonality]\n",
        "\n",
        "\n",
        "def _relative_error(\n",
        "    actual: np.ndarray, predicted: np.ndarray, benchmark: np.ndarray = None\n",
        "):\n",
        "    \"\"\"Relative Error\"\"\"\n",
        "    if benchmark is None or isinstance(benchmark, int):\n",
        "        # If no benchmark prediction provided - use naive forecasting\n",
        "        if not isinstance(benchmark, int):\n",
        "            seasonality = 1\n",
        "        else:\n",
        "            seasonality = benchmark\n",
        "        return _error(actual[seasonality:], predicted[seasonality:]) / (\n",
        "            _error(actual[seasonality:], _naive_forecasting(actual, seasonality))\n",
        "            + EPSILON\n",
        "        )\n",
        "\n",
        "    return _error(actual, predicted) / (_error(actual, benchmark) + EPSILON)\n",
        "\n",
        "\n",
        "def _bounded_relative_error(\n",
        "    actual: np.ndarray, predicted: np.ndarray, benchmark: np.ndarray = None\n",
        "):\n",
        "    \"\"\"Bounded Relative Error\"\"\"\n",
        "    if benchmark is None or isinstance(benchmark, int):\n",
        "        # If no benchmark prediction provided - use naive forecasting\n",
        "        if not isinstance(benchmark, int):\n",
        "            seasonality = 1\n",
        "        else:\n",
        "            seasonality = benchmark\n",
        "\n",
        "        abs_err = np.abs(_error(actual[seasonality:], predicted[seasonality:]))\n",
        "        abs_err_bench = np.abs(\n",
        "            _error(actual[seasonality:], _naive_forecasting(actual, seasonality))\n",
        "        )\n",
        "    else:\n",
        "        abs_err = np.abs(_error(actual, predicted))\n",
        "        abs_err_bench = np.abs(_error(actual, benchmark))\n",
        "\n",
        "    return abs_err / (abs_err + abs_err_bench + EPSILON)\n",
        "\n",
        "\n",
        "def _geometric_mean(a, axis=0, dtype=None):\n",
        "    \"\"\"Geometric mean\"\"\"\n",
        "    if not isinstance(a, np.ndarray):  # if not an ndarray object attempt to convert it\n",
        "        log_a = np.log(np.array(a, dtype=dtype))\n",
        "    elif dtype:  # Must change the default dtype allowing array type\n",
        "        if isinstance(a, np.ma.MaskedArray):\n",
        "            log_a = np.log(np.ma.asarray(a, dtype=dtype))\n",
        "        else:\n",
        "            log_a = np.log(np.asarray(a, dtype=dtype))\n",
        "    else:\n",
        "        log_a = np.log(a)\n",
        "    return np.exp(log_a.mean(axis=axis))\n",
        "\n",
        "\n",
        "def mse(actual: np.ndarray, predicted: np.ndarray):\n",
        "    \"\"\"Mean Squared Error\"\"\"\n",
        "    return np.mean(np.square(_error(actual, predicted)))\n",
        "\n",
        "\n",
        "def rmse(actual: np.ndarray, predicted: np.ndarray):\n",
        "    \"\"\"Root Mean Squared Error\"\"\"\n",
        "    return np.sqrt(mse(actual, predicted))\n",
        "\n",
        "\n",
        "def nrmse(actual: np.ndarray, predicted: np.ndarray):\n",
        "    \"\"\"Normalized Root Mean Squared Error\"\"\"\n",
        "    return rmse(actual, predicted) / (actual.max() - actual.min())\n",
        "\n",
        "\n",
        "def me(actual: np.ndarray, predicted: np.ndarray):\n",
        "    \"\"\"Mean Error\"\"\"\n",
        "    return np.mean(_error(actual, predicted))\n",
        "\n",
        "\n",
        "def mae(actual: np.ndarray, predicted: np.ndarray):\n",
        "    \"\"\"Mean Absolute Error\"\"\"\n",
        "    return np.mean(np.abs(_error(actual, predicted)))\n",
        "\n",
        "\n",
        "mad = mae  # Mean Absolute Deviation (it is the same as MAE)\n",
        "\n",
        "\n",
        "def gmae(actual: np.ndarray, predicted: np.ndarray):\n",
        "    \"\"\"Geometric Mean Absolute Error\"\"\"\n",
        "    return _geometric_mean(np.abs(_error(actual, predicted)))\n",
        "\n",
        "\n",
        "def mdae(actual: np.ndarray, predicted: np.ndarray):\n",
        "    \"\"\"Median Absolute Error\"\"\"\n",
        "    return np.median(np.abs(_error(actual, predicted)))\n",
        "\n",
        "\n",
        "def mpe(actual: np.ndarray, predicted: np.ndarray):\n",
        "    \"\"\"Mean Percentage Error\"\"\"\n",
        "    return np.mean(_percentage_error(actual, predicted))\n",
        "\n",
        "\n",
        "def mape(actual: np.ndarray, predicted: np.ndarray):\n",
        "    \"\"\"\n",
        "    Mean Absolute Percentage Error\n",
        "\n",
        "    Properties:\n",
        "        + Easy to interpret\n",
        "        + Scale independent\n",
        "        - Biased, not symmetric\n",
        "        - Undefined when actual[t] == 0\n",
        "\n",
        "    Note: result is NOT multiplied by 100\n",
        "    \"\"\"\n",
        "    return np.mean(np.abs(_percentage_error(actual, predicted)))\n",
        "\n",
        "\n",
        "def mdape(actual: np.ndarray, predicted: np.ndarray):\n",
        "    \"\"\"\n",
        "    Median Absolute Percentage Error\n",
        "\n",
        "    Note: result is NOT multiplied by 100\n",
        "    \"\"\"\n",
        "    return np.median(np.abs(_percentage_error(actual, predicted)))\n",
        "\n",
        "\n",
        "def smape(actual: np.ndarray, predicted: np.ndarray):\n",
        "    \"\"\"\n",
        "    Symmetric Mean Absolute Percentage Error\n",
        "\n",
        "    Note: result is NOT multiplied by 100\n",
        "    \"\"\"\n",
        "    return np.mean(\n",
        "        2.0\n",
        "        * np.abs(actual - predicted)\n",
        "        / ((np.abs(actual) + np.abs(predicted)) + EPSILON)\n",
        "    )\n",
        "\n",
        "\n",
        "def smdape(actual: np.ndarray, predicted: np.ndarray):\n",
        "    \"\"\"\n",
        "    Symmetric Median Absolute Percentage Error\n",
        "\n",
        "    Note: result is NOT multiplied by 100\n",
        "    \"\"\"\n",
        "    return np.median(\n",
        "        2.0\n",
        "        * np.abs(actual - predicted)\n",
        "        / ((np.abs(actual) + np.abs(predicted)) + EPSILON)\n",
        "    )\n",
        "\n",
        "\n",
        "def maape(actual: np.ndarray, predicted: np.ndarray):\n",
        "    \"\"\"\n",
        "    Mean Arctangent Absolute Percentage Error\n",
        "\n",
        "    Note: result is NOT multiplied by 100\n",
        "    \"\"\"\n",
        "    return np.mean(np.arctan(np.abs((actual - predicted) / (actual + EPSILON))))\n",
        "\n",
        "\n",
        "def mase(actual: np.ndarray, predicted: np.ndarray, seasonality: int = 1):\n",
        "    \"\"\"\n",
        "    Mean Absolute Scaled Error\n",
        "\n",
        "    Baseline (benchmark) is computed with naive forecasting (shifted by @seasonality)\n",
        "    \"\"\"\n",
        "    return mae(actual, predicted) / mae(\n",
        "        actual[seasonality:], _naive_forecasting(actual, seasonality)\n",
        "    )\n",
        "\n",
        "\n",
        "def std_ae(actual: np.ndarray, predicted: np.ndarray):\n",
        "    \"\"\"Normalized Absolute Error\"\"\"\n",
        "    __mae = mae(actual, predicted)\n",
        "    return np.sqrt(\n",
        "        np.sum(np.square(_error(actual, predicted) - __mae)) / (len(actual) - 1)\n",
        "    )\n",
        "\n",
        "\n",
        "def std_ape(actual: np.ndarray, predicted: np.ndarray):\n",
        "    \"\"\"Normalized Absolute Percentage Error\"\"\"\n",
        "    __mape = mape(actual, predicted)\n",
        "    return np.sqrt(\n",
        "        np.sum(np.square(_percentage_error(actual, predicted) - __mape))\n",
        "        / (len(actual) - 1)\n",
        "    )\n",
        "\n",
        "\n",
        "def rmspe(actual: np.ndarray, predicted: np.ndarray):\n",
        "    \"\"\"\n",
        "    Root Mean Squared Percentage Error\n",
        "\n",
        "    Note: result is NOT multiplied by 100\n",
        "    \"\"\"\n",
        "    return np.sqrt(np.mean(np.square(_percentage_error(actual, predicted))))\n",
        "\n",
        "\n",
        "def rmdspe(actual: np.ndarray, predicted: np.ndarray):\n",
        "    \"\"\"\n",
        "    Root Median Squared Percentage Error\n",
        "\n",
        "    Note: result is NOT multiplied by 100\n",
        "    \"\"\"\n",
        "    return np.sqrt(np.median(np.square(_percentage_error(actual, predicted))))\n",
        "\n",
        "\n",
        "def rmsse(actual: np.ndarray, predicted: np.ndarray, seasonality: int = 1):\n",
        "    \"\"\"Root Mean Squared Scaled Error\"\"\"\n",
        "    q = np.abs(_error(actual, predicted)) / mae(\n",
        "        actual[seasonality:], _naive_forecasting(actual, seasonality)\n",
        "    )\n",
        "    return np.sqrt(np.mean(np.square(q)))\n",
        "\n",
        "\n",
        "def inrse(actual: np.ndarray, predicted: np.ndarray):\n",
        "    \"\"\"Integral Normalized Root Squared Error\"\"\"\n",
        "    return np.sqrt(\n",
        "        np.sum(np.square(_error(actual, predicted)))\n",
        "        / np.sum(np.square(actual - np.mean(actual)))\n",
        "    )\n",
        "\n",
        "\n",
        "def rrse(actual: np.ndarray, predicted: np.ndarray):\n",
        "    \"\"\"Root Relative Squared Error\"\"\"\n",
        "    return np.sqrt(\n",
        "        np.sum(np.square(actual - predicted))\n",
        "        / np.sum(np.square(actual - np.mean(actual)))\n",
        "    )\n",
        "\n",
        "\n",
        "def mre(actual: np.ndarray, predicted: np.ndarray, benchmark: np.ndarray = None):\n",
        "    \"\"\"Mean Relative Error\"\"\"\n",
        "    return np.mean(_relative_error(actual, predicted, benchmark))\n",
        "\n",
        "\n",
        "def rae(actual: np.ndarray, predicted: np.ndarray):\n",
        "    \"\"\"Relative Absolute Error (aka Approximation Error)\"\"\"\n",
        "    return np.sum(np.abs(actual - predicted)) / (\n",
        "        np.sum(np.abs(actual - np.mean(actual))) + EPSILON\n",
        "    )\n",
        "\n",
        "\n",
        "def mrae(actual: np.ndarray, predicted: np.ndarray, benchmark: np.ndarray = None):\n",
        "    \"\"\"Mean Relative Absolute Error\"\"\"\n",
        "    return np.mean(np.abs(_relative_error(actual, predicted, benchmark)))\n",
        "\n",
        "\n",
        "def mdrae(actual: np.ndarray, predicted: np.ndarray, benchmark: np.ndarray = None):\n",
        "    \"\"\"Median Relative Absolute Error\"\"\"\n",
        "    return np.median(np.abs(_relative_error(actual, predicted, benchmark)))\n",
        "\n",
        "\n",
        "def gmrae(actual: np.ndarray, predicted: np.ndarray, benchmark: np.ndarray = None):\n",
        "    \"\"\"Geometric Mean Relative Absolute Error\"\"\"\n",
        "    return _geometric_mean(np.abs(_relative_error(actual, predicted, benchmark)))\n",
        "\n",
        "\n",
        "def mbrae(actual: np.ndarray, predicted: np.ndarray, benchmark: np.ndarray = None):\n",
        "    \"\"\"Mean Bounded Relative Absolute Error\"\"\"\n",
        "    return np.mean(_bounded_relative_error(actual, predicted, benchmark))\n",
        "\n",
        "\n",
        "def umbrae(actual: np.ndarray, predicted: np.ndarray, benchmark: np.ndarray = None):\n",
        "    \"\"\"Unscaled Mean Bounded Relative Absolute Error\"\"\"\n",
        "    __mbrae = mbrae(actual, predicted, benchmark)\n",
        "    return __mbrae / (1 - __mbrae)\n",
        "\n",
        "\n",
        "def mda(actual: np.ndarray, predicted: np.ndarray):\n",
        "    \"\"\"Mean Directional Accuracy\"\"\"\n",
        "    return np.mean(\n",
        "        (\n",
        "            np.sign(actual[1:] - actual[:-1]) == np.sign(predicted[1:] - predicted[:-1])\n",
        "        ).astype(int)\n",
        "    )\n",
        "\n",
        "\n",
        "def bias(actual: np.ndarray, predicted: np.ndarray):\n",
        "    \"\"\"Mean forecast error(or Forecast Bias)\"\"\"\n",
        "    return np.mean(actual - predicted)\n",
        "\n",
        "\n",
        "METRICS = {\n",
        "    \"mse\": mse,\n",
        "    \"rmse\": rmse,\n",
        "    \"nrmse\": nrmse,\n",
        "    \"me\": me,\n",
        "    \"mae\": mae,\n",
        "    \"mad\": mad,\n",
        "    \"gmae\": gmae,\n",
        "    \"mdae\": mdae,\n",
        "    \"mpe\": mpe,\n",
        "    \"mape\": mape,\n",
        "    \"mdape\": mdape,\n",
        "    \"smape\": smape,\n",
        "    \"smdape\": smdape,\n",
        "    \"maape\": maape,\n",
        "    \"mase\": mase,\n",
        "    \"std_ae\": std_ae,\n",
        "    \"std_ape\": std_ape,\n",
        "    \"rmspe\": rmspe,\n",
        "    \"rmdspe\": rmdspe,\n",
        "    \"rmsse\": rmsse,\n",
        "    \"inrse\": inrse,\n",
        "    \"rrse\": rrse,\n",
        "    \"mre\": mre,\n",
        "    \"rae\": rae,\n",
        "    \"mrae\": mrae,\n",
        "    \"mdrae\": mdrae,\n",
        "    \"gmrae\": gmrae,\n",
        "    \"mbrae\": mbrae,\n",
        "    \"umbrae\": umbrae,\n",
        "    \"mda\": mda,\n",
        "    \"bias\": bias,\n",
        "    \"r2\": r2_score,\n",
        "}\n",
        "\n",
        "\n",
        "def evaluate(\n",
        "    actual: np.ndarray, predicted: np.ndarray, \n",
        "    metrics=(\"mae\", \"rmse\", \"mape\", \"r2\")\n",
        "):\n",
        "    results = {}\n",
        "    for name in metrics:\n",
        "        try:\n",
        "            results[name] = METRICS[name](actual, predicted)\n",
        "        except Exception as err:\n",
        "            results[name] = np.nan\n",
        "            print(\"Unable to compute metric {0}: {1}\".format(name, err))\n",
        "    return results\n",
        "\n",
        "\n",
        "def evaluate_all(actual: np.ndarray, predicted: np.ndarray):\n",
        "    return evaluate(actual, predicted, metrics=set(METRICS.keys()))"
      ],
      "execution_count": null,
      "outputs": []
    },
    {
      "cell_type": "code",
      "metadata": {
        "colab": {
          "base_uri": "https://localhost:8080/"
        },
        "id": "P1Q9m4L9NOB_",
        "outputId": "8b295238-cfce-4fce-c25c-12eb5585f93d"
      },
      "source": [
        "resultsDict = {}\n",
        "predictionsDict = {}\n",
        "\n",
        "SPLIT_DATE = '2011-11-06'\n",
        "train_df = df_series.loc[df_series.index <= SPLIT_DATE]\n",
        "test_df = df_series.loc[df_series.index > SPLIT_DATE]\n",
        "print(f\"{len(train_df)} weeks of train data \\n {len(test_df)} weeks of test data\")"
      ],
      "execution_count": null,
      "outputs": [
        {
          "output_type": "stream",
          "name": "stdout",
          "text": [
            "102 weeks of train data \n",
            " 4 weeks of test data\n"
          ]
        }
      ]
    },
    {
      "cell_type": "code",
      "metadata": {
        "id": "jLe0j28oVV6P"
      },
      "source": [
        "# Baseline Model\n",
        "mean = train_df.Quantity.mean()\n",
        "mean = np.array([mean for u in range(len(test_df))])\n",
        "resultsDict['Naive mean'] = evaluate(test_df.Quantity, mean)\n",
        "predictionsDict['Naive mean'] = mean\n"
      ],
      "execution_count": null,
      "outputs": []
    },
    {
      "cell_type": "markdown",
      "metadata": {
        "id": "wb-KORtFc_Iv"
      },
      "source": [
        "## Univariate Time Series Analysis\n",
        "In this section time-series forecasting methods that only look at the target variable will be used."
      ]
    },
    {
      "cell_type": "markdown",
      "metadata": {
        "id": "wvAajINIgxP-"
      },
      "source": [
        "### Method 1: The Simple Exponential Smoothing\n",
        "\n",
        "This method models the next time step as an exponentially weighted linear function of observations at prior time steps"
      ]
    },
    {
      "cell_type": "code",
      "metadata": {
        "colab": {
          "base_uri": "https://localhost:8080/"
        },
        "id": "AH0KJwNdgkBq",
        "outputId": "79f498c4-0ffc-4ef7-f8b3-aa60d3fa657d"
      },
      "source": [
        "# Walk throught the test data, training and predicting 1 day ahead for all the test data\n",
        "index = len(train_df)\n",
        "yhat = list()\n",
        "for t in tqdm(range(len(test_df.Quantity))):\n",
        "    temp_train = df_series[:len(train_df)+t]\n",
        "    model = SimpleExpSmoothing(temp_train.Quantity)\n",
        "    model_fit = model.fit()\n",
        "    predictions = model_fit.predict(start=len(temp_train), end=len(temp_train))\n",
        "    yhat = yhat + [predictions]\n",
        "\n",
        "yhat = pd.concat(yhat)\n",
        "resultsDict['SES'] = evaluate(test_df.Quantity, yhat.values)\n",
        "predictionsDict['SES'] = yhat.values"
      ],
      "execution_count": null,
      "outputs": [
        {
          "output_type": "stream",
          "name": "stderr",
          "text": [
            "100%|██████████| 4/4 [00:00<00:00, 85.48it/s]\n"
          ]
        }
      ]
    },
    {
      "cell_type": "code",
      "metadata": {
        "colab": {
          "base_uri": "https://localhost:8080/"
        },
        "id": "xCmNLjk-yNrR",
        "outputId": "7efcc937-6027-4b34-95fd-a7040a07e192"
      },
      "source": [
        "resultsDict"
      ],
      "execution_count": null,
      "outputs": [
        {
          "output_type": "execute_result",
          "data": {
            "text/plain": [
              "{'Naive mean': {'mae': 64380.63725490196,\n",
              "  'mape': 0.40404962183236276,\n",
              "  'r2': -23.833941831061757,\n",
              "  'rmse': 65717.36828150737},\n",
              " 'SES': {'mae': 13697.959852637745,\n",
              "  'mape': 0.08706640386845278,\n",
              "  'r2': -0.4372433819644075,\n",
              "  'rmse': 15809.658623520598}}"
            ]
          },
          "metadata": {},
          "execution_count": 31
        }
      ]
    },
    {
      "cell_type": "markdown",
      "metadata": {
        "id": "mo67x6erOAHw"
      },
      "source": [
        "### Holt Winter’s Exponential Smoothing (HWES)\n",
        "\n",
        "Description: "
      ]
    },
    {
      "cell_type": "code",
      "metadata": {
        "colab": {
          "base_uri": "https://localhost:8080/"
        },
        "id": "rLmqXLq3ySme",
        "outputId": "cac46a48-791c-4351-c3cc-4a2e29ae23bb"
      },
      "source": [
        "# Walk throught the test data, training and predicting 1 day ahead for all the test data\n",
        "index = len(train_df)\n",
        "yhat = list()\n",
        "for t in tqdm(range(len(test_df.Quantity))):\n",
        "    temp_train = df_series[:len(train_df)+t]\n",
        "    model = ExponentialSmoothing(temp_train.Quantity)\n",
        "    model_fit = model.fit()\n",
        "    predictions = model_fit.predict(start=len(temp_train), end=len(temp_train))\n",
        "    yhat = yhat + [predictions]\n",
        "\n",
        "yhat = pd.concat(yhat)\n",
        "resultsDict['HWES'] = evaluate(test_df.Quantity, yhat.values)\n",
        "predictionsDict['HWES'] = yhat.values"
      ],
      "execution_count": null,
      "outputs": [
        {
          "output_type": "stream",
          "name": "stderr",
          "text": [
            "100%|██████████| 4/4 [00:00<00:00, 121.18it/s]\n"
          ]
        }
      ]
    },
    {
      "cell_type": "markdown",
      "metadata": {
        "id": "T3jk5X-WOF2X"
      },
      "source": [
        "### Autoregression (AR)\n",
        "The autoregression (AR) method models the next step in the sequence as a linear function of the observations at prior time steps. Parameters of the model:\n",
        "\n",
        "- __Number of AR (Auto-Regressive) terms (p):__ p is the parameter associated with the auto-regressive aspect of the model, which incorporates past values i.e lags of dependent variable. For instance if p is 5, the predictors for x(t) will be x(t-1)….x(t-5)."
      ]
    },
    {
      "cell_type": "code",
      "metadata": {
        "colab": {
          "base_uri": "https://localhost:8080/"
        },
        "id": "1fgrhEogOVqx",
        "outputId": "5c59b401-ea97-4cac-f184-5db2ba8ab1a8"
      },
      "source": [
        "# Walk throught the test data, training and predicting 1 day ahead for all the test data\n",
        "index = len(train_df)\n",
        "yhat = list()\n",
        "for t in tqdm(range(len(test_df.Quantity))):\n",
        "    temp_train = df_series[:len(train_df)+t]\n",
        "    model = AR(temp_train.Quantity)\n",
        "    model_fit = model.fit()\n",
        "    predictions = model_fit.predict(start=len(temp_train), end=len(temp_train),\n",
        "                                    dynamic=False)\n",
        "    yhat = yhat + [predictions]\n",
        "\n",
        "yhat = pd.concat(yhat)\n",
        "resultsDict['AR'] = evaluate(test_df.Quantity, yhat.values)\n",
        "predictionsDict['AR'] = yhat.values"
      ],
      "execution_count": null,
      "outputs": [
        {
          "output_type": "stream",
          "name": "stderr",
          "text": [
            "100%|██████████| 4/4 [00:00<00:00, 90.13it/s]\n"
          ]
        }
      ]
    },
    {
      "cell_type": "code",
      "metadata": {
        "colab": {
          "base_uri": "https://localhost:8080/"
        },
        "id": "vdNcxg6zURpu",
        "outputId": "249fba0e-c192-424b-b000-c22f228f98a4"
      },
      "source": [
        "resultsDict"
      ],
      "execution_count": null,
      "outputs": [
        {
          "output_type": "execute_result",
          "data": {
            "text/plain": [
              "{'AR': {'mae': 21274.449418795593,\n",
              "  'mape': 0.13224040117406527,\n",
              "  'r2': -1.8812488878038707,\n",
              "  'rmse': 22384.516652655242},\n",
              " 'HWES': {'mae': 13697.959852637745,\n",
              "  'mape': 0.08706640386845278,\n",
              "  'r2': -0.4372433819644075,\n",
              "  'rmse': 15809.658623520598},\n",
              " 'Naive mean': {'mae': 64380.63725490196,\n",
              "  'mape': 0.40404962183236276,\n",
              "  'r2': -23.833941831061757,\n",
              "  'rmse': 65717.36828150737},\n",
              " 'SES': {'mae': 13697.959852637745,\n",
              "  'mape': 0.08706640386845278,\n",
              "  'r2': -0.4372433819644075,\n",
              "  'rmse': 15809.658623520598}}"
            ]
          },
          "metadata": {},
          "execution_count": 21
        }
      ]
    },
    {
      "cell_type": "code",
      "metadata": {
        "colab": {
          "base_uri": "https://localhost:8080/",
          "height": 430
        },
        "id": "KuXRNbenU8A2",
        "outputId": "08ddb14d-c4cd-4b82-b56f-1882a8996357"
      },
      "source": [
        "plt.plot(test_df.Quantity.values, label='Original')\n",
        "plt.plot(yhat.values, color='red', label='AR predicted')\n",
        "plt.legend()"
      ],
      "execution_count": null,
      "outputs": [
        {
          "output_type": "execute_result",
          "data": {
            "text/plain": [
              "<matplotlib.legend.Legend at 0x7fc3d847c810>"
            ]
          },
          "metadata": {},
          "execution_count": 22
        },
        {
          "output_type": "display_data",
          "data": {
            "image/png": "[encoded data removed]",
            "text/plain": [
              "<Figure size 1296x576 with 1 Axes>"
            ]
          },
          "metadata": {
            "needs_background": "light"
          }
        }
      ]
    },
    {
      "cell_type": "code",
      "metadata": {
        "colab": {
          "base_uri": "https://localhost:8080/"
        },
        "id": "b2UIlicahDdC",
        "outputId": "235e9f81-c06f-4fb9-85e1-ff27c1a28974"
      },
      "source": [
        "# Walk throught the test data, training and predicting 1 day ahead for all the test data\n",
        "index = len(train_df)\n",
        "yhat = list()\n",
        "for t in tqdm(range(len(test_df.Quantity))):\n",
        "  print(t)"
      ],
      "execution_count": null,
      "outputs": [
        {
          "output_type": "stream",
          "name": "stderr",
          "text": [
            "100%|██████████| 4/4 [00:00<00:00, 1292.74it/s]"
          ]
        },
        {
          "output_type": "stream",
          "name": "stdout",
          "text": [
            "0\n",
            "1\n",
            "2\n",
            "3\n"
          ]
        },
        {
          "output_type": "stream",
          "name": "stderr",
          "text": [
            "\n"
          ]
        }
      ]
    },
    {
      "cell_type": "markdown",
      "metadata": {
        "id": "l4KTvXlhkIu3"
      },
      "source": [
        "## Moving Average (MA)\n",
        "\n",
        "The Moving Average (MA) method models the next step in the sequence as the average of a window of observations at prior time steps. Parameters of the model:\n",
        "\n",
        "Number of MA (Moving Average) terms (q): q is size of the moving average part window of the model i.e. lagged forecast errors in prediction equation. For instance if q is 5, the predictors for x(t) will be e(t-1)….e(t-5) where e(i) is the difference between the moving average at ith instant and actual value."
      ]
    },
    {
      "cell_type": "code",
      "metadata": {
        "colab": {
          "base_uri": "https://localhost:8080/"
        },
        "id": "eUYr6BkphFtz",
        "outputId": "eb2b541c-50c4-45db-93ac-dcd0aa4f7d78"
      },
      "source": [
        "# Walk throught the test data, training and predicting 1 day ahead for all the test data\n",
        "index = len(train_df)\n",
        "yhat = list()\n",
        "for t in tqdm(range(len(test_df.Quantity))):\n",
        "    temp_train = df_series[:len(train_df)+t]\n",
        "    model = ARMA(temp_train.Quantity, order=(0,1))\n",
        "    model_fit = model.fit()\n",
        "    predictions = model_fit.predict(start=len(temp_train), end=len(temp_train),\n",
        "                                    dynamic=False)\n",
        "    yhat = yhat + [predictions]\n",
        "\n",
        "yhat = pd.concat(yhat)\n",
        "resultsDict['MA'] = evaluate(test_df.Quantity, yhat.values)\n",
        "predictionsDict['MA'] = yhat.values"
      ],
      "execution_count": null,
      "outputs": [
        {
          "output_type": "stream",
          "name": "stderr",
          "text": [
            "100%|██████████| 4/4 [00:00<00:00, 21.81it/s]\n"
          ]
        }
      ]
    },
    {
      "cell_type": "code",
      "metadata": {
        "colab": {
          "base_uri": "https://localhost:8080/"
        },
        "id": "1LBLUg3UhJwT",
        "outputId": "8bf7e41e-04f0-4a97-b7c9-8dcc9fe55d26"
      },
      "source": [
        "resultsDict"
      ],
      "execution_count": null,
      "outputs": [
        {
          "output_type": "execute_result",
          "data": {
            "text/plain": [
              "{'AR': {'mae': 21274.449418795593,\n",
              "  'mape': 0.13224040117406527,\n",
              "  'r2': -1.8812488878038707,\n",
              "  'rmse': 22384.516652655242},\n",
              " 'HWES': {'mae': 13697.959852637745,\n",
              "  'mape': 0.08706640386845278,\n",
              "  'r2': -0.4372433819644075,\n",
              "  'rmse': 15809.658623520598},\n",
              " 'MA': {'mae': 39521.41047490899,\n",
              "  'mape': 0.24710985372592503,\n",
              "  'r2': -8.765039332636457,\n",
              "  'rmse': 41209.21408696808},\n",
              " 'Naive mean': {'mae': 64380.63725490196,\n",
              "  'mape': 0.40404962183236276,\n",
              "  'r2': -23.833941831061757,\n",
              "  'rmse': 65717.36828150737},\n",
              " 'SES': {'mae': 13697.959852637745,\n",
              "  'mape': 0.08706640386845278,\n",
              "  'r2': -0.4372433819644075,\n",
              "  'rmse': 15809.658623520598}}"
            ]
          },
          "metadata": {},
          "execution_count": 24
        }
      ]
    },
    {
      "cell_type": "code",
      "metadata": {
        "id": "yr09gsr0mS66"
      },
      "source": [
        "def plot_ma_values(column_name, yhat, title):\n",
        "  predicted_dates = list(range(2040, 2056,2))\n",
        "  fig, ax = plt.subplots()\n",
        "  plt.plot(test_df[column_name].values, label='Original')\n",
        "  plt.plot(yhat.values, color='red', label='MA predicted')\n",
        "  plt.title(f'Moving Average Forecast For {title}')\n",
        "  plt.ylabel(\"Quantity\")\n",
        "  plt.xlabel(\"Week\")\n",
        "  ax.set_xticklabels(predicted_dates, rotation=90)\n",
        "  plt.legend();\n",
        "  plt.savefig(f\"{FOLDER_PATH}{title}_moving_average\")"
      ],
      "execution_count": null,
      "outputs": []
    },
    {
      "cell_type": "code",
      "metadata": {
        "colab": {
          "base_uri": "https://localhost:8080/",
          "height": 445
        },
        "id": "2cBJwersmx0y",
        "outputId": "e9b5f6ab-a30e-45ae-ae7d-9f7ba003c4bd"
      },
      "source": [
        "plot_ma_values(\"Quantity\", yhat, \"Quantity\")"
      ],
      "execution_count": null,
      "outputs": [
        {
          "output_type": "display_data",
          "data": {
            "image/png": "[encoded data removed]",
            "text/plain": [
              "<Figure size 1296x576 with 1 Axes>"
            ]
          },
          "metadata": {
            "needs_background": "light"
          }
        }
      ]
    },
    {
      "cell_type": "markdown",
      "metadata": {
        "id": "ijrX6os6npY_"
      },
      "source": [
        "### Autoregressive Moving Average (ARMA)\n",
        "\n",
        "This method will basically join the previous two `AR` and `MA`. Model parameters will be the sum of the two.\n",
        "\n",
        "- __Number of AR (Auto-Regressive) terms (p):__ p is the parameter associated with the auto-regressive aspect of the model, which incorporates past values i.e lags of dependent variable. For instance if p is 5, the predictors for x(t) will be x(t-1)….x(t-5).\n",
        "- __Number of MA (Moving Average) terms (q):__ q is size of the moving average part window of the model i.e. lagged forecast errors in prediction equation. For instance if q is 5, the predictors for x(t) will be e(t-1)….e(t-5) where e(i) is the difference between the moving average at ith instant and actual value.\n",
        "\n"
      ]
    },
    {
      "cell_type": "code",
      "metadata": {
        "colab": {
          "base_uri": "https://localhost:8080/"
        },
        "id": "DVGxdCennpH3",
        "outputId": "1d41021a-d9e2-4cee-bbd0-45f0bd4ea247"
      },
      "source": [
        "# Walk throught the test data, training and predicting 1 day ahead for all the test data\n",
        "index = len(train_df)\n",
        "yhat = list()\n",
        "for t in tqdm(range(len(test_df.Quantity))):\n",
        "    temp_train = df_series[:len(train_df)+t]\n",
        "    model = ARMA(temp_train.Quantity, order=(1,1))\n",
        "    model_fit = model.fit()\n",
        "    predictions = model_fit.predict(start=len(temp_train), end=len(temp_train),\n",
        "                                    dynamic=False)\n",
        "    yhat = yhat + [predictions]\n",
        "\n",
        "yhat = pd.concat(yhat)\n",
        "resultsDict['ARMA'] = evaluate(test_df.Quantity, yhat.values)\n",
        "predictionsDict['ARMA'] = yhat.values"
      ],
      "execution_count": null,
      "outputs": [
        {
          "output_type": "stream",
          "name": "stderr",
          "text": [
            "100%|██████████| 4/4 [00:00<00:00,  8.62it/s]\n"
          ]
        }
      ]
    },
    {
      "cell_type": "code",
      "metadata": {
        "colab": {
          "base_uri": "https://localhost:8080/"
        },
        "id": "weDN4dr48r_O",
        "outputId": "6fa2cae2-808a-4e60-d5ad-94a9465d10bc"
      },
      "source": [
        "resultsDict"
      ],
      "execution_count": null,
      "outputs": [
        {
          "output_type": "execute_result",
          "data": {
            "text/plain": [
              "{'AR': {'mae': 21274.449418795593,\n",
              "  'mape': 0.13224040117406527,\n",
              "  'r2': -1.8812488878038707,\n",
              "  'rmse': 22384.516652655242},\n",
              " 'ARMA': {'mae': 17967.872025480618,\n",
              "  'mape': 0.11018538935044533,\n",
              "  'r2': -1.5848853412068404,\n",
              "  'rmse': 21202.055910589734},\n",
              " 'HWES': {'mae': 13697.959852637745,\n",
              "  'mape': 0.08706640386845278,\n",
              "  'r2': -0.4372433819644075,\n",
              "  'rmse': 15809.658623520598},\n",
              " 'MA': {'mae': 39521.41047490899,\n",
              "  'mape': 0.24710985372592503,\n",
              "  'r2': -8.765039332636457,\n",
              "  'rmse': 41209.21408696808},\n",
              " 'Naive mean': {'mae': 64380.63725490196,\n",
              "  'mape': 0.40404962183236276,\n",
              "  'r2': -23.833941831061757,\n",
              "  'rmse': 65717.36828150737},\n",
              " 'SES': {'mae': 13697.959852637745,\n",
              "  'mape': 0.08706640386845278,\n",
              "  'r2': -0.4372433819644075,\n",
              "  'rmse': 15809.658623520598}}"
            ]
          },
          "metadata": {},
          "execution_count": 28
        }
      ]
    },
    {
      "cell_type": "code",
      "metadata": {
        "colab": {
          "base_uri": "https://localhost:8080/",
          "height": 521
        },
        "id": "_gYJ0oas8ygo",
        "outputId": "3643866a-8816-4598-ad58-7c8861144232"
      },
      "source": [
        "plt.plot(test_df.Quantity.values, label='Original')\n",
        "plt.plot(yhat.values, color='red', label='ARMA predicted')\n",
        "plt.legend()"
      ],
      "execution_count": null,
      "outputs": [
        {
          "output_type": "execute_result",
          "data": {
            "text/plain": [
              "<matplotlib.legend.Legend at 0x7fc3d62cab50>"
            ]
          },
          "metadata": {},
          "execution_count": 29
        },
        {
          "output_type": "display_data",
          "data": {
            "image/png": "[encoded data removed]",
            "text/plain": [
              "<Figure size 1296x576 with 1 Axes>"
            ]
          },
          "metadata": {
            "needs_background": "light"
          }
        }
      ]
    },
    {
      "cell_type": "markdown",
      "metadata": {
        "id": "dM7_WS0-_Vk1"
      },
      "source": [
        "### Autoregressive integrated moving average (ARIMA)\n",
        "\n",
        "In an ARIMA model there are 3 parameters that are used to help model the major aspects of a times series: seasonality, trend, and noise. These parameters are labeled p,d,and q.\n",
        "\n",
        "* Number of AR (Auto-Regressive) terms (p): p is the parameter associated with the auto-regressive aspect of the model, which incorporates past values i.e lags of dependent variable. For instance if p is 5, the predictors for x(t) will be x(t-1)….x(t-5).\n",
        "* Number of Differences (d): d is the parameter associated with the integrated part of the model, which effects the amount of differencing to apply to a time series.\n",
        "* Number of MA (Moving Average) terms (q): q is size of the moving average part window of the model i.e. lagged forecast errors in prediction equation. For instance if q is 5, the predictors for x(t) will be e(t-1)….e(t-5) where e(i) is the difference between the moving average at ith instant and actual value.\n",
        "\n",
        "**Tuning ARIMA parameters**\n",
        "\n",
        "Non stationarity series will require level of differencing (d) >0 in ARIMA\n",
        "Select the lag values for the Autoregression (AR) and Moving Average (MA) parameters, p and q respectively, using PACF, ACF plots\n",
        "AUTOARIMA\n",
        "\n",
        "Note: A problem with ARIMA is that it does not support seasonal data. That is a time series with a repeating cycle. ARIMA expects data that is either not seasonal or has the seasonal component removed, e.g. seasonally adjusted via methods such as seasonal differencing."
      ]
    },
    {
      "cell_type": "code",
      "metadata": {
        "colab": {
          "base_uri": "https://localhost:8080/"
        },
        "id": "TbqftOW687Ip",
        "outputId": "b043f45b-264a-44d6-808e-4300df862d3f"
      },
      "source": [
        "# Walk throught the test data, training and predicting 1 day ahead for all the test data\n",
        "index = len(train_df)\n",
        "yhat = list()\n",
        "for t in tqdm(range(len(test_df.Quantity))):\n",
        "    temp_train = df_series[:len(train_df)+t]\n",
        "    model = ARIMA(temp_train.Quantity, order=(1,0,0))\n",
        "    model_fit = model.fit()\n",
        "    predictions = model_fit.predict(start=len(temp_train), end=len(temp_train),\n",
        "                                    dynamic=False)\n",
        "    yhat = yhat + [predictions]\n",
        "\n",
        "yhat = pd.concat(yhat)\n",
        "resultsDict['ARIMA'] = evaluate(test_df.Quantity, yhat.values)\n",
        "predictionsDict['ARIMA'] = yhat.values"
      ],
      "execution_count": null,
      "outputs": [
        {
          "output_type": "stream",
          "name": "stderr",
          "text": [
            "100%|██████████| 4/4 [00:00<00:00, 31.14it/s]\n"
          ]
        }
      ]
    },
    {
      "cell_type": "code",
      "metadata": {
        "colab": {
          "base_uri": "https://localhost:8080/",
          "height": 501
        },
        "id": "n5kj8k8ZAHra",
        "outputId": "e47d59be-9246-4ea2-9552-e89fdfd34bdc"
      },
      "source": [
        "plt.plot(test_df.Quantity.values, label='Original')\n",
        "plt.plot(yhat.values, color='red', label='ARIMA predicted')\n",
        "plt.legend()"
      ],
      "execution_count": null,
      "outputs": [
        {
          "output_type": "execute_result",
          "data": {
            "text/plain": [
              "<matplotlib.legend.Legend at 0x7f7fda8fc0d0>"
            ]
          },
          "metadata": {},
          "execution_count": 37
        },
        {
          "output_type": "display_data",
          "data": {
            "image/png": "[encoded data removed]",
            "text/plain": [
              "<Figure size 1296x576 with 1 Axes>"
            ]
          },
          "metadata": {
            "needs_background": "light"
          }
        }
      ]
    },
    {
      "cell_type": "code",
      "metadata": {
        "colab": {
          "base_uri": "https://localhost:8080/"
        },
        "id": "ortbs-PwAZc1",
        "outputId": "afe0f303-3dd8-4999-978c-304f8458db42"
      },
      "source": [
        "resultsDict"
      ],
      "execution_count": null,
      "outputs": [
        {
          "output_type": "execute_result",
          "data": {
            "text/plain": [
              "{'AR': {'mae': 21274.449418795593,\n",
              "  'mape': 0.13224040117406527,\n",
              "  'r2': -1.8812488878038707,\n",
              "  'rmse': 22384.516652655242},\n",
              " 'ARIMA': {'mae': 17889.69493700406,\n",
              "  'mape': 0.10966924216063507,\n",
              "  'r2': -1.621837191433773,\n",
              "  'rmse': 21353.06359279361},\n",
              " 'ARMA': {'mae': 17967.872025480618,\n",
              "  'mape': 0.11018538935044533,\n",
              "  'r2': -1.5848853412068404,\n",
              "  'rmse': 21202.055910589734},\n",
              " 'HWES': {'mae': 13697.959852637745,\n",
              "  'mape': 0.08706640386845278,\n",
              "  'r2': -0.4372433819644075,\n",
              "  'rmse': 15809.658623520598},\n",
              " 'MA': {'mae': 39521.41047490899,\n",
              "  'mape': 0.24710985372592503,\n",
              "  'r2': -8.765039332636457,\n",
              "  'rmse': 41209.21408696808},\n",
              " 'Naive mean': {'mae': 64380.63725490196,\n",
              "  'mape': 0.40404962183236276,\n",
              "  'r2': -23.833941831061757,\n",
              "  'rmse': 65717.36828150737},\n",
              " 'SES': {'mae': 13697.959852637745,\n",
              "  'mape': 0.08706640386845278,\n",
              "  'r2': -0.4372433819644075,\n",
              "  'rmse': 15809.658623520598}}"
            ]
          },
          "metadata": {},
          "execution_count": 34
        }
      ]
    },
    {
      "cell_type": "code",
      "metadata": {
        "colab": {
          "base_uri": "https://localhost:8080/"
        },
        "id": "O_cmMp0vAfFc",
        "outputId": "30e8e19e-be34-487b-e1d1-dee0c18a0c5f"
      },
      "source": [
        "# building the model\n",
        "\n",
        "autoModel = pm.auto_arima(train_df.Quantity, trace=True,\n",
        "                          error_action='ignore', suppress_warnings=True, seasonal=False)\n",
        "autoModel.fit(train_df.Quantity)"
      ],
      "execution_count": null,
      "outputs": [
        {
          "output_type": "stream",
          "name": "stdout",
          "text": [
            "Performing stepwise search to minimize aic\n",
            " ARIMA(2,0,2)(0,0,0)[0]             : AIC=2395.148, Time=0.26 sec\n",
            " ARIMA(0,0,0)(0,0,0)[0]             : AIC=2640.672, Time=0.01 sec\n",
            " ARIMA(1,0,0)(0,0,0)[0]             : AIC=2400.379, Time=0.02 sec\n",
            " ARIMA(0,0,1)(0,0,0)[0]             : AIC=2577.063, Time=0.02 sec\n",
            " ARIMA(1,0,2)(0,0,0)[0]             : AIC=2394.249, Time=0.09 sec\n",
            " ARIMA(0,0,2)(0,0,0)[0]             : AIC=2565.258, Time=0.03 sec\n",
            " ARIMA(1,0,1)(0,0,0)[0]             : AIC=2398.044, Time=0.05 sec\n",
            " ARIMA(1,0,3)(0,0,0)[0]             : AIC=2395.026, Time=0.13 sec\n",
            " ARIMA(0,0,3)(0,0,0)[0]             : AIC=2562.622, Time=0.05 sec\n",
            " ARIMA(2,0,1)(0,0,0)[0]             : AIC=inf, Time=0.22 sec\n",
            " ARIMA(2,0,3)(0,0,0)[0]             : AIC=inf, Time=0.36 sec\n",
            " ARIMA(1,0,2)(0,0,0)[0] intercept   : AIC=2388.318, Time=0.05 sec\n",
            " ARIMA(0,0,2)(0,0,0)[0] intercept   : AIC=2393.946, Time=0.04 sec\n",
            " ARIMA(1,0,1)(0,0,0)[0] intercept   : AIC=2385.955, Time=0.04 sec\n",
            " ARIMA(0,0,1)(0,0,0)[0] intercept   : AIC=2401.899, Time=0.03 sec\n",
            " ARIMA(1,0,0)(0,0,0)[0] intercept   : AIC=2383.578, Time=0.02 sec\n",
            " ARIMA(0,0,0)(0,0,0)[0] intercept   : AIC=2435.648, Time=0.01 sec\n",
            " ARIMA(2,0,0)(0,0,0)[0] intercept   : AIC=2385.581, Time=0.04 sec\n",
            " ARIMA(2,0,1)(0,0,0)[0] intercept   : AIC=2387.999, Time=0.08 sec\n",
            "\n",
            "Best model:  ARIMA(1,0,0)(0,0,0)[0] intercept\n",
            "Total fit time: 1.581 seconds\n"
          ]
        },
        {
          "output_type": "execute_result",
          "data": {
            "text/plain": [
              "ARIMA(maxiter=50, method='lbfgs', order=(1, 0, 0), out_of_sample_size=0,\n",
              "      scoring='mse', scoring_args={}, seasonal_order=(0, 0, 0, 0),\n",
              "      start_params=None, suppress_warnings=True, trend=None,\n",
              "      with_intercept=True)"
            ]
          },
          "metadata": {},
          "execution_count": 38
        }
      ]
    },
    {
      "cell_type": "code",
      "metadata": {
        "colab": {
          "base_uri": "https://localhost:8080/"
        },
        "id": "QwEDkq4zBWF4",
        "outputId": "ab62ee00-a515-4e4d-9cdd-11518bea81a8"
      },
      "source": [
        "order = autoModel.order\n",
        "yhat = list()\n",
        "for t in tqdm(range(len(test_df.Quantity))):\n",
        "    temp_train = df_series[:len(train_df.Quantity)+t]\n",
        "    model = ARIMA(temp_train.Quantity, order=order)\n",
        "    model_fit = model.fit(disp=False)\n",
        "    predictions = model_fit.predict(\n",
        "        start=len(temp_train), end=len(temp_train), dynamic=False)\n",
        "    yhat = yhat + [predictions]\n",
        "\n",
        "yhat = pd.concat(yhat)\n",
        "resultsDict['AutoARIMA {0}'.format(order)] = evaluate(\n",
        "    test_df.Quantity, yhat)\n",
        "predictionsDict['AutoARIMA {0}'.format(order)] = yhat.values"
      ],
      "execution_count": null,
      "outputs": [
        {
          "output_type": "stream",
          "name": "stderr",
          "text": [
            "100%|██████████| 4/4 [00:00<00:00, 41.13it/s]\n"
          ]
        }
      ]
    },
    {
      "cell_type": "code",
      "metadata": {
        "colab": {
          "base_uri": "https://localhost:8080/"
        },
        "id": "1ycAK2vMD9nw",
        "outputId": "0ea733b3-23e1-48b0-8723-cfea4c039c5f"
      },
      "source": [
        "resultsDict"
      ],
      "execution_count": null,
      "outputs": [
        {
          "output_type": "execute_result",
          "data": {
            "text/plain": [
              "{'AR': {'mae': 21274.449418795593,\n",
              "  'mape': 0.13224040117406527,\n",
              "  'r2': -1.8812488878038707,\n",
              "  'rmse': 22384.516652655242},\n",
              " 'ARIMA': {'mae': 17889.69493700406,\n",
              "  'mape': 0.10966924216063507,\n",
              "  'r2': -1.621837191433773,\n",
              "  'rmse': 21353.06359279361},\n",
              " 'ARMA': {'mae': 17967.872025480618,\n",
              "  'mape': 0.11018538935044533,\n",
              "  'r2': -1.5848853412068404,\n",
              "  'rmse': 21202.055910589734},\n",
              " 'AutoARIMA (1, 0, 0)': {'mae': 17889.69493700406,\n",
              "  'mape': 0.10966924216063507,\n",
              "  'r2': -1.621837191433773,\n",
              "  'rmse': 21353.06359279361},\n",
              " 'HWES': {'mae': 13697.959852637745,\n",
              "  'mape': 0.08706640386845278,\n",
              "  'r2': -0.4372433819644075,\n",
              "  'rmse': 15809.658623520598},\n",
              " 'MA': {'mae': 39521.41047490899,\n",
              "  'mape': 0.24710985372592503,\n",
              "  'r2': -8.765039332636457,\n",
              "  'rmse': 41209.21408696808},\n",
              " 'Naive mean': {'mae': 64380.63725490196,\n",
              "  'mape': 0.40404962183236276,\n",
              "  'r2': -23.833941831061757,\n",
              "  'rmse': 65717.36828150737},\n",
              " 'SES': {'mae': 13697.959852637745,\n",
              "  'mape': 0.08706640386845278,\n",
              "  'r2': -0.4372433819644075,\n",
              "  'rmse': 15809.658623520598}}"
            ]
          },
          "metadata": {},
          "execution_count": 38
        }
      ]
    },
    {
      "cell_type": "markdown",
      "metadata": {
        "id": "tIgOhUN2FEH4"
      },
      "source": [
        "### Seasonal Autoregressive Integrated Moving-Average (SARIMA)\n",
        "Seasonal Autoregressive Integrated Moving Average, SARIMA or Seasonal ARIMA, is an extension of ARIMA that explicitly supports univariate time series data with a seasonal component.\n",
        "\n",
        "It adds three new hyperparameters to specify the autoregression (AR), differencing (I) and moving average (MA) for the seasonal component of the series, as well as an additional parameter for the period of the seasonality.\n",
        "\n",
        "__Trend Elements:__\n",
        "\n",
        "There are three trend elements that require configuration. They are the same as the ARIMA model, specifically:\n",
        "\n",
        "- p: Trend autoregression order.\n",
        "- d: Trend difference order.\n",
        "- q: Trend moving average order.\n",
        "\n",
        "__Seasonal Elements:__\n",
        "\n",
        "There are four seasonal elements that are not part of ARIMA that must be configured; they are:\n",
        "\n",
        "- P: Seasonal autoregressive order.\n",
        "- D: Seasonal difference order.\n",
        "- Q: Seasonal moving average order.\n",
        "- m: The number of time steps for a single seasonal period. For example, an S of 12 for monthly data suggests a yearly seasonal cycle.\n",
        "\n",
        "__SARIMA notation:__\n",
        "SARIMA(p,d,q)(P,D,Q,m)"
      ]
    },
    {
      "cell_type": "code",
      "metadata": {
        "colab": {
          "base_uri": "https://localhost:8080/"
        },
        "id": "YaJviiP2E1ih",
        "outputId": "988d0974-be45-488f-e758-df7d2becd9e7"
      },
      "source": [
        "# SARIMA example\n",
        "\n",
        "# Walk throught the test data, training and predicting 1 day ahead for all the test data\n",
        "index = len(test_df)\n",
        "yhat = list()\n",
        "for t in tqdm(range(len(test_df.Quantity))):\n",
        "    temp_train = df_series[:len(test_df)+t]\n",
        "    model = SARIMAX(temp_train.Quantity, order=(\n",
        "        1, 0, 0), seasonal_order=(0, 0, 0, 12)) # changed from 3 to 1\n",
        "    model_fit = model.fit(disp=False)\n",
        "    predictions = model_fit.predict(\n",
        "        start=len(temp_train), end=len(temp_train), dynamic=False)\n",
        "    yhat = yhat + [predictions]\n",
        "\n",
        "yhat = pd.concat(yhat)\n",
        "resultsDict['SARIMAX'] = evaluate(test_df.Quantity, yhat.values)\n",
        "predictionsDict['SARIMAX'] = yhat.values"
      ],
      "execution_count": null,
      "outputs": [
        {
          "output_type": "stream",
          "name": "stderr",
          "text": [
            "100%|██████████| 4/4 [00:00<00:00, 48.86it/s]\n"
          ]
        }
      ]
    },
    {
      "cell_type": "code",
      "metadata": {
        "colab": {
          "base_uri": "https://localhost:8080/"
        },
        "id": "z-nF4dNMFxzm",
        "outputId": "eaf26711-f417-4721-988c-7a8a423b9f96"
      },
      "source": [
        "resultsDict"
      ],
      "execution_count": null,
      "outputs": [
        {
          "output_type": "execute_result",
          "data": {
            "text/plain": [
              "{'AR': {'mae': 21274.449418795593,\n",
              "  'mape': 0.13224040117406527,\n",
              "  'r2': -1.8812488878038707,\n",
              "  'rmse': 22384.516652655242},\n",
              " 'ARIMA': {'mae': 17889.69493700406,\n",
              "  'mape': 0.10966924216063507,\n",
              "  'r2': -1.621837191433773,\n",
              "  'rmse': 21353.06359279361},\n",
              " 'ARMA': {'mae': 17967.872025480618,\n",
              "  'mape': 0.11018538935044533,\n",
              "  'r2': -1.5848853412068404,\n",
              "  'rmse': 21202.055910589734},\n",
              " 'AutoARIMA (1, 0, 0)': {'mae': 17889.69493700406,\n",
              "  'mape': 0.10966924216063507,\n",
              "  'r2': -1.621837191433773,\n",
              "  'rmse': 21353.06359279361},\n",
              " 'HWES': {'mae': 13697.959852637745,\n",
              "  'mape': 0.08706640386845278,\n",
              "  'r2': -0.4372433819644075,\n",
              "  'rmse': 15809.658623520598},\n",
              " 'MA': {'mae': 39521.41047490899,\n",
              "  'mape': 0.24710985372592503,\n",
              "  'r2': -8.765039332636457,\n",
              "  'rmse': 41209.21408696808},\n",
              " 'Naive mean': {'mae': 64380.63725490196,\n",
              "  'mape': 0.40404962183236276,\n",
              "  'r2': -23.833941831061757,\n",
              "  'rmse': 65717.36828150737},\n",
              " 'SARIMAX': {'mae': 118119.60387865943,\n",
              "  'mape': 0.7410413763825117,\n",
              "  'r2': -87.03955029657169,\n",
              "  'rmse': 123736.04810029041},\n",
              " 'SES': {'mae': 13697.959852637745,\n",
              "  'mape': 0.08706640386845278,\n",
              "  'r2': -0.4372433819644075,\n",
              "  'rmse': 15809.658623520598}}"
            ]
          },
          "metadata": {},
          "execution_count": 42
        }
      ]
    },
    {
      "cell_type": "code",
      "metadata": {
        "colab": {
          "base_uri": "https://localhost:8080/",
          "height": 430
        },
        "id": "wdyPqDyCGDNj",
        "outputId": "f2a80109-d8bd-4d58-e26b-4bbb1d940306"
      },
      "source": [
        "plt.plot(test_df.Quantity.values, label='Original')\n",
        "plt.plot(yhat.values, color='red', label='SARIMA predicted')\n",
        "plt.legend()"
      ],
      "execution_count": null,
      "outputs": [
        {
          "output_type": "execute_result",
          "data": {
            "text/plain": [
              "<matplotlib.legend.Legend at 0x7fc3d5dc0a50>"
            ]
          },
          "metadata": {},
          "execution_count": 48
        },
        {
          "output_type": "display_data",
          "data": {
            "image/png": "[encoded data removed]",
            "text/plain": [
              "<Figure size 1296x576 with 1 Axes>"
            ]
          },
          "metadata": {
            "needs_background": "light"
          }
        }
      ]
    },
    {
      "cell_type": "code",
      "metadata": {
        "colab": {
          "base_uri": "https://localhost:8080/"
        },
        "id": "Mcq-4UUfGJ5m",
        "outputId": "5286b2d6-d964-4d37-b12a-c9debfcb75b4"
      },
      "source": [
        "# building the model\n",
        "autoModel = pm.auto_arima(train_df.Quantity, trace=True, error_action='ignore',\n",
        "                          suppress_warnings=True, seasonal=True, m=2, stepwise=True)\n",
        "autoModel.fit(train_df.Quantity)"
      ],
      "execution_count": null,
      "outputs": [
        {
          "output_type": "stream",
          "name": "stdout",
          "text": [
            "Performing stepwise search to minimize aic\n",
            " ARIMA(1,0,1)(1,0,1)[2] intercept   : AIC=2390.260, Time=0.35 sec\n",
            " ARIMA(0,0,0)(0,0,0)[2] intercept   : AIC=2435.648, Time=0.01 sec\n",
            " ARIMA(1,0,0)(1,0,0)[2] intercept   : AIC=2385.475, Time=0.09 sec\n",
            " ARIMA(0,0,1)(0,0,1)[2] intercept   : AIC=2394.505, Time=0.05 sec\n",
            " ARIMA(0,0,0)(0,0,0)[2]             : AIC=2640.672, Time=0.01 sec\n",
            " ARIMA(1,0,0)(0,0,0)[2] intercept   : AIC=2383.578, Time=0.03 sec\n",
            " ARIMA(1,0,0)(0,0,1)[2] intercept   : AIC=2385.480, Time=0.06 sec\n",
            " ARIMA(1,0,0)(1,0,1)[2] intercept   : AIC=inf, Time=0.29 sec\n",
            " ARIMA(1,0,1)(0,0,0)[2] intercept   : AIC=2385.955, Time=0.04 sec\n",
            " ARIMA(0,0,1)(0,0,0)[2] intercept   : AIC=2401.899, Time=0.03 sec\n",
            " ARIMA(1,0,0)(0,0,0)[2]             : AIC=2400.379, Time=0.02 sec\n",
            "\n",
            "Best model:  ARIMA(1,0,0)(0,0,0)[2] intercept\n",
            "Total fit time: 0.993 seconds\n"
          ]
        },
        {
          "output_type": "execute_result",
          "data": {
            "text/plain": [
              "ARIMA(maxiter=50, method='lbfgs', order=(1, 0, 0), out_of_sample_size=0,\n",
              "      scoring='mse', scoring_args={}, seasonal_order=(0, 0, 0, 2),\n",
              "      start_params=None, suppress_warnings=True, trend=None,\n",
              "      with_intercept=True)"
            ]
          },
          "metadata": {},
          "execution_count": 41
        }
      ]
    },
    {
      "cell_type": "code",
      "metadata": {
        "colab": {
          "base_uri": "https://localhost:8080/"
        },
        "id": "q_lWKr-LH2VQ",
        "outputId": "4ccf2b0b-6584-47bc-9d28-2bffd3d11068"
      },
      "source": [
        "order = autoModel.order\n",
        "seasonalOrder = autoModel.seasonal_order\n",
        "yhat = list()\n",
        "for t in tqdm(range(len(test_df.Quantity))):\n",
        "    temp_train = df_series[:len(train_df)+t]\n",
        "    model = SARIMAX(train_df.Quantity, order=order,\n",
        "                    seasonal_order=seasonalOrder)\n",
        "    model_fit = model.fit(disp=False)\n",
        "    predictions = model_fit.predict(\n",
        "        start=len(temp_train), end=len(temp_train), dynamic=False)\n",
        "    yhat = yhat + [predictions]\n",
        "\n",
        "yhat = pd.concat(yhat)\n",
        "resultsDict['AutoSARIMAX {0},{1}'.format(order, seasonalOrder)] = evaluate(\n",
        "    test_df.Quantity, yhat.values)\n",
        "predictionsDict['AutoSARIMAX {0},{1}'.format(\n",
        "    order, seasonalOrder)] = yhat.values"
      ],
      "execution_count": null,
      "outputs": [
        {
          "output_type": "stream",
          "name": "stderr",
          "text": [
            "100%|██████████| 4/4 [00:00<00:00, 37.38it/s]\n"
          ]
        }
      ]
    },
    {
      "cell_type": "code",
      "metadata": {
        "colab": {
          "base_uri": "https://localhost:8080/",
          "height": 501
        },
        "id": "XmhGxbKeIs3v",
        "outputId": "b05865f2-4336-4e61-ac87-948ffe5a24be"
      },
      "source": [
        "plt.plot(test_df.Quantity.values, label='Original')\n",
        "plt.plot(yhat.values, color='red', label='SARIMA predicted')\n",
        "plt.legend()"
      ],
      "execution_count": null,
      "outputs": [
        {
          "output_type": "execute_result",
          "data": {
            "text/plain": [
              "<matplotlib.legend.Legend at 0x7f7fda4eadd0>"
            ]
          },
          "metadata": {},
          "execution_count": 44
        },
        {
          "output_type": "display_data",
          "data": {
            "image/png": "[encoded data removed]",
            "text/plain": [
              "<Figure size 1296x576 with 1 Axes>"
            ]
          },
          "metadata": {
            "needs_background": "light"
          }
        }
      ]
    },
    {
      "cell_type": "code",
      "metadata": {
        "colab": {
          "base_uri": "https://localhost:8080/"
        },
        "id": "S3olFac_I1_M",
        "outputId": "641946e5-9ae5-4489-89b1-3279b6849706"
      },
      "source": [
        "yhat.values"
      ],
      "execution_count": null,
      "outputs": [
        {
          "output_type": "execute_result",
          "data": {
            "text/plain": [
              "array([169048.7729616 , 162893.16187476, 156961.69644238, 151246.21479822])"
            ]
          },
          "metadata": {},
          "execution_count": 54
        }
      ]
    },
    {
      "cell_type": "markdown",
      "metadata": {
        "id": "tbW3R4AUJEJt"
      },
      "source": [
        "### Prophet\n",
        "\n",
        "Prophet is a model released by [Facebook](https://github.com/facebook/prophet). Is essentially a curve fitting approach, very similar in spirit to how BSTS models trend and seasonality, except that it uses generalized additive models instead of a state-space representation to describe each component.\n"
      ]
    },
    {
      "cell_type": "code",
      "metadata": {
        "id": "8wJ4KB4uJIWM"
      },
      "source": [
        "# Prophet needs some specifics data stuff, coment it here\n",
        "prophet_training = train_df.rename(\n",
        "    columns={'Quantity': 'y'})  # old method\n",
        "prophet_training['ds'] = prophet_training.index\n",
        "prophet_training.index = pd.RangeIndex(len(prophet_training.index))\n",
        "\n",
        "prophet_test = test_df.rename(columns={'Quantity': 'y'})  # old method\n",
        "prophet_test['ds'] = prophet_test.index\n",
        "prophet_test.index = pd.RangeIndex(len(prophet_test.index))"
      ],
      "execution_count": null,
      "outputs": []
    },
    {
      "cell_type": "code",
      "metadata": {
        "id": "w9C4MvGGJnGy"
      },
      "source": [
        "prophet = Prophet(\n",
        "    growth='linear',\n",
        "    seasonality_mode='multiplicative',\n",
        "    holidays_prior_scale=20,\n",
        "    daily_seasonality=False,\n",
        "    weekly_seasonality=False,\n",
        "    yearly_seasonality=False\n",
        ").add_seasonality(\n",
        "    name='monthly',\n",
        "    period=30.5,\n",
        "    fourier_order=55\n",
        ").add_seasonality(\n",
        "    name='daily',\n",
        "    period=1,\n",
        "    fourier_order=15\n",
        ").add_seasonality(\n",
        "    name='weekly',\n",
        "    period=7,\n",
        "    fourier_order=25\n",
        ").add_seasonality(\n",
        "    name='yearly',\n",
        "    period=365.25,\n",
        "    fourier_order=20\n",
        ").add_seasonality(\n",
        "    name='quarterly',\n",
        "    period=365.25/4,\n",
        "    fourier_order=55\n",
        ").add_country_holidays(country_name='UK')"
      ],
      "execution_count": null,
      "outputs": []
    },
    {
      "cell_type": "code",
      "metadata": {
        "id": "KA40HerBLAiY"
      },
      "source": [
        "prophet.fit(prophet_training)\n",
        "yhat = prophet.predict(prophet_test)\n",
        "resultsDict['Prophet univariate'] = evaluate(\n",
        "    test_df.Quantity, yhat.yhat.values)\n",
        "predictionsDict['Prophet univariate'] = yhat.yhat.values"
      ],
      "execution_count": null,
      "outputs": []
    },
    {
      "cell_type": "code",
      "metadata": {
        "colab": {
          "base_uri": "https://localhost:8080/",
          "height": 501
        },
        "id": "DaM07uZjLP-r",
        "outputId": "289b0df4-fbaf-4cea-a296-c8001937221b"
      },
      "source": [
        "plt.plot(test_df.Quantity.values, label='Original')\n",
        "plt.plot(yhat.yhat, color='red', label='Prophet univariate')\n",
        "plt.legend()"
      ],
      "execution_count": null,
      "outputs": [
        {
          "output_type": "execute_result",
          "data": {
            "text/plain": [
              "<matplotlib.legend.Legend at 0x7f7fda2e79d0>"
            ]
          },
          "metadata": {},
          "execution_count": 49
        },
        {
          "output_type": "display_data",
          "data": {
            "image/png": "[encoded data removed]",
            "text/plain": [
              "<Figure size 1296x576 with 1 Axes>"
            ]
          },
          "metadata": {
            "needs_background": "light"
          }
        }
      ]
    },
    {
      "cell_type": "markdown",
      "metadata": {
        "id": "NSONwp287n1L"
      },
      "source": [
        "## Multivariate Time Series Forecasting\n",
        "A Multivariate time series has more than one time-dependent variable. Each variable depends not only on its past values but also has some dependency on other variables. This dependency is used for forecasting future values."
      ]
    },
    {
      "cell_type": "markdown",
      "metadata": {
        "id": "-Ds7kfx6IBIR"
      },
      "source": [
        "## Method 1: Using Time Features"
      ]
    },
    {
      "cell_type": "code",
      "metadata": {
        "id": "rCvzpJaxIAHs"
      },
      "source": [
        "# ADD time features to our model\n",
        "def create_time_features(df, target=None):\n",
        "    \"\"\"\n",
        "    Creates time series features from datetime index\n",
        "    \"\"\"\n",
        "    df['date'] = df.index\n",
        "    df['hour'] = df['date'].dt.hour\n",
        "    df['dayofweek'] = df['date'].dt.dayofweek\n",
        "    df['quarter'] = df['date'].dt.quarter\n",
        "    df['month'] = df['date'].dt.month\n",
        "    df['year'] = df['date'].dt.year\n",
        "    df['dayofyear'] = df['date'].dt.dayofyear\n",
        "    df['sin_day'] = np.sin(df['dayofyear'])\n",
        "    df['cos_day'] = np.cos(df['dayofyear'])\n",
        "    df['dayofmonth'] = df['date'].dt.day\n",
        "    df['weekofyear'] = df['date'].dt.weekofyear\n",
        "    X = df.drop(['date'], axis=1)\n",
        "    if target:\n",
        "        y = df[target]\n",
        "        X = X.drop([target], axis=1)\n",
        "        return X, y\n",
        "\n",
        "    return X"
      ],
      "execution_count": null,
      "outputs": []
    },
    {
      "cell_type": "code",
      "metadata": {
        "colab": {
          "base_uri": "https://localhost:8080/",
          "height": 455
        },
        "id": "xcvFiDm1ca7g",
        "outputId": "269b2e70-5378-4ab6-8231-2fad896ae2cc"
      },
      "source": [
        "train_df"
      ],
      "execution_count": null,
      "outputs": [
        {
          "output_type": "execute_result",
          "data": {
            "text/html": [
              "<div>\n",
              "<style scoped>\n",
              "    .dataframe tbody tr th:only-of-type {\n",
              "        vertical-align: middle;\n",
              "    }\n",
              "\n",
              "    .dataframe tbody tr th {\n",
              "        vertical-align: top;\n",
              "    }\n",
              "\n",
              "    .dataframe thead th {\n",
              "        text-align: right;\n",
              "    }\n",
              "</style>\n",
              "<table border=\"1\" class=\"dataframe\">\n",
              "  <thead>\n",
              "    <tr style=\"text-align: right;\">\n",
              "      <th></th>\n",
              "      <th>Quantity</th>\n",
              "      <th>date</th>\n",
              "      <th>hour</th>\n",
              "      <th>dayofweek</th>\n",
              "      <th>quarter</th>\n",
              "      <th>month</th>\n",
              "      <th>year</th>\n",
              "      <th>dayofyear</th>\n",
              "      <th>sin_day</th>\n",
              "      <th>cos_day</th>\n",
              "      <th>dayofmonth</th>\n",
              "      <th>weekofyear</th>\n",
              "    </tr>\n",
              "    <tr>\n",
              "      <th>Date</th>\n",
              "      <th></th>\n",
              "      <th></th>\n",
              "      <th></th>\n",
              "      <th></th>\n",
              "      <th></th>\n",
              "      <th></th>\n",
              "      <th></th>\n",
              "      <th></th>\n",
              "      <th></th>\n",
              "      <th></th>\n",
              "      <th></th>\n",
              "      <th></th>\n",
              "    </tr>\n",
              "  </thead>\n",
              "  <tbody>\n",
              "    <tr>\n",
              "      <th>2009-11-29</th>\n",
              "      <td>125490</td>\n",
              "      <td>2009-11-29</td>\n",
              "      <td>0</td>\n",
              "      <td>6</td>\n",
              "      <td>4</td>\n",
              "      <td>11</td>\n",
              "      <td>2009</td>\n",
              "      <td>333</td>\n",
              "      <td>-0.008821</td>\n",
              "      <td>0.999961</td>\n",
              "      <td>29</td>\n",
              "      <td>48</td>\n",
              "    </tr>\n",
              "    <tr>\n",
              "      <th>2009-12-06</th>\n",
              "      <td>110066</td>\n",
              "      <td>2009-12-06</td>\n",
              "      <td>0</td>\n",
              "      <td>6</td>\n",
              "      <td>4</td>\n",
              "      <td>12</td>\n",
              "      <td>2009</td>\n",
              "      <td>340</td>\n",
              "      <td>0.650311</td>\n",
              "      <td>0.759668</td>\n",
              "      <td>6</td>\n",
              "      <td>49</td>\n",
              "    </tr>\n",
              "    <tr>\n",
              "      <th>2009-12-13</th>\n",
              "      <td>129763</td>\n",
              "      <td>2009-12-13</td>\n",
              "      <td>0</td>\n",
              "      <td>6</td>\n",
              "      <td>4</td>\n",
              "      <td>12</td>\n",
              "      <td>2009</td>\n",
              "      <td>347</td>\n",
              "      <td>0.989363</td>\n",
              "      <td>0.145470</td>\n",
              "      <td>13</td>\n",
              "      <td>50</td>\n",
              "    </tr>\n",
              "    <tr>\n",
              "      <th>2009-12-20</th>\n",
              "      <td>27014</td>\n",
              "      <td>2009-12-20</td>\n",
              "      <td>0</td>\n",
              "      <td>6</td>\n",
              "      <td>4</td>\n",
              "      <td>12</td>\n",
              "      <td>2009</td>\n",
              "      <td>354</td>\n",
              "      <td>0.841455</td>\n",
              "      <td>-0.540328</td>\n",
              "      <td>20</td>\n",
              "      <td>51</td>\n",
              "    </tr>\n",
              "    <tr>\n",
              "      <th>2009-12-27</th>\n",
              "      <td>0</td>\n",
              "      <td>2009-12-27</td>\n",
              "      <td>0</td>\n",
              "      <td>6</td>\n",
              "      <td>4</td>\n",
              "      <td>12</td>\n",
              "      <td>2009</td>\n",
              "      <td>361</td>\n",
              "      <td>0.279387</td>\n",
              "      <td>-0.960179</td>\n",
              "      <td>27</td>\n",
              "      <td>52</td>\n",
              "    </tr>\n",
              "    <tr>\n",
              "      <th>...</th>\n",
              "      <td>...</td>\n",
              "      <td>...</td>\n",
              "      <td>...</td>\n",
              "      <td>...</td>\n",
              "      <td>...</td>\n",
              "      <td>...</td>\n",
              "      <td>...</td>\n",
              "      <td>...</td>\n",
              "      <td>...</td>\n",
              "      <td>...</td>\n",
              "      <td>...</td>\n",
              "      <td>...</td>\n",
              "    </tr>\n",
              "    <tr>\n",
              "      <th>2011-10-09</th>\n",
              "      <td>114600</td>\n",
              "      <td>2011-10-09</td>\n",
              "      <td>0</td>\n",
              "      <td>6</td>\n",
              "      <td>4</td>\n",
              "      <td>10</td>\n",
              "      <td>2011</td>\n",
              "      <td>282</td>\n",
              "      <td>-0.676750</td>\n",
              "      <td>0.736213</td>\n",
              "      <td>9</td>\n",
              "      <td>40</td>\n",
              "    </tr>\n",
              "    <tr>\n",
              "      <th>2011-10-16</th>\n",
              "      <td>146799</td>\n",
              "      <td>2011-10-16</td>\n",
              "      <td>0</td>\n",
              "      <td>6</td>\n",
              "      <td>4</td>\n",
              "      <td>10</td>\n",
              "      <td>2011</td>\n",
              "      <td>289</td>\n",
              "      <td>-0.026521</td>\n",
              "      <td>0.999648</td>\n",
              "      <td>16</td>\n",
              "      <td>41</td>\n",
              "    </tr>\n",
              "    <tr>\n",
              "      <th>2011-10-23</th>\n",
              "      <td>134407</td>\n",
              "      <td>2011-10-23</td>\n",
              "      <td>0</td>\n",
              "      <td>6</td>\n",
              "      <td>4</td>\n",
              "      <td>10</td>\n",
              "      <td>2011</td>\n",
              "      <td>296</td>\n",
              "      <td>0.636761</td>\n",
              "      <td>0.771061</td>\n",
              "      <td>23</td>\n",
              "      <td>42</td>\n",
              "    </tr>\n",
              "    <tr>\n",
              "      <th>2011-10-30</th>\n",
              "      <td>148957</td>\n",
              "      <td>2011-10-30</td>\n",
              "      <td>0</td>\n",
              "      <td>6</td>\n",
              "      <td>4</td>\n",
              "      <td>10</td>\n",
              "      <td>2011</td>\n",
              "      <td>303</td>\n",
              "      <td>0.986633</td>\n",
              "      <td>0.162961</td>\n",
              "      <td>30</td>\n",
              "      <td>43</td>\n",
              "    </tr>\n",
              "    <tr>\n",
              "      <th>2011-11-06</th>\n",
              "      <td>175437</td>\n",
              "      <td>2011-11-06</td>\n",
              "      <td>0</td>\n",
              "      <td>6</td>\n",
              "      <td>4</td>\n",
              "      <td>11</td>\n",
              "      <td>2011</td>\n",
              "      <td>310</td>\n",
              "      <td>0.850888</td>\n",
              "      <td>-0.525348</td>\n",
              "      <td>6</td>\n",
              "      <td>44</td>\n",
              "    </tr>\n",
              "  </tbody>\n",
              "</table>\n",
              "<p>102 rows × 12 columns</p>\n",
              "</div>"
            ],
            "text/plain": [
              "            Quantity       date  hour  ...   cos_day  dayofmonth  weekofyear\n",
              "Date                                   ...                                  \n",
              "2009-11-29    125490 2009-11-29     0  ...  0.999961          29          48\n",
              "2009-12-06    110066 2009-12-06     0  ...  0.759668           6          49\n",
              "2009-12-13    129763 2009-12-13     0  ...  0.145470          13          50\n",
              "2009-12-20     27014 2009-12-20     0  ... -0.540328          20          51\n",
              "2009-12-27         0 2009-12-27     0  ... -0.960179          27          52\n",
              "...              ...        ...   ...  ...       ...         ...         ...\n",
              "2011-10-09    114600 2011-10-09     0  ...  0.736213           9          40\n",
              "2011-10-16    146799 2011-10-16     0  ...  0.999648          16          41\n",
              "2011-10-23    134407 2011-10-23     0  ...  0.771061          23          42\n",
              "2011-10-30    148957 2011-10-30     0  ...  0.162961          30          43\n",
              "2011-11-06    175437 2011-11-06     0  ... -0.525348           6          44\n",
              "\n",
              "[102 rows x 12 columns]"
            ]
          },
          "metadata": {},
          "execution_count": 237
        }
      ]
    },
    {
      "cell_type": "code",
      "metadata": {
        "id": "aggbVSdGHxPx"
      },
      "source": [
        "X_train_df, y_train = create_time_features(\n",
        "    train_df, target='Quantity')\n",
        "\n",
        "X_test_df, y_test = create_time_features(test_df, target='Quantity')\n",
        "scaler = StandardScaler()\n",
        "scaler.fit(X_train_df)  # No cheating, never scale on the training+test!\n",
        "X_train = scaler.transform(X_train_df)\n",
        "X_test = scaler.transform(X_test_df)\n",
        "\n",
        "X_train_df = pd.DataFrame(X_train, columns=X_train_df.columns)\n",
        "X_test_df = pd.DataFrame(X_test, columns=X_test_df.columns)"
      ],
      "execution_count": null,
      "outputs": []
    },
    {
      "cell_type": "markdown",
      "metadata": {
        "id": "G7VZCEzmJaz8"
      },
      "source": [
        "## Using Linear Models"
      ]
    },
    {
      "cell_type": "markdown",
      "metadata": {
        "id": "UXy5siOPJgKI"
      },
      "source": [
        "### Linear Model Algorithm 1: Bayesian Regression"
      ]
    },
    {
      "cell_type": "code",
      "metadata": {
        "id": "vitC1_0eI0tI"
      },
      "source": [
        "reg = linear_model.BayesianRidge()\n",
        "reg.fit(X_train, y_train)\n",
        "yhat = reg.predict(X_test)\n",
        "resultsDict['BayesianRidge'] = evaluate(test_df.Quantity, yhat)\n",
        "predictionsDict['BayesianRidge'] = yhat"
      ],
      "execution_count": null,
      "outputs": []
    },
    {
      "cell_type": "code",
      "metadata": {
        "colab": {
          "base_uri": "https://localhost:8080/",
          "height": 501
        },
        "id": "UqzrW8sKUkCy",
        "outputId": "a6ba736b-e586-4225-f8f1-509b9b46cb18"
      },
      "source": [
        "plt.plot(test_df.Quantity.values, label='Original')\n",
        "plt.plot(yhat, color='red', label='BayesianRidge')\n",
        "plt.legend()"
      ],
      "execution_count": null,
      "outputs": [
        {
          "output_type": "execute_result",
          "data": {
            "text/plain": [
              "<matplotlib.legend.Legend at 0x7f7fd9c25790>"
            ]
          },
          "metadata": {},
          "execution_count": 64
        },
        {
          "output_type": "display_data",
          "data": {
            "image/png": "[encoded data removed]",
            "text/plain": [
              "<Figure size 1296x576 with 1 Axes>"
            ]
          },
          "metadata": {
            "needs_background": "light"
          }
        }
      ]
    },
    {
      "cell_type": "markdown",
      "metadata": {
        "id": "Kk7Kj-uxMlyl"
      },
      "source": [
        "### Linear Model Algorithm 2: Lasso"
      ]
    },
    {
      "cell_type": "code",
      "metadata": {
        "id": "29QBcdvTMfOA"
      },
      "source": [
        "reg = linear_model.Lasso(alpha=0.1)\n",
        "reg.fit(X_train, y_train)\n",
        "yhat = reg.predict(X_test)\n",
        "resultsDict['Lasso'] = evaluate(test_df.Quantity, yhat)\n",
        "predictionsDict['Lasso'] = yhat"
      ],
      "execution_count": null,
      "outputs": []
    },
    {
      "cell_type": "code",
      "metadata": {
        "colab": {
          "base_uri": "https://localhost:8080/",
          "height": 501
        },
        "id": "ZWLODZpiUqC2",
        "outputId": "08acc6af-e373-4355-b2fc-e41e70478cfb"
      },
      "source": [
        "plt.plot(test_df.Quantity.values, label='Original')\n",
        "plt.plot(yhat, color='red', label='Lasso')\n",
        "plt.legend()"
      ],
      "execution_count": null,
      "outputs": [
        {
          "output_type": "execute_result",
          "data": {
            "text/plain": [
              "<matplotlib.legend.Legend at 0x7f7fd9b4e890>"
            ]
          },
          "metadata": {},
          "execution_count": 66
        },
        {
          "output_type": "display_data",
          "data": {
            "image/png": "[encoded data removed]",
            "text/plain": [
              "<Figure size 1296x576 with 1 Axes>"
            ]
          },
          "metadata": {
            "needs_background": "light"
          }
        }
      ]
    },
    {
      "cell_type": "markdown",
      "metadata": {
        "id": "qwu1PMAgMwu-"
      },
      "source": [
        "## Using Tree Models"
      ]
    },
    {
      "cell_type": "markdown",
      "metadata": {
        "id": "GSuP7FSNSehd"
      },
      "source": [
        "### RandomForest"
      ]
    },
    {
      "cell_type": "code",
      "metadata": {
        "id": "tdhtyeAPSixh"
      },
      "source": [
        "reg = RandomForestRegressor(max_depth=2, random_state=0)\n",
        "reg.fit(X_train, y_train)\n",
        "yhat = reg.predict(X_test)\n",
        "resultsDict['Randomforest'] = evaluate(test_df.Quantity, yhat)\n",
        "predictionsDict['Randomforest'] = yhat"
      ],
      "execution_count": null,
      "outputs": []
    },
    {
      "cell_type": "code",
      "metadata": {
        "colab": {
          "base_uri": "https://localhost:8080/",
          "height": 501
        },
        "id": "bRWyKSiuUbM6",
        "outputId": "bcdd7276-ce24-4a63-fa30-cc928bf13af4"
      },
      "source": [
        "plt.plot(test_df.Quantity.values, label='Original')\n",
        "plt.plot(yhat, color='red', label='RandomForest')\n",
        "plt.legend()"
      ],
      "execution_count": null,
      "outputs": [
        {
          "output_type": "execute_result",
          "data": {
            "text/plain": [
              "<matplotlib.legend.Legend at 0x7f7fd9cfbad0>"
            ]
          },
          "metadata": {},
          "execution_count": 62
        },
        {
          "output_type": "display_data",
          "data": {
            "image/png": "[encoded data removed]",
            "text/plain": [
              "<Figure size 1296x576 with 1 Axes>"
            ]
          },
          "metadata": {
            "needs_background": "light"
          }
        }
      ]
    },
    {
      "cell_type": "markdown",
      "metadata": {
        "id": "5TEyee2HUDSm"
      },
      "source": [
        "### XGBoost"
      ]
    },
    {
      "cell_type": "code",
      "metadata": {
        "id": "tzhL-8lfSrnr"
      },
      "source": [
        "reg = xgb.XGBRegressor(objective='reg:squarederror', n_estimators=1000)\n",
        "reg.fit(X_train, y_train,\n",
        "        verbose=False)  # Change verbose to True if you want to see it train\n",
        "yhat = reg.predict(X_test)\n",
        "resultsDict['XGBoost'] = evaluate(test_df.Quantity, yhat)\n",
        "predictionsDict['XGBoost'] = yhat"
      ],
      "execution_count": null,
      "outputs": []
    },
    {
      "cell_type": "code",
      "metadata": {
        "colab": {
          "base_uri": "https://localhost:8080/",
          "height": 501
        },
        "id": "QOUcahl2UPkn",
        "outputId": "8179a421-6131-453e-c013-36609c977d5f"
      },
      "source": [
        "plt.plot(test_df.Quantity.values, label='Original')\n",
        "plt.plot(yhat, color='red', label='XGboost')\n",
        "plt.legend()"
      ],
      "execution_count": null,
      "outputs": [
        {
          "output_type": "execute_result",
          "data": {
            "text/plain": [
              "<matplotlib.legend.Legend at 0x7f7fc40e1a10>"
            ]
          },
          "metadata": {},
          "execution_count": 80
        },
        {
          "output_type": "display_data",
          "data": {
            "image/png": "[encoded data removed]",
            "text/plain": [
              "<Figure size 1296x576 with 1 Axes>"
            ]
          },
          "metadata": {
            "needs_background": "light"
          }
        }
      ]
    },
    {
      "cell_type": "code",
      "metadata": {
        "colab": {
          "base_uri": "https://localhost:8080/",
          "height": 501
        },
        "id": "R8QeXCnhkUGM",
        "outputId": "8b292cc6-4a6b-4341-f2a8-7a1c5d25edd6"
      },
      "source": [
        "reg = xgb.XGBRegressor(objective='reg:squarederror', n_estimators=1000)\n",
        "reg.fit(X_train, y_train)\n",
        "yhat = reg.predict(X_test)\n",
        "resultsDict['XGBoost 2'] = evaluate(df_test.Amount_Spent, yhat)\n",
        "predictionsDict['XGBoost 2'] = yhat\n",
        "\n",
        "plt.plot(df_test.Amount_Spent.values, label='Original')\n",
        "plt.plot(yhat, color='red', label='XGBoost 2')\n",
        "plt.legend()"
      ],
      "execution_count": null,
      "outputs": [
        {
          "output_type": "execute_result",
          "data": {
            "text/plain": [
              "<matplotlib.legend.Legend at 0x7f7fb6754d50>"
            ]
          },
          "metadata": {},
          "execution_count": 275
        },
        {
          "output_type": "display_data",
          "data": {
            "image/png": "[encoded data removed]",
            "text/plain": [
              "<Figure size 1296x576 with 1 Axes>"
            ]
          },
          "metadata": {
            "needs_background": "light"
          }
        }
      ]
    },
    {
      "cell_type": "markdown",
      "metadata": {
        "id": "DixyygVtVDes"
      },
      "source": [
        "### LightGBM - \n",
        "\n",
        "A tree gradient boosting model by [Microsoft](https://github.com/microsoft/LightGBM)"
      ]
    },
    {
      "cell_type": "code",
      "metadata": {
        "id": "xUEgBR_FVLtj"
      },
      "source": [
        "def use_model(model, name):\n",
        "  model.fit(X_train, y_train)\n",
        "  y_hat = model.predict(X_test)\n",
        "  resultsDict[name] = evaluate(test_df.Quantity, yhat)\n",
        "  predictionsDict[name] = yhat\n",
        "\n",
        "  # To visualize the results\n",
        "  plt.plot(test_df.Quantity.values, label='Original')\n",
        "  plt.plot(yhat, color='red', label=name)\n",
        "  plt.legend()\n",
        "\n",
        "  return resultsDict[name], predictionsDict[name]\n"
      ],
      "execution_count": null,
      "outputs": []
    },
    {
      "cell_type": "code",
      "metadata": {
        "colab": {
          "base_uri": "https://localhost:8080/"
        },
        "id": "1YbGA4tsjQxb",
        "outputId": "b8f5a87c-37cd-45f9-b537-85b582095274"
      },
      "source": [
        "X_train.shape"
      ],
      "execution_count": null,
      "outputs": [
        {
          "output_type": "execute_result",
          "data": {
            "text/plain": [
              "(711, 10)"
            ]
          },
          "metadata": {},
          "execution_count": 251
        }
      ]
    },
    {
      "cell_type": "code",
      "metadata": {
        "colab": {
          "base_uri": "https://localhost:8080/"
        },
        "id": "nZORxsSHjnRr",
        "outputId": "8ad8f825-1d9b-4f32-9bf0-71d59aefd07a"
      },
      "source": [
        "X_test.shape"
      ],
      "execution_count": null,
      "outputs": [
        {
          "output_type": "execute_result",
          "data": {
            "text/plain": [
              "(28, 10)"
            ]
          },
          "metadata": {},
          "execution_count": 255
        }
      ]
    },
    {
      "cell_type": "code",
      "metadata": {
        "colab": {
          "base_uri": "https://localhost:8080/"
        },
        "id": "zkUAOAX1jVlV",
        "outputId": "08d6a46a-5264-4d33-c508-93abe6f99b29"
      },
      "source": [
        "df_training.shape"
      ],
      "execution_count": null,
      "outputs": [
        {
          "output_type": "execute_result",
          "data": {
            "text/plain": [
              "(711, 12)"
            ]
          },
          "metadata": {},
          "execution_count": 254
        }
      ]
    },
    {
      "cell_type": "code",
      "metadata": {
        "colab": {
          "base_uri": "https://localhost:8080/"
        },
        "id": "DMTSwn_pjuTu",
        "outputId": "dd8c683d-5773-49ad-db31-be8c28553e80"
      },
      "source": [
        "df_test.shape"
      ],
      "execution_count": null,
      "outputs": [
        {
          "output_type": "execute_result",
          "data": {
            "text/plain": [
              "(28, 12)"
            ]
          },
          "metadata": {},
          "execution_count": 256
        }
      ]
    },
    {
      "cell_type": "code",
      "metadata": {
        "colab": {
          "base_uri": "https://localhost:8080/"
        },
        "id": "ao9Vcg4LjyiB",
        "outputId": "6ce11d2c-4918-4528-9a3b-f7f510809e72"
      },
      "source": [
        "df_test.columns"
      ],
      "execution_count": null,
      "outputs": [
        {
          "output_type": "execute_result",
          "data": {
            "text/plain": [
              "Index(['Amount_Spent', 'date', 'hour', 'dayofweek', 'quarter', 'month', 'year',\n",
              "       'dayofyear', 'sin_day', 'cos_day', 'dayofmonth', 'weekofyear'],\n",
              "      dtype='object')"
            ]
          },
          "metadata": {},
          "execution_count": 257
        }
      ]
    },
    {
      "cell_type": "code",
      "metadata": {
        "colab": {
          "base_uri": "https://localhost:8080/",
          "height": 501
        },
        "id": "mUW1Lx1BjGbB",
        "outputId": "89c1e4db-992b-4311-b0a4-f717f11a5f6a"
      },
      "source": [
        "lightGBM = lgb.LGBMRegressor()\n",
        "lightGBM.fit(X_train, y_train)\n",
        "yhat = lightGBM.predict(X_test)\n",
        "resultsDict['Lightgbm 2'] = evaluate(df_test.Amount_Spent, yhat)\n",
        "predictionsDict['Lightgbm 2'] = yhat\n",
        "\n",
        "plt.plot(df_test.Amount_Spent.values, label='Original')\n",
        "plt.plot(yhat, color='red', label='Lightgbm 2')\n",
        "plt.legend()"
      ],
      "execution_count": null,
      "outputs": [
        {
          "output_type": "execute_result",
          "data": {
            "text/plain": [
              "<matplotlib.legend.Legend at 0x7f7fbd789810>"
            ]
          },
          "metadata": {},
          "execution_count": 274
        },
        {
          "output_type": "display_data",
          "data": {
            "image/png": "[encoded data removed]",
            "text/plain": [
              "<Figure size 1296x576 with 1 Axes>"
            ]
          },
          "metadata": {
            "needs_background": "light"
          }
        }
      ]
    },
    {
      "cell_type": "code",
      "metadata": {
        "colab": {
          "base_uri": "https://localhost:8080/",
          "height": 501
        },
        "id": "xf1IuwDNYqFp",
        "outputId": "ddb5e2be-523f-44fb-8fa3-469f69bfba5d"
      },
      "source": [
        "lightGBM = lgb.LGBMRegressor()\n",
        "lightGBM.fit(X_train, y_train)\n",
        "yhat = lightGBM.predict(X_test)\n",
        "resultsDict['Lightgbm'] = evaluate(test_df.Quantity, yhat)\n",
        "predictionsDict['Lightgbm'] = yhat\n",
        "\n",
        "plt.plot(test_df.Quantity.values, label='Original')\n",
        "plt.plot(yhat, color='red', label='Lightgbm')\n",
        "plt.legend()\n"
      ],
      "execution_count": null,
      "outputs": [
        {
          "output_type": "execute_result",
          "data": {
            "text/plain": [
              "<matplotlib.legend.Legend at 0x7f7fc3e36c50>"
            ]
          },
          "metadata": {},
          "execution_count": 85
        },
        {
          "output_type": "display_data",
          "data": {
            "image/png": "[encoded data removed]",
            "text/plain": [
              "<Figure size 1296x576 with 1 Axes>"
            ]
          },
          "metadata": {
            "needs_background": "light"
          }
        }
      ]
    },
    {
      "cell_type": "markdown",
      "metadata": {
        "id": "TqlD3cvaZO0x"
      },
      "source": [
        "### Support vector machines"
      ]
    },
    {
      "cell_type": "code",
      "metadata": {
        "colab": {
          "base_uri": "https://localhost:8080/",
          "height": 501
        },
        "id": "wa0yRZuNZLCR",
        "outputId": "9fa042a4-5f23-401f-a694-0bdad5b978cb"
      },
      "source": [
        "reg = svm.SVR(kernel='rbf', C=100, gamma=0.1, epsilon=.1)\n",
        "reg.fit(X_train, y_train)\n",
        "yhat = reg.predict(X_test)\n",
        "resultsDict['SVM RBF'] = evaluate(test_df.Quantity, yhat)\n",
        "predictionsDict['SVM RBF'] = yhat\n",
        "\n",
        "plt.plot(test_df.Quantity.values, label='Original')\n",
        "plt.plot(yhat, color='red', label='SVM RBF')\n",
        "plt.legend()"
      ],
      "execution_count": null,
      "outputs": [
        {
          "output_type": "execute_result",
          "data": {
            "text/plain": [
              "<matplotlib.legend.Legend at 0x7f7fc3d48bd0>"
            ]
          },
          "metadata": {},
          "execution_count": 87
        },
        {
          "output_type": "display_data",
          "data": {
            "image/png": "[encoded data removed]",
            "text/plain": [
              "<Figure size 1296x576 with 1 Axes>"
            ]
          },
          "metadata": {
            "needs_background": "light"
          }
        }
      ]
    },
    {
      "cell_type": "markdown",
      "metadata": {
        "id": "wf_cWPZ4agHR"
      },
      "source": [
        "## Using Nearest Neighbours\n"
      ]
    },
    {
      "cell_type": "code",
      "metadata": {
        "colab": {
          "base_uri": "https://localhost:8080/",
          "height": 501
        },
        "id": "K7-Dw1uqaoxg",
        "outputId": "fa73502f-2df6-4d82-cca7-b38c17cacc22"
      },
      "source": [
        "reg = KNeighborsRegressor(n_neighbors=2)\n",
        "reg.fit(X_train, y_train)\n",
        "yhat = reg.predict(X_test)\n",
        "resultsDict['Kneighbors'] = evaluate(test_df.Quantity, yhat)\n",
        "predictionsDict['Kneighbors'] = yhat\n",
        "\n",
        "plt.plot(test_df.Quantity.values, label='Original')\n",
        "plt.plot(yhat, color='red', label='Kneighbors')\n",
        "plt.legend()"
      ],
      "execution_count": null,
      "outputs": [
        {
          "output_type": "execute_result",
          "data": {
            "text/plain": [
              "<matplotlib.legend.Legend at 0x7f7fc3cc3e10>"
            ]
          },
          "metadata": {},
          "execution_count": 88
        },
        {
          "output_type": "display_data",
          "data": {
            "image/png": "[encoded data removed]",
            "text/plain": [
              "<Figure size 1296x576 with 1 Axes>"
            ]
          },
          "metadata": {
            "needs_background": "light"
          }
        }
      ]
    },
    {
      "cell_type": "markdown",
      "metadata": {
        "id": "azuLECI8dZYJ"
      },
      "source": [
        "### Prophet Multivariate"
      ]
    },
    {
      "cell_type": "code",
      "metadata": {
        "id": "BH7NDwhYdXH_"
      },
      "source": [
        "prophet = Prophet(\n",
        "    growth='linear',\n",
        "    seasonality_mode='multiplicative',\n",
        "    daily_seasonality=True,\n",
        ").add_country_holidays(country_name='UK')\n",
        "\n",
        "\n",
        "for col in prophet_training.columns:\n",
        "    if col not in [\"ds\", \"y\"]:\n",
        "        prophet.add_regressor(col)"
      ],
      "execution_count": null,
      "outputs": []
    },
    {
      "cell_type": "code",
      "metadata": {
        "colab": {
          "base_uri": "https://localhost:8080/"
        },
        "id": "PlhYgX38dkMh",
        "outputId": "c78d921c-aa62-4476-f8f7-d432f893ae20"
      },
      "source": [
        "prophet.fit(prophet_training)\n",
        "yhat = prophet.predict(prophet_test)\n",
        "resultsDict['Prophet multivariate'] = evaluate(y_test, yhat.yhat.values)\n",
        "predictionsDict['Prophet multivariate'] = yhat.yhat.values"
      ],
      "execution_count": null,
      "outputs": [
        {
          "output_type": "stream",
          "name": "stderr",
          "text": [
            "INFO:fbprophet:Disabling yearly seasonality. Run prophet with yearly_seasonality=True to override this.\n",
            "INFO:fbprophet:Disabling weekly seasonality. Run prophet with weekly_seasonality=True to override this.\n"
          ]
        }
      ]
    },
    {
      "cell_type": "code",
      "metadata": {
        "colab": {
          "base_uri": "https://localhost:8080/",
          "height": 501
        },
        "id": "dm1Laz3BdtBS",
        "outputId": "e47d88ff-ffbd-4e1f-c58d-23de4f6ddbc0"
      },
      "source": [
        "plt.plot(test_df.Quantity.values, label='Original')\n",
        "plt.plot(yhat.yhat, color='red', label='Prophet multivariate')\n",
        "plt.legend()"
      ],
      "execution_count": null,
      "outputs": [
        {
          "output_type": "execute_result",
          "data": {
            "text/plain": [
              "<matplotlib.legend.Legend at 0x7f7fc3fc04d0>"
            ]
          },
          "metadata": {},
          "execution_count": 92
        },
        {
          "output_type": "display_data",
          "data": {
            "image/png": "[encoded data removed]",
            "text/plain": [
              "<Figure size 1296x576 with 1 Axes>"
            ]
          },
          "metadata": {
            "needs_background": "light"
          }
        }
      ]
    },
    {
      "cell_type": "code",
      "metadata": {
        "id": "FgkYoTQohQT0"
      },
      "source": [
        "cleaned_data.index = cleaned_data[\"InvoiceDate\"]"
      ],
      "execution_count": null,
      "outputs": []
    },
    {
      "cell_type": "code",
      "metadata": {
        "id": "v-Ei_0PxhTh1"
      },
      "source": [
        ""
      ],
      "execution_count": null,
      "outputs": []
    },
    {
      "cell_type": "markdown",
      "metadata": {
        "id": "02-ZGCKmFjV7"
      },
      "source": [
        "## Deep Learning"
      ]
    },
    {
      "cell_type": "code",
      "metadata": {
        "id": "4l0XTERlRJ2J"
      },
      "source": [
        "cleaned_data[\"Date\"] = pd.to_datetime(cleaned_data[\"Date\"])\n",
        "cleaned_data.index = cleaned_data[\"Date\"]\n",
        "\n",
        "daily_sales = cleaned_data['Amount_Spent'].resample('D').sum()"
      ],
      "execution_count": null,
      "outputs": []
    },
    {
      "cell_type": "code",
      "metadata": {
        "colab": {
          "base_uri": "https://localhost:8080/"
        },
        "id": "8TKN--YYQsiX",
        "outputId": "bfa11a4c-eb81-48cb-96d9-465f9233dda7"
      },
      "source": [
        "split_date = '2011-11-11' # Predict for 28 days\n",
        "df_training = daily_sales.loc[daily_sales.index <= split_date]\n",
        "df_test = daily_sales.loc[daily_sales.index > split_date]\n",
        "print(f\"{len(df_training)} days of training data \\n {len(df_test)} days of testing data \")"
      ],
      "execution_count": null,
      "outputs": [
        {
          "output_type": "stream",
          "name": "stdout",
          "text": [
            "711 days of training data \n",
            " 28 days of testing data \n"
          ]
        }
      ]
    },
    {
      "cell_type": "code",
      "metadata": {
        "id": "g8lOfR1tUUMV"
      },
      "source": [
        "df_training = pd.DataFrame(df_training)\n",
        "df_test = pd.DataFrame(df_test)"
      ],
      "execution_count": null,
      "outputs": []
    },
    {
      "cell_type": "code",
      "metadata": {
        "id": "OGE24wsATb1H"
      },
      "source": [
        "# ADD time features to our model\n",
        "# ADD time features to our model\n",
        "def create_time_features(df, target=None):\n",
        "    \"\"\"\n",
        "    Creates time series features from datetime index\n",
        "    \"\"\"\n",
        "    df['date'] = df.index\n",
        "    df['hour'] = df['date'].dt.hour\n",
        "    df['dayofweek'] = df['date'].dt.dayofweek\n",
        "    df['quarter'] = df['date'].dt.quarter\n",
        "    df['month'] = df['date'].dt.month\n",
        "    df['year'] = df['date'].dt.year\n",
        "    df['dayofyear'] = df['date'].dt.dayofyear\n",
        "    df['sin_day'] = np.sin(df['dayofyear'])\n",
        "    df['cos_day'] = np.cos(df['dayofyear'])\n",
        "    df['dayofmonth'] = df['date'].dt.day\n",
        "    df['weekofyear'] = df['date'].dt.weekofyear\n",
        "    X = df.drop(['date'], axis=1)\n",
        "    if target:\n",
        "        y = df[target]\n",
        "        X = X.drop([target], axis=1)\n",
        "        return X, y\n",
        "\n",
        "    return X"
      ],
      "execution_count": null,
      "outputs": []
    },
    {
      "cell_type": "code",
      "metadata": {
        "colab": {
          "base_uri": "https://localhost:8080/",
          "height": 455
        },
        "id": "noV6vZMywdRO",
        "outputId": "a0683972-1f44-4c6b-dbb5-bf4be616f8b2"
      },
      "source": [
        "train_df"
      ],
      "execution_count": null,
      "outputs": [
        {
          "output_type": "execute_result",
          "data": {
            "text/html": [
              "<div>\n",
              "<style scoped>\n",
              "    .dataframe tbody tr th:only-of-type {\n",
              "        vertical-align: middle;\n",
              "    }\n",
              "\n",
              "    .dataframe tbody tr th {\n",
              "        vertical-align: top;\n",
              "    }\n",
              "\n",
              "    .dataframe thead th {\n",
              "        text-align: right;\n",
              "    }\n",
              "</style>\n",
              "<table border=\"1\" class=\"dataframe\">\n",
              "  <thead>\n",
              "    <tr style=\"text-align: right;\">\n",
              "      <th></th>\n",
              "      <th>Quantity</th>\n",
              "      <th>date</th>\n",
              "      <th>hour</th>\n",
              "      <th>dayofweek</th>\n",
              "      <th>quarter</th>\n",
              "      <th>month</th>\n",
              "      <th>year</th>\n",
              "      <th>dayofyear</th>\n",
              "      <th>sin_day</th>\n",
              "      <th>cos_day</th>\n",
              "      <th>dayofmonth</th>\n",
              "      <th>weekofyear</th>\n",
              "    </tr>\n",
              "    <tr>\n",
              "      <th>Date</th>\n",
              "      <th></th>\n",
              "      <th></th>\n",
              "      <th></th>\n",
              "      <th></th>\n",
              "      <th></th>\n",
              "      <th></th>\n",
              "      <th></th>\n",
              "      <th></th>\n",
              "      <th></th>\n",
              "      <th></th>\n",
              "      <th></th>\n",
              "      <th></th>\n",
              "    </tr>\n",
              "  </thead>\n",
              "  <tbody>\n",
              "    <tr>\n",
              "      <th>2009-11-29</th>\n",
              "      <td>125490</td>\n",
              "      <td>2009-11-29</td>\n",
              "      <td>0</td>\n",
              "      <td>6</td>\n",
              "      <td>4</td>\n",
              "      <td>11</td>\n",
              "      <td>2009</td>\n",
              "      <td>333</td>\n",
              "      <td>-0.008821</td>\n",
              "      <td>0.999961</td>\n",
              "      <td>29</td>\n",
              "      <td>48</td>\n",
              "    </tr>\n",
              "    <tr>\n",
              "      <th>2009-12-06</th>\n",
              "      <td>110066</td>\n",
              "      <td>2009-12-06</td>\n",
              "      <td>0</td>\n",
              "      <td>6</td>\n",
              "      <td>4</td>\n",
              "      <td>12</td>\n",
              "      <td>2009</td>\n",
              "      <td>340</td>\n",
              "      <td>0.650311</td>\n",
              "      <td>0.759668</td>\n",
              "      <td>6</td>\n",
              "      <td>49</td>\n",
              "    </tr>\n",
              "    <tr>\n",
              "      <th>2009-12-13</th>\n",
              "      <td>129763</td>\n",
              "      <td>2009-12-13</td>\n",
              "      <td>0</td>\n",
              "      <td>6</td>\n",
              "      <td>4</td>\n",
              "      <td>12</td>\n",
              "      <td>2009</td>\n",
              "      <td>347</td>\n",
              "      <td>0.989363</td>\n",
              "      <td>0.145470</td>\n",
              "      <td>13</td>\n",
              "      <td>50</td>\n",
              "    </tr>\n",
              "    <tr>\n",
              "      <th>2009-12-20</th>\n",
              "      <td>27014</td>\n",
              "      <td>2009-12-20</td>\n",
              "      <td>0</td>\n",
              "      <td>6</td>\n",
              "      <td>4</td>\n",
              "      <td>12</td>\n",
              "      <td>2009</td>\n",
              "      <td>354</td>\n",
              "      <td>0.841455</td>\n",
              "      <td>-0.540328</td>\n",
              "      <td>20</td>\n",
              "      <td>51</td>\n",
              "    </tr>\n",
              "    <tr>\n",
              "      <th>2009-12-27</th>\n",
              "      <td>0</td>\n",
              "      <td>2009-12-27</td>\n",
              "      <td>0</td>\n",
              "      <td>6</td>\n",
              "      <td>4</td>\n",
              "      <td>12</td>\n",
              "      <td>2009</td>\n",
              "      <td>361</td>\n",
              "      <td>0.279387</td>\n",
              "      <td>-0.960179</td>\n",
              "      <td>27</td>\n",
              "      <td>52</td>\n",
              "    </tr>\n",
              "    <tr>\n",
              "      <th>...</th>\n",
              "      <td>...</td>\n",
              "      <td>...</td>\n",
              "      <td>...</td>\n",
              "      <td>...</td>\n",
              "      <td>...</td>\n",
              "      <td>...</td>\n",
              "      <td>...</td>\n",
              "      <td>...</td>\n",
              "      <td>...</td>\n",
              "      <td>...</td>\n",
              "      <td>...</td>\n",
              "      <td>...</td>\n",
              "    </tr>\n",
              "    <tr>\n",
              "      <th>2011-10-09</th>\n",
              "      <td>114600</td>\n",
              "      <td>2011-10-09</td>\n",
              "      <td>0</td>\n",
              "      <td>6</td>\n",
              "      <td>4</td>\n",
              "      <td>10</td>\n",
              "      <td>2011</td>\n",
              "      <td>282</td>\n",
              "      <td>-0.676750</td>\n",
              "      <td>0.736213</td>\n",
              "      <td>9</td>\n",
              "      <td>40</td>\n",
              "    </tr>\n",
              "    <tr>\n",
              "      <th>2011-10-16</th>\n",
              "      <td>146799</td>\n",
              "      <td>2011-10-16</td>\n",
              "      <td>0</td>\n",
              "      <td>6</td>\n",
              "      <td>4</td>\n",
              "      <td>10</td>\n",
              "      <td>2011</td>\n",
              "      <td>289</td>\n",
              "      <td>-0.026521</td>\n",
              "      <td>0.999648</td>\n",
              "      <td>16</td>\n",
              "      <td>41</td>\n",
              "    </tr>\n",
              "    <tr>\n",
              "      <th>2011-10-23</th>\n",
              "      <td>134407</td>\n",
              "      <td>2011-10-23</td>\n",
              "      <td>0</td>\n",
              "      <td>6</td>\n",
              "      <td>4</td>\n",
              "      <td>10</td>\n",
              "      <td>2011</td>\n",
              "      <td>296</td>\n",
              "      <td>0.636761</td>\n",
              "      <td>0.771061</td>\n",
              "      <td>23</td>\n",
              "      <td>42</td>\n",
              "    </tr>\n",
              "    <tr>\n",
              "      <th>2011-10-30</th>\n",
              "      <td>148957</td>\n",
              "      <td>2011-10-30</td>\n",
              "      <td>0</td>\n",
              "      <td>6</td>\n",
              "      <td>4</td>\n",
              "      <td>10</td>\n",
              "      <td>2011</td>\n",
              "      <td>303</td>\n",
              "      <td>0.986633</td>\n",
              "      <td>0.162961</td>\n",
              "      <td>30</td>\n",
              "      <td>43</td>\n",
              "    </tr>\n",
              "    <tr>\n",
              "      <th>2011-11-06</th>\n",
              "      <td>175437</td>\n",
              "      <td>2011-11-06</td>\n",
              "      <td>0</td>\n",
              "      <td>6</td>\n",
              "      <td>4</td>\n",
              "      <td>11</td>\n",
              "      <td>2011</td>\n",
              "      <td>310</td>\n",
              "      <td>0.850888</td>\n",
              "      <td>-0.525348</td>\n",
              "      <td>6</td>\n",
              "      <td>44</td>\n",
              "    </tr>\n",
              "  </tbody>\n",
              "</table>\n",
              "<p>102 rows × 12 columns</p>\n",
              "</div>"
            ],
            "text/plain": [
              "            Quantity       date  hour  ...   cos_day  dayofmonth  weekofyear\n",
              "Date                                   ...                                  \n",
              "2009-11-29    125490 2009-11-29     0  ...  0.999961          29          48\n",
              "2009-12-06    110066 2009-12-06     0  ...  0.759668           6          49\n",
              "2009-12-13    129763 2009-12-13     0  ...  0.145470          13          50\n",
              "2009-12-20     27014 2009-12-20     0  ... -0.540328          20          51\n",
              "2009-12-27         0 2009-12-27     0  ... -0.960179          27          52\n",
              "...              ...        ...   ...  ...       ...         ...         ...\n",
              "2011-10-09    114600 2011-10-09     0  ...  0.736213           9          40\n",
              "2011-10-16    146799 2011-10-16     0  ...  0.999648          16          41\n",
              "2011-10-23    134407 2011-10-23     0  ...  0.771061          23          42\n",
              "2011-10-30    148957 2011-10-30     0  ...  0.162961          30          43\n",
              "2011-11-06    175437 2011-11-06     0  ... -0.525348           6          44\n",
              "\n",
              "[102 rows x 12 columns]"
            ]
          },
          "metadata": {},
          "execution_count": 292
        }
      ]
    },
    {
      "cell_type": "code",
      "metadata": {
        "id": "zdv40wKGPzuh"
      },
      "source": [
        "# Transforming the data for Deep Learning\n",
        "# X_train_df, y_train = create_time_features(\n",
        "#     df_training, target='Amount_Spent')\n",
        "# X_test_df, y_test = create_time_features(df_test, target='Amount_Spent')\n",
        "# scaler = StandardScaler()\n",
        "# scaler.fit(X_train_df)  # No cheating, never scale on the training+test!\n",
        "# X_train = scaler.transform(X_train_df)\n",
        "# X_test = scaler.transform(X_test_df)\n",
        "\n",
        "# X_train_df = pd.DataFrame(X_train, columns=X_train_df.columns)\n",
        "# X_test_df = pd.DataFrame(X_test, columns=X_test_df.columns)"
      ],
      "execution_count": null,
      "outputs": []
    },
    {
      "cell_type": "code",
      "metadata": {
        "colab": {
          "base_uri": "https://localhost:8080/"
        },
        "id": "xp9MIvcJhdp3",
        "outputId": "550fc7f7-9740-4a39-bcc2-a68c772f79b4"
      },
      "source": [
        "# For our dl model we will create windows of data that will be feeded into the datasets, for each timestemp T we will append the data from T-7 to T to the Xdata with target Y(t)\n",
        "BATCH_SIZE = 64\n",
        "BUFFER_SIZE = 100\n",
        "WINDOW_LENGTH = 24\n",
        "\n",
        "\n",
        "def window_data(X, Y, window=7):\n",
        "    '''\n",
        "    The dataset length will be reduced to guarante all samples have the window, so new length will be len(dataset)-window\n",
        "    '''\n",
        "    x = []\n",
        "    y = []\n",
        "    for i in range(window-1, len(X)):\n",
        "        x.append(X[i-window+1:i+1])\n",
        "        y.append(Y[i])\n",
        "    return np.array(x), np.array(y)\n",
        "\n",
        "\n",
        "# Since we are doing sliding, we need to join the datasets again of train and test\n",
        "X_w = np.concatenate((X_train, X_test))\n",
        "y_w = np.concatenate((y_train, y_test))\n",
        "\n",
        "X_w, y_w = window_data(X_w, y_w, window=WINDOW_LENGTH)\n",
        "X_train_w = X_w[:-len(X_test)]\n",
        "y_train_w = y_w[:-len(X_test)]\n",
        "X_test_w = X_w[-len(X_test):]\n",
        "y_test_w = y_w[-len(X_test):]\n",
        "\n",
        "# Check we will have same test set as in the previous models, make sure we didnt screw up on the windowing\n",
        "print(f\"Test set equal: {np.array_equal(y_test_w,y_test)}\")\n",
        "\n",
        "train_data = tf.data.Dataset.from_tensor_slices((X_train_w, y_train_w))\n",
        "train_data = train_data.cache().shuffle(BUFFER_SIZE).batch(BATCH_SIZE).repeat()\n",
        "\n",
        "val_data = tf.data.Dataset.from_tensor_slices((X_test_w, y_test_w))\n",
        "val_data = val_data.batch(BATCH_SIZE).repeat()"
      ],
      "execution_count": null,
      "outputs": [
        {
          "output_type": "stream",
          "name": "stdout",
          "text": [
            "Test set equal: True\n"
          ]
        }
      ]
    },
    {
      "cell_type": "code",
      "metadata": {
        "id": "NXMVXOKE5ZKg"
      },
      "source": [
        "dropout = 0.0\n",
        "simple_lstm_model = tf.keras.models.Sequential([\n",
        "    tf.keras.layers.LSTM(\n",
        "        128, input_shape=X_train_w.shape[-2:], dropout=dropout),\n",
        "    tf.keras.layers.Dense(128),\n",
        "    tf.keras.layers.Dense(128),\n",
        "    tf.keras.layers.Dense(1)\n",
        "])\n",
        "\n",
        "simple_lstm_model.compile(optimizer='rmsprop', loss='mae')\n",
        "\n",
        "# logdir = \"logs/scalars/\" + datetime.now().strftime(\"%Y%m%d-%H%M%S\") #Support for tensorboard tracking!\n",
        "# tensorboard_callback = tf.keras.callbacks.TensorBoard(log_dir=logdir)"
      ],
      "execution_count": null,
      "outputs": []
    },
    {
      "cell_type": "code",
      "metadata": {
        "id": "0YI0PwaKxHIj"
      },
      "source": [
        ""
      ],
      "execution_count": null,
      "outputs": []
    },
    {
      "cell_type": "code",
      "metadata": {
        "colab": {
          "base_uri": "https://localhost:8080/"
        },
        "id": "p4vveV6EIMSL",
        "outputId": "7fdf41bc-0c28-4171-b7f8-35249ab6ba52"
      },
      "source": [
        "EVALUATION_INTERVAL = 200\n",
        "EPOCHS = 10\n",
        "\n",
        "model_history = simple_lstm_model.fit(train_data, epochs=EPOCHS,\n",
        "                                      steps_per_epoch=EVALUATION_INTERVAL,\n",
        "                                      validation_data=val_data, validation_steps=50)  # ,callbacks=[tensorboard_callback]) #Uncomment this line for tensorboard support"
      ],
      "execution_count": null,
      "outputs": [
        {
          "output_type": "stream",
          "name": "stdout",
          "text": [
            "Epoch 1/10\n",
            "200/200 [==============================] - 10s 38ms/step - loss: 82932.2812 - val_loss: 110427.6797\n",
            "Epoch 2/10\n",
            "200/200 [==============================] - 7s 35ms/step - loss: 29519.6660 - val_loss: 35150.7500\n",
            "Epoch 3/10\n",
            "200/200 [==============================] - 7s 35ms/step - loss: 15250.6123 - val_loss: 10522.5010\n",
            "Epoch 4/10\n",
            "200/200 [==============================] - 7s 35ms/step - loss: 11866.7842 - val_loss: 15533.8975\n",
            "Epoch 5/10\n",
            "200/200 [==============================] - 7s 35ms/step - loss: 10256.7734 - val_loss: 18136.9844\n",
            "Epoch 6/10\n",
            "200/200 [==============================] - 7s 35ms/step - loss: 8936.1025 - val_loss: 19302.3711\n",
            "Epoch 7/10\n",
            "200/200 [==============================] - 7s 35ms/step - loss: 7512.0142 - val_loss: 19814.7520\n",
            "Epoch 8/10\n",
            "200/200 [==============================] - 7s 34ms/step - loss: 6304.7261 - val_loss: 24064.0117\n",
            "Epoch 9/10\n",
            "200/200 [==============================] - 7s 34ms/step - loss: 5556.5308 - val_loss: 20520.6406\n",
            "Epoch 10/10\n",
            "200/200 [==============================] - 7s 34ms/step - loss: 4781.7422 - val_loss: 22374.6699\n"
          ]
        }
      ]
    },
    {
      "cell_type": "code",
      "metadata": {
        "id": "zyCsNjPZIbS9"
      },
      "source": [
        "yhat = simple_lstm_model.predict(X_test_w).reshape(1, -1)[0]\n",
        "resultsDict['Tensorflow simple LSTM'] = evaluate(y_test, yhat)\n",
        "predictionsDict['Tensorflow simple LSTM'] = yhat"
      ],
      "execution_count": null,
      "outputs": []
    },
    {
      "cell_type": "code",
      "metadata": {
        "colab": {
          "base_uri": "https://localhost:8080/"
        },
        "id": "j5azXCb0IfZw",
        "outputId": "f8b70d2f-a5b0-45c2-81f4-5e30fce48cc4"
      },
      "source": [
        "resultsDict"
      ],
      "execution_count": null,
      "outputs": [
        {
          "output_type": "execute_result",
          "data": {
            "text/plain": [
              "{'AR': {'mae': 21274.449418795593,\n",
              "  'mape': 0.13224040117406527,\n",
              "  'r2': -1.8812488878038707,\n",
              "  'rmse': 22384.516652655242},\n",
              " 'ARIMA': {'mae': 17889.69493700406,\n",
              "  'mape': 0.10966924216063507,\n",
              "  'r2': -1.621837191433773,\n",
              "  'rmse': 21353.06359279361},\n",
              " 'ARMA': {'mae': 17967.872025480618,\n",
              "  'mape': 0.11018538935044533,\n",
              "  'r2': -1.5848853412068404,\n",
              "  'rmse': 21202.055910589734},\n",
              " 'AutoARIMA (1, 0, 0)': {'mae': 17889.69493700406,\n",
              "  'mape': 0.10966924216063507,\n",
              "  'r2': -1.621837191433773,\n",
              "  'rmse': 21353.06359279361},\n",
              " 'AutoSARIMAX (1, 0, 0),(0, 0, 0, 2)': {'mae': 8864.467639330236,\n",
              "  'mape': 0.056112088410109284,\n",
              "  'r2': 0.45758807312406724,\n",
              "  'rmse': 9712.296871645192},\n",
              " 'BayesianRidge': {'mae': 32083.08118414712,\n",
              "  'mape': 0.1965845659934906,\n",
              "  'r2': -6.65331929442584,\n",
              "  'rmse': 36482.303315112265},\n",
              " 'HWES': {'mae': 13697.959852637745,\n",
              "  'mape': 0.08706640386845278,\n",
              "  'r2': -0.4372433819644075,\n",
              "  'rmse': 15809.658623520598},\n",
              " 'KNeighbors': {'mae': 26703.55938142319,\n",
              "  'mape': 0.16199238074064612,\n",
              "  'r2': -4.948444729314532,\n",
              "  'rmse': 32163.185010321733},\n",
              " 'Kneighbors': {'mae': 20563.375,\n",
              "  'mape': 0.12792141062143764,\n",
              "  'r2': -1.7550727072789631,\n",
              "  'rmse': 21888.896404627165},\n",
              " 'Lasso': {'mae': 26703.55938142319,\n",
              "  'mape': 0.16199238074064612,\n",
              "  'r2': -4.948444729314532,\n",
              "  'rmse': 32163.185010321733},\n",
              " 'LightGBM': {'mae': 28783.92578125,\n",
              "  'mape': 0.18607997755607655,\n",
              "  'r2': -5.805708897742901,\n",
              "  'rmse': 34402.81801251298},\n",
              " 'Lightgbm': {'mae': 26929.42919847399,\n",
              "  'mape': 0.1643673242160161,\n",
              "  'r2': -5.443198832735387,\n",
              "  'rmse': 33474.03765838882},\n",
              " 'MA': {'mae': 39521.41047490899,\n",
              "  'mape': 0.24710985372592503,\n",
              "  'r2': -8.765039332636457,\n",
              "  'rmse': 41209.21408696808},\n",
              " 'Naive mean': {'mae': 64380.63725490196,\n",
              "  'mape': 0.40404962183236276,\n",
              "  'r2': -23.833941831061757,\n",
              "  'rmse': 65717.36828150737},\n",
              " 'Prophet multivariate': {'mae': 48318.604453567124,\n",
              "  'mape': 0.3015132129668772,\n",
              "  'r2': -13.462674963130201,\n",
              "  'rmse': 50151.23665351092},\n",
              " 'Prophet univariate': {'mae': 77298.07473579783,\n",
              "  'mape': 0.49195332504175276,\n",
              "  'r2': -48.0286866474169,\n",
              "  'rmse': 92338.42518565872},\n",
              " 'Randomforest': {'mae': 15139.478225690436,\n",
              "  'mape': 0.08995804794499901,\n",
              "  'r2': -1.3505487518450678,\n",
              "  'rmse': 20218.175645581698},\n",
              " 'SARIMAX': {'mae': 118119.60387865943,\n",
              "  'mape': 0.7410413763825117,\n",
              "  'r2': -87.03955029657169,\n",
              "  'rmse': 123736.04810029041},\n",
              " 'SES': {'mae': 13697.959852637745,\n",
              "  'mape': 0.08706640386845278,\n",
              "  'r2': -0.4372433819644075,\n",
              "  'rmse': 15809.658623520598},\n",
              " 'SVM RBF': {'mae': 69624.19191807767,\n",
              "  'mape': 0.437486005678421,\n",
              "  'r2': -27.874243137850005,\n",
              "  'rmse': 70861.87477436503},\n",
              " 'Tensorflow simple LSTM': {'mae': 9934.940446690041,\n",
              "  'mape': 1565292162214.229,\n",
              "  'r2': 0.5923524282887452,\n",
              "  'rmse': 14030.183366088855},\n",
              " 'XGB_test': {'mae': 28783.92578125,\n",
              "  'mape': 0.18607997755607655,\n",
              "  'r2': -5.805708897742901,\n",
              "  'rmse': 34402.81801251298},\n",
              " 'XGBoost': {'mae': 28783.92578125,\n",
              "  'mape': 0.18607997755607655,\n",
              "  'r2': -5.805708897742901,\n",
              "  'rmse': 34402.81801251298}}"
            ]
          },
          "metadata": {},
          "execution_count": 216
        }
      ]
    },
    {
      "cell_type": "markdown",
      "metadata": {
        "id": "Nk6sxC5qZlwg"
      },
      "source": [
        "## Deep AR"
      ]
    },
    {
      "cell_type": "code",
      "metadata": {
        "id": "DQ9hwaFAZsUh"
      },
      "source": [
        "features = list(df_training.columns)"
      ],
      "execution_count": null,
      "outputs": []
    },
    {
      "cell_type": "code",
      "metadata": {
        "id": "tqUMsbccZ0Si"
      },
      "source": [
        "training_data = ListDataset(\n",
        "    [{\"start\": df_training.index[0], \"target\": df_training.Amount_Spent,\n",
        "      'feat_dynamic_real': [df_training[feature] for feature in features]\n",
        "      }],\n",
        "    freq=\"d\"\n",
        ")\n",
        "\n",
        "test_data = ListDataset(\n",
        "    [{\"start\": df_test.index[0], \"target\": df_test.Amount_Spent,\n",
        "      'feat_dynamic_real': [df_test[feature] for feature in features]\n",
        "      }],\n",
        "    freq=\"d\"\n",
        ")"
      ],
      "execution_count": null,
      "outputs": []
    },
    {
      "cell_type": "code",
      "metadata": {
        "colab": {
          "base_uri": "https://localhost:8080/"
        },
        "id": "5FjBHdmgbNaS",
        "outputId": "0426425a-e70e-4453-9a05-5bef3346a8b3"
      },
      "source": [
        "estimator = DeepAREstimator(freq=\"d\",\n",
        "                            prediction_length=1, context_length=30,\n",
        "                            trainer=Trainer(epochs=5))\n",
        "\n",
        "predictor = estimator.train(training_data=training_data)\n",
        "\n",
        "\n",
        "forecast_it, ts_it = make_evaluation_predictions(\n",
        "    test_data, predictor=predictor, num_samples=len(df_test))\n",
        "\n",
        "forecasts = list(forecast_it)\n",
        "tss = list(ts_it)"
      ],
      "execution_count": null,
      "outputs": [
        {
          "output_type": "stream",
          "name": "stderr",
          "text": [
            "INFO:gluonts.trainer:Start model training\n",
            "INFO:gluonts.trainer:Epoch[0] Learning rate is 0.001\n",
            "  0%|          | 0/50 [00:00<?, ?it/s]INFO:gluonts.trainer:Number of parameters in DeepARTrainingNetwork: 25884\n",
            "100%|██████████| 50/50 [00:04<00:00, 12.04it/s, epoch=1/5, avg_epoch_loss=11.1]\n",
            "INFO:gluonts.trainer:Epoch[0] Elapsed time 4.165 seconds\n",
            "INFO:gluonts.trainer:Epoch[0] Evaluation metric 'epoch_loss'=11.114265\n",
            "INFO:gluonts.trainer:Epoch[1] Learning rate is 0.001\n",
            "100%|██████████| 50/50 [00:03<00:00, 13.32it/s, epoch=2/5, avg_epoch_loss=10.7]\n",
            "INFO:gluonts.trainer:Epoch[1] Elapsed time 3.765 seconds\n",
            "INFO:gluonts.trainer:Epoch[1] Evaluation metric 'epoch_loss'=10.738511\n",
            "INFO:gluonts.trainer:Epoch[2] Learning rate is 0.001\n",
            "100%|██████████| 50/50 [00:03<00:00, 13.54it/s, epoch=3/5, avg_epoch_loss=10.5]\n",
            "INFO:gluonts.trainer:Epoch[2] Elapsed time 3.699 seconds\n",
            "INFO:gluonts.trainer:Epoch[2] Evaluation metric 'epoch_loss'=10.530960\n",
            "INFO:gluonts.trainer:Epoch[3] Learning rate is 0.001\n",
            "100%|██████████| 50/50 [00:03<00:00, 13.45it/s, epoch=4/5, avg_epoch_loss=10.4]\n",
            "INFO:gluonts.trainer:Epoch[3] Elapsed time 3.729 seconds\n",
            "INFO:gluonts.trainer:Epoch[3] Evaluation metric 'epoch_loss'=10.402856\n",
            "INFO:gluonts.trainer:Epoch[4] Learning rate is 0.001\n",
            "100%|██████████| 50/50 [00:03<00:00, 13.52it/s, epoch=5/5, avg_epoch_loss=10.3]\n",
            "INFO:gluonts.trainer:Epoch[4] Elapsed time 3.703 seconds\n",
            "INFO:gluonts.trainer:Epoch[4] Evaluation metric 'epoch_loss'=10.348450\n",
            "INFO:root:Computing averaged parameters.\n",
            "INFO:root:Loading averaged parameters.\n",
            "INFO:gluonts.trainer:End model training\n"
          ]
        }
      ]
    },
    {
      "cell_type": "code",
      "metadata": {
        "id": "h1uAS32vbZ-b"
      },
      "source": [
        "yhat = forecasts[0].samples.reshape(1, -1)[0]\n",
        "resultsDict['DeepAR'] = evaluate(y_test, yhat)\n",
        "predictionsDict['DeepAR'] = yhat"
      ],
      "execution_count": null,
      "outputs": []
    },
    {
      "cell_type": "code",
      "metadata": {
        "colab": {
          "base_uri": "https://localhost:8080/"
        },
        "id": "BRxB1_JHbbwE",
        "outputId": "e7424b3c-ed34-4ff4-978c-c2c3dee835a3"
      },
      "source": [
        "resultsDict['DeepAR']"
      ],
      "execution_count": null,
      "outputs": [
        {
          "output_type": "execute_result",
          "data": {
            "text/plain": [
              "{'mae': 24734.603479962934,\n",
              " 'mape': 37334046456473.664,\n",
              " 'r2': -0.8237353721114968,\n",
              " 'rmse': 29675.758487058385}"
            ]
          },
          "metadata": {},
          "execution_count": 228
        }
      ]
    },
    {
      "cell_type": "markdown",
      "metadata": {
        "id": "fu_zqnd_bqXR"
      },
      "source": [
        "Some Hyper Parameter Optimization Methods\n"
      ]
    },
    {
      "cell_type": "code",
      "metadata": {
        "id": "OUAoI9E7bpZ7"
      },
      "source": [
        "reg = GridSearchCV(svm.SVR(kernel='rbf', gamma=0.1),\n",
        "                   param_grid={\"C\": [1e0, 1e1, 1e2, 1e3],\n",
        "                               \"gamma\": np.logspace(-2, 2, 5)})\n",
        "reg.fit(X_train, y_train)\n",
        "yhat = reg.predict(X_test)\n",
        "resultsDict['SVM RBF GRID SEARCH 2'] = evaluate(test_df.Quantity, yhat)\n",
        "predictionsDict['SVM RBF GRID SEARCH 2'] = yhat"
      ],
      "execution_count": null,
      "outputs": []
    },
    {
      "cell_type": "code",
      "metadata": {
        "colab": {
          "base_uri": "https://localhost:8080/"
        },
        "id": "WWrf5weXb202",
        "outputId": "ac9024bf-413c-41ae-be8e-8fe03fa5e44a"
      },
      "source": [
        "resultsDict['SVM RBF GRID SEARCH']"
      ],
      "execution_count": null,
      "outputs": [
        {
          "output_type": "execute_result",
          "data": {
            "text/plain": [
              "{'mae': 19062.47413918481,\n",
              " 'mape': 36833528735135.02,\n",
              " 'r2': 0.0006016830906163673,\n",
              " 'rmse': 21967.985036110087}"
            ]
          },
          "metadata": {},
          "execution_count": 241
        }
      ]
    },
    {
      "cell_type": "code",
      "metadata": {
        "colab": {
          "base_uri": "https://localhost:8080/"
        },
        "id": "POiIDWwUb4Rq",
        "outputId": "57bba38b-7ea5-4bd4-db21-f0f2a32b18aa"
      },
      "source": [
        "resultsDict['SVM RBF GRID SEARCH 2']"
      ],
      "execution_count": null,
      "outputs": [
        {
          "output_type": "execute_result",
          "data": {
            "text/plain": [
              "{'mae': 59246.42986667021,\n",
              " 'mape': 0.3712058353534466,\n",
              " 'r2': -20.21925587949882,\n",
              " 'rmse': 60746.66058607654}"
            ]
          },
          "metadata": {},
          "execution_count": 242
        }
      ]
    },
    {
      "cell_type": "code",
      "metadata": {
        "colab": {
          "base_uri": "https://localhost:8080/"
        },
        "id": "zLQVrafIdL69",
        "outputId": "aad2c002-9c1d-4ed2-ba5e-111685ab4236"
      },
      "source": [
        "increase = 1 - (resultsDict['SVM RBF GRID SEARCH']\n",
        "                ['rmse']/resultsDict['SVM RBF']['rmse'])\n",
        "print(\n",
        "    f\"Grid search Tunned SVM is {increase*100}% better than the SVM with default parameters\")"
      ],
      "execution_count": null,
      "outputs": [
        {
          "output_type": "stream",
          "name": "stdout",
          "text": [
            "Grid search Tunned SVM is 68.99886560148248% better than the SVM with default parameters\n"
          ]
        }
      ]
    },
    {
      "cell_type": "code",
      "metadata": {
        "id": "Q5Pt7kune6P6"
      },
      "source": [
        "def rms(y_actual, y_predicted):\n",
        "    return sqrt(mean_squared_error(y_actual, y_predicted))\n",
        "\n",
        "\n",
        "my_scorer = make_scorer(rms, greater_is_better=False)\n",
        "pbounds = {\n",
        "    'n_estimators': (100, 10000),\n",
        "    'max_depth': (3, 15),\n",
        "    'min_samples_leaf': (1, 4),\n",
        "    'min_samples_split': (2, 10),\n",
        "}\n",
        "\n",
        "\n",
        "def rf_hyper_param(n_estimators,\n",
        "                   max_depth,\n",
        "                   min_samples_leaf,\n",
        "                   min_samples_split):\n",
        "\n",
        "    max_depth = int(max_depth)\n",
        "    n_estimators = int(n_estimators)\n",
        "\n",
        "    clf = RandomForestRegressor(n_estimators=n_estimators,\n",
        "                                max_depth=int(max_depth),\n",
        "                                min_samples_leaf=int(min_samples_leaf),\n",
        "                                min_samples_split=int(min_samples_split),\n",
        "                                n_jobs=1)\n",
        "\n",
        "    return -np.mean(cross_val_score(clf, X_train, y_train, cv=3))\n",
        "\n",
        "\n",
        "optimizer = BayesianOptimization(\n",
        "    f=rf_hyper_param,\n",
        "    pbounds=pbounds,\n",
        "    random_state=1,\n",
        ")"
      ],
      "execution_count": null,
      "outputs": []
    },
    {
      "cell_type": "code",
      "metadata": {
        "colab": {
          "base_uri": "https://localhost:8080/"
        },
        "id": "KB6vcrKpfFne",
        "outputId": "be9c0a3b-3483-46ed-94a4-82551184a951"
      },
      "source": [
        "optimizer.maximize(\n",
        "    init_points=3,\n",
        "    n_iter=20,\n",
        "    acq='ei'\n",
        ")"
      ],
      "execution_count": null,
      "outputs": [
        {
          "output_type": "stream",
          "name": "stdout",
          "text": [
            "|   iter    |  target   | max_depth | min_sa... | min_sa... | n_esti... |\n",
            "-------------------------------------------------------------------------\n",
            "| \u001b[0m 1       \u001b[0m | \u001b[0m-0.5254  \u001b[0m | \u001b[0m 8.004   \u001b[0m | \u001b[0m 3.161   \u001b[0m | \u001b[0m 2.001   \u001b[0m | \u001b[0m 3.093e+0\u001b[0m |\n",
            "| \u001b[0m 2       \u001b[0m | \u001b[0m-0.5567  \u001b[0m | \u001b[0m 4.761   \u001b[0m | \u001b[0m 1.277   \u001b[0m | \u001b[0m 3.49    \u001b[0m | \u001b[0m 3.521e+0\u001b[0m |\n",
            "| \u001b[0m 3       \u001b[0m | \u001b[0m-0.5282  \u001b[0m | \u001b[0m 7.761   \u001b[0m | \u001b[0m 2.616   \u001b[0m | \u001b[0m 5.354   \u001b[0m | \u001b[0m 6.884e+0\u001b[0m |\n",
            "| \u001b[0m 4       \u001b[0m | \u001b[0m-0.5276  \u001b[0m | \u001b[0m 15.0    \u001b[0m | \u001b[0m 4.0     \u001b[0m | \u001b[0m 2.0     \u001b[0m | \u001b[0m 100.0   \u001b[0m |\n",
            "| \u001b[0m 5       \u001b[0m | \u001b[0m-0.5287  \u001b[0m | \u001b[0m 15.0    \u001b[0m | \u001b[0m 4.0     \u001b[0m | \u001b[0m 2.0     \u001b[0m | \u001b[0m 1e+04   \u001b[0m |\n",
            "| \u001b[0m 6       \u001b[0m | \u001b[0m-0.5586  \u001b[0m | \u001b[0m 4.895   \u001b[0m | \u001b[0m 3.298   \u001b[0m | \u001b[0m 3.9     \u001b[0m | \u001b[0m 3.095e+0\u001b[0m |\n",
            "| \u001b[95m 7       \u001b[0m | \u001b[95m-0.5166  \u001b[0m | \u001b[95m 14.68   \u001b[0m | \u001b[95m 2.053   \u001b[0m | \u001b[95m 2.634   \u001b[0m | \u001b[95m 2.879e+0\u001b[0m |\n",
            "| \u001b[95m 8       \u001b[0m | \u001b[95m-0.5162  \u001b[0m | \u001b[95m 13.37   \u001b[0m | \u001b[95m 1.758   \u001b[0m | \u001b[95m 5.552   \u001b[0m | \u001b[95m 4.134e+0\u001b[0m |\n",
            "| \u001b[0m 9       \u001b[0m | \u001b[0m-0.5473  \u001b[0m | \u001b[0m 5.942   \u001b[0m | \u001b[0m 3.086   \u001b[0m | \u001b[0m 4.383   \u001b[0m | \u001b[0m 4.693e+0\u001b[0m |\n",
            "| \u001b[0m 10      \u001b[0m | \u001b[0m-0.5246  \u001b[0m | \u001b[0m 11.13   \u001b[0m | \u001b[0m 2.336   \u001b[0m | \u001b[0m 6.991   \u001b[0m | \u001b[0m 751.4   \u001b[0m |\n",
            "| \u001b[0m 11      \u001b[0m | \u001b[0m-0.5271  \u001b[0m | \u001b[0m 14.15   \u001b[0m | \u001b[0m 3.383   \u001b[0m | \u001b[0m 8.37    \u001b[0m | \u001b[0m 1.376e+0\u001b[0m |\n",
            "| \u001b[0m 12      \u001b[0m | \u001b[0m-0.524   \u001b[0m | \u001b[0m 13.09   \u001b[0m | \u001b[0m 3.658   \u001b[0m | \u001b[0m 3.791   \u001b[0m | \u001b[0m 7.577e+0\u001b[0m |\n",
            "| \u001b[0m 13      \u001b[0m | \u001b[0m-0.547   \u001b[0m | \u001b[0m 5.88    \u001b[0m | \u001b[0m 2.338   \u001b[0m | \u001b[0m 3.249   \u001b[0m | \u001b[0m 8.211e+0\u001b[0m |\n",
            "| \u001b[0m 14      \u001b[0m | \u001b[0m-0.5525  \u001b[0m | \u001b[0m 4.107   \u001b[0m | \u001b[0m 1.984   \u001b[0m | \u001b[0m 9.133   \u001b[0m | \u001b[0m 6.199e+0\u001b[0m |\n",
            "| \u001b[0m 15      \u001b[0m | \u001b[0m-0.5243  \u001b[0m | \u001b[0m 10.19   \u001b[0m | \u001b[0m 3.364   \u001b[0m | \u001b[0m 5.423   \u001b[0m | \u001b[0m 9.335e+0\u001b[0m |\n",
            "| \u001b[95m 16      \u001b[0m | \u001b[95m-0.5142  \u001b[0m | \u001b[95m 12.71   \u001b[0m | \u001b[95m 2.09    \u001b[0m | \u001b[95m 4.531   \u001b[0m | \u001b[95m 1.966e+0\u001b[0m |\n",
            "| \u001b[95m 17      \u001b[0m | \u001b[95m-0.5001  \u001b[0m | \u001b[95m 13.42   \u001b[0m | \u001b[95m 1.385   \u001b[0m | \u001b[95m 2.367   \u001b[0m | \u001b[95m 5.436e+0\u001b[0m |\n",
            "| \u001b[0m 18      \u001b[0m | \u001b[0m-0.524   \u001b[0m | \u001b[0m 13.54   \u001b[0m | \u001b[0m 3.406   \u001b[0m | \u001b[0m 4.938   \u001b[0m | \u001b[0m 8.804e+0\u001b[0m |\n",
            "| \u001b[0m 19      \u001b[0m | \u001b[0m-0.5002  \u001b[0m | \u001b[0m 15.0    \u001b[0m | \u001b[0m 1.0     \u001b[0m | \u001b[0m 2.0     \u001b[0m | \u001b[0m 2.365e+0\u001b[0m |\n",
            "| \u001b[0m 20      \u001b[0m | \u001b[0m-0.5248  \u001b[0m | \u001b[0m 14.56   \u001b[0m | \u001b[0m 2.477   \u001b[0m | \u001b[0m 7.319   \u001b[0m | \u001b[0m 5.802e+0\u001b[0m |\n",
            "| \u001b[0m 21      \u001b[0m | \u001b[0m-0.5592  \u001b[0m | \u001b[0m 4.474   \u001b[0m | \u001b[0m 3.472   \u001b[0m | \u001b[0m 4.636   \u001b[0m | \u001b[0m 5.076e+0\u001b[0m |\n",
            "| \u001b[0m 22      \u001b[0m | \u001b[0m-0.5213  \u001b[0m | \u001b[0m 13.97   \u001b[0m | \u001b[0m 3.068   \u001b[0m | \u001b[0m 3.807   \u001b[0m | \u001b[0m 2.367e+0\u001b[0m |\n",
            "| \u001b[0m 23      \u001b[0m | \u001b[0m-0.5175  \u001b[0m | \u001b[0m 14.2    \u001b[0m | \u001b[0m 2.229   \u001b[0m | \u001b[0m 2.976   \u001b[0m | \u001b[0m 2.196e+0\u001b[0m |\n",
            "=========================================================================\n"
          ]
        }
      ]
    },
    {
      "cell_type": "code",
      "metadata": {
        "id": "JB7Oq8jjhyoD"
      },
      "source": [
        "params = optimizer.max['params']\n",
        "\n",
        "# Converting the max_depth and n_estimator values from float to int\n",
        "params['max_depth'] = int(params['max_depth'])\n",
        "params['n_estimators'] = int(params['n_estimators'])\n",
        "params['min_samples_leaf'] = int(params['min_samples_leaf'])\n",
        "params['min_samples_split'] = int(params['min_samples_split'])\n",
        "\n",
        "# Initialize an XGBRegressor with the tuned parameters and fit the training data\n",
        "tunned_rf = RandomForestRegressor(**params)\n",
        "# Change verbose to True if you want to see it train\n",
        "tunned_rf.fit(X_train, y_train)\n",
        "\n",
        "yhat = tunned_rf.predict(X_test)\n",
        "resultsDict['Randomforest tunned'] = evaluate(y_test, yhat)"
      ],
      "execution_count": null,
      "outputs": []
    },
    {
      "cell_type": "code",
      "metadata": {
        "colab": {
          "base_uri": "https://localhost:8080/"
        },
        "id": "nnG27qGPh-x3",
        "outputId": "e0bf5f19-0a3d-48b5-c61c-abe21c58ccff"
      },
      "source": [
        "increase = 1 - (resultsDict['Randomforest tunned']\n",
        "                ['rmse']/resultsDict['Randomforest']['rmse'])\n",
        "print(\n",
        "    f\"Bayesian optimized Randomforest is {increase*100}% better than the Randomforest with default parameters\")"
      ],
      "execution_count": null,
      "outputs": [
        {
          "output_type": "stream",
          "name": "stdout",
          "text": [
            "Bayesian optimized Randomforest is 37.28287358299437% better than the Randomforest with default parameters\n"
          ]
        }
      ]
    },
    {
      "cell_type": "code",
      "metadata": {
        "colab": {
          "base_uri": "https://localhost:8080/"
        },
        "id": "ZN67GyrTkvxp",
        "outputId": "854484cb-86fe-4fa7-f6fd-e72b1e07051a"
      },
      "source": [
        "resultsDict"
      ],
      "execution_count": null,
      "outputs": [
        {
          "output_type": "execute_result",
          "data": {
            "text/plain": [
              "{'AR': {'mae': 21274.449418795593,\n",
              "  'mape': 0.13224040117406527,\n",
              "  'r2': -1.8812488878038707,\n",
              "  'rmse': 22384.516652655242},\n",
              " 'ARIMA': {'mae': 17889.69493700406,\n",
              "  'mape': 0.10966924216063507,\n",
              "  'r2': -1.621837191433773,\n",
              "  'rmse': 21353.06359279361},\n",
              " 'ARMA': {'mae': 17967.872025480618,\n",
              "  'mape': 0.11018538935044533,\n",
              "  'r2': -1.5848853412068404,\n",
              "  'rmse': 21202.055910589734},\n",
              " 'AutoARIMA (1, 0, 0)': {'mae': 17889.69493700406,\n",
              "  'mape': 0.10966924216063507,\n",
              "  'r2': -1.621837191433773,\n",
              "  'rmse': 21353.06359279361},\n",
              " 'AutoSARIMAX (1, 0, 0),(0, 0, 0, 2)': {'mae': 8864.467639330236,\n",
              "  'mape': 0.056112088410109284,\n",
              "  'r2': 0.45758807312406724,\n",
              "  'rmse': 9712.296871645192},\n",
              " 'BayesianRidge': {'mae': 32083.08118414712,\n",
              "  'mape': 0.1965845659934906,\n",
              "  'r2': -6.65331929442584,\n",
              "  'rmse': 36482.303315112265},\n",
              " 'DeepAR': {'mae': 24734.603479962934,\n",
              "  'mape': 37334046456473.664,\n",
              "  'r2': -0.8237353721114968,\n",
              "  'rmse': 29675.758487058385},\n",
              " 'HWES': {'mae': 13697.959852637745,\n",
              "  'mape': 0.08706640386845278,\n",
              "  'r2': -0.4372433819644075,\n",
              "  'rmse': 15809.658623520598},\n",
              " 'KNeighbors': {'mae': 26703.55938142319,\n",
              "  'mape': 0.16199238074064612,\n",
              "  'r2': -4.948444729314532,\n",
              "  'rmse': 32163.185010321733},\n",
              " 'Kneighbors': {'mae': 20563.375,\n",
              "  'mape': 0.12792141062143764,\n",
              "  'r2': -1.7550727072789631,\n",
              "  'rmse': 21888.896404627165},\n",
              " 'Lasso': {'mae': 26703.55938142319,\n",
              "  'mape': 0.16199238074064612,\n",
              "  'r2': -4.948444729314532,\n",
              "  'rmse': 32163.185010321733},\n",
              " 'LightGBM': {'mae': 28783.92578125,\n",
              "  'mape': 0.18607997755607655,\n",
              "  'r2': -5.805708897742901,\n",
              "  'rmse': 34402.81801251298},\n",
              " 'Lightgbm': {'mae': 26929.42919847399,\n",
              "  'mape': 0.1643673242160161,\n",
              "  'r2': -5.443198832735387,\n",
              "  'rmse': 33474.03765838882},\n",
              " 'Lightgbm 2': {'mae': 8663.044135515223,\n",
              "  'mape': 6385109908287.111,\n",
              "  'r2': 0.7446250694607179,\n",
              "  'rmse': 11104.782273939358},\n",
              " 'MA': {'mae': 39521.41047490899,\n",
              "  'mape': 0.24710985372592503,\n",
              "  'r2': -8.765039332636457,\n",
              "  'rmse': 41209.21408696808},\n",
              " 'Naive mean': {'mae': 64380.63725490196,\n",
              "  'mape': 0.40404962183236276,\n",
              "  'r2': -23.833941831061757,\n",
              "  'rmse': 65717.36828150737},\n",
              " 'Prophet multivariate': {'mae': 48318.604453567124,\n",
              "  'mape': 0.3015132129668772,\n",
              "  'r2': -13.462674963130201,\n",
              "  'rmse': 50151.23665351092},\n",
              " 'Prophet univariate': {'mae': 77298.07473579783,\n",
              "  'mape': 0.49195332504175276,\n",
              "  'r2': -48.0286866474169,\n",
              "  'rmse': 92338.42518565872},\n",
              " 'Randomforest': {'mae': 15139.478225690436,\n",
              "  'mape': 0.08995804794499901,\n",
              "  'r2': -1.3505487518450678,\n",
              "  'rmse': 20218.175645581698},\n",
              " 'Randomforest tunned': {'mae': 8636.969898021141,\n",
              "  'mape': 21818951242.1698,\n",
              "  'r2': 0.6670228751265097,\n",
              "  'rmse': 12680.258778851718},\n",
              " 'SARIMAX': {'mae': 118119.60387865943,\n",
              "  'mape': 0.7410413763825117,\n",
              "  'r2': -87.03955029657169,\n",
              "  'rmse': 123736.04810029041},\n",
              " 'SES': {'mae': 13697.959852637745,\n",
              "  'mape': 0.08706640386845278,\n",
              "  'r2': -0.4372433819644075,\n",
              "  'rmse': 15809.658623520598},\n",
              " 'SVM RBF': {'mae': 69624.19191807767,\n",
              "  'mape': 0.437486005678421,\n",
              "  'r2': -27.874243137850005,\n",
              "  'rmse': 70861.87477436503},\n",
              " 'SVM RBF GRID SEARCH': {'mae': 19062.47413918481,\n",
              "  'mape': 36833528735135.02,\n",
              "  'r2': 0.0006016830906163673,\n",
              "  'rmse': 21967.985036110087},\n",
              " 'SVM RBF GRID SEARCH 2': {'mae': 59246.42986667021,\n",
              "  'mape': 0.3712058353534466,\n",
              "  'r2': -20.21925587949882,\n",
              "  'rmse': 60746.66058607654},\n",
              " 'Tensorflow simple LSTM': {'mae': 9934.940446690041,\n",
              "  'mape': 1565292162214.229,\n",
              "  'r2': 0.5923524282887452,\n",
              "  'rmse': 14030.183366088855},\n",
              " 'XGB_test': {'mae': 28783.92578125,\n",
              "  'mape': 0.18607997755607655,\n",
              "  'r2': -5.805708897742901,\n",
              "  'rmse': 34402.81801251298},\n",
              " 'XGBoost': {'mae': 28783.92578125,\n",
              "  'mape': 0.18607997755607655,\n",
              "  'r2': -5.805708897742901,\n",
              "  'rmse': 34402.81801251298},\n",
              " 'XGBoost 2': {'mae': 8663.044135515223,\n",
              "  'mape': 6385109908287.111,\n",
              "  'r2': 0.7446250694607179,\n",
              "  'rmse': 11104.782273939358}}"
            ]
          },
          "metadata": {},
          "execution_count": 262
        }
      ]
    },
    {
      "cell_type": "code",
      "metadata": {
        "colab": {
          "base_uri": "https://localhost:8080/"
        },
        "id": "DNQWMy-ZlXer",
        "outputId": "4c32566e-4fd6-4ae0-9bcb-fd4f2536d49e"
      },
      "source": [
        "len(df_test.Amount_Spent.values)"
      ],
      "execution_count": null,
      "outputs": [
        {
          "output_type": "execute_result",
          "data": {
            "text/plain": [
              "28"
            ]
          },
          "metadata": {},
          "execution_count": 268
        }
      ]
    },
    {
      "cell_type": "code",
      "metadata": {
        "colab": {
          "base_uri": "https://localhost:8080/",
          "height": 122
        },
        "id": "1FHuJQ27iC4C",
        "outputId": "b34ab66b-de48-42d2-848e-2f9a4e77066b"
      },
      "source": [
        "models = ['Tensorflow simple LSTM',\n",
        "          'Lightgbm 2',\n",
        "          'XGBoost 2']\n",
        "\n",
        "my_predictions = {}\n",
        "\n",
        "for model in models:\n",
        "  my_predictions[model] = predictionsDict[model]\n",
        "\n",
        "resis = pd.DataFrame(data={k: df_test.Amount_Spent.values -\n",
        "                     v for k, v in my_predictions.items()})[models]\n",
        "corr = resis.corr()\n",
        "print(\"Residuals correlation\")\n",
        "corr.style.background_gradient(cmap='coolwarm')"
      ],
      "execution_count": null,
      "outputs": [
        {
          "output_type": "stream",
          "name": "stdout",
          "text": [
            "Residuals correlation\n"
          ]
        },
        {
          "output_type": "execute_result",
          "data": {
            "text/html": [
              "<style  type=\"text/css\" >\n",
              "#T_ac094d2a_220e_11ec_8f19_0242ac1c0002row0_col0,#T_ac094d2a_220e_11ec_8f19_0242ac1c0002row1_col1,#T_ac094d2a_220e_11ec_8f19_0242ac1c0002row2_col2{\n",
              "            background-color:  #b40426;\n",
              "            color:  #f1f1f1;\n",
              "        }#T_ac094d2a_220e_11ec_8f19_0242ac1c0002row0_col1,#T_ac094d2a_220e_11ec_8f19_0242ac1c0002row0_col2,#T_ac094d2a_220e_11ec_8f19_0242ac1c0002row2_col0{\n",
              "            background-color:  #3b4cc0;\n",
              "            color:  #f1f1f1;\n",
              "        }#T_ac094d2a_220e_11ec_8f19_0242ac1c0002row1_col0{\n",
              "            background-color:  #d5dbe5;\n",
              "            color:  #000000;\n",
              "        }#T_ac094d2a_220e_11ec_8f19_0242ac1c0002row1_col2{\n",
              "            background-color:  #f6a283;\n",
              "            color:  #000000;\n",
              "        }#T_ac094d2a_220e_11ec_8f19_0242ac1c0002row2_col1{\n",
              "            background-color:  #d9dce1;\n",
              "            color:  #000000;\n",
              "        }</style><table id=\"T_ac094d2a_220e_11ec_8f19_0242ac1c0002\" ><thead>    <tr>        <th class=\"blank level0\" ></th>        <th class=\"col_heading level0 col0\" >Tensorflow simple LSTM</th>        <th class=\"col_heading level0 col1\" >Lightgbm 2</th>        <th class=\"col_heading level0 col2\" >XGBoost 2</th>    </tr></thead><tbody>\n",
              "                <tr>\n",
              "                        <th id=\"T_ac094d2a_220e_11ec_8f19_0242ac1c0002level0_row0\" class=\"row_heading level0 row0\" >Tensorflow simple LSTM</th>\n",
              "                        <td id=\"T_ac094d2a_220e_11ec_8f19_0242ac1c0002row0_col0\" class=\"data row0 col0\" >1.000000</td>\n",
              "                        <td id=\"T_ac094d2a_220e_11ec_8f19_0242ac1c0002row0_col1\" class=\"data row0 col1\" >0.560352</td>\n",
              "                        <td id=\"T_ac094d2a_220e_11ec_8f19_0242ac1c0002row0_col2\" class=\"data row0 col2\" >0.171792</td>\n",
              "            </tr>\n",
              "            <tr>\n",
              "                        <th id=\"T_ac094d2a_220e_11ec_8f19_0242ac1c0002level0_row1\" class=\"row_heading level0 row1\" >Lightgbm 2</th>\n",
              "                        <td id=\"T_ac094d2a_220e_11ec_8f19_0242ac1c0002row1_col0\" class=\"data row1 col0\" >0.560352</td>\n",
              "                        <td id=\"T_ac094d2a_220e_11ec_8f19_0242ac1c0002row1_col1\" class=\"data row1 col1\" >1.000000</td>\n",
              "                        <td id=\"T_ac094d2a_220e_11ec_8f19_0242ac1c0002row1_col2\" class=\"data row1 col2\" >0.774586</td>\n",
              "            </tr>\n",
              "            <tr>\n",
              "                        <th id=\"T_ac094d2a_220e_11ec_8f19_0242ac1c0002level0_row2\" class=\"row_heading level0 row2\" >XGBoost 2</th>\n",
              "                        <td id=\"T_ac094d2a_220e_11ec_8f19_0242ac1c0002row2_col0\" class=\"data row2 col0\" >0.171792</td>\n",
              "                        <td id=\"T_ac094d2a_220e_11ec_8f19_0242ac1c0002row2_col1\" class=\"data row2 col1\" >0.774586</td>\n",
              "                        <td id=\"T_ac094d2a_220e_11ec_8f19_0242ac1c0002row2_col2\" class=\"data row2 col2\" >1.000000</td>\n",
              "            </tr>\n",
              "    </tbody></table>"
            ],
            "text/plain": [
              "<pandas.io.formats.style.Styler at 0x7f7fbd7fcdd0>"
            ]
          },
          "metadata": {},
          "execution_count": 276
        }
      ]
    },
    {
      "cell_type": "code",
      "metadata": {
        "colab": {
          "base_uri": "https://localhost:8080/"
        },
        "id": "eKCF-Y82mD6U",
        "outputId": "12ef36ca-9f37-4e5a-c38a-039e8ee0e077"
      },
      "source": [
        "for k, v in predictionsDict.items():\n",
        "  df_test.Amount_Spent.value"
      ],
      "execution_count": null,
      "outputs": [
        {
          "output_type": "stream",
          "name": "stdout",
          "text": [
            "Naive mean [93461.3627451 93461.3627451 93461.3627451 93461.3627451]\n",
            "SES [164754.4773981  175437.00967016 159167.49373743 150956.18659894]\n",
            "HWES [164754.4773981  175437.00967016 159167.49373743 150956.18659894]\n",
            "AR [147227.67729148 169115.57995311 131655.02493588 134529.08005057]\n",
            "MA [122619.23539821 125847.03166244 108547.56840332 116268.5226364 ]\n",
            "ARMA [147264.89865265 153499.73955671 133082.8798034  130674.47299875]\n",
            "ARIMA [147241.32593775 152392.29291125 132707.77177755 130278.41544794]\n",
            "AutoARIMA (1, 0, 0) [147241.32593775 152392.29291125 132707.77177755 130278.41544794]\n",
            "SARIMAX [22793.60869581     0.         74488.19911044 61607.77667911]\n",
            "AutoSARIMAX (1, 0, 0),(0, 0, 0, 2) [169048.7729616  162893.16187476 156961.69644238 151246.21479822]\n",
            "Prophet univariate [251437.79576848 167476.85368878  81926.80534318 310076.45482912]\n",
            "BayesianRidge [119005.55162671 122503.0289195  125140.13087208 136386.96384512]\n",
            "Lasso [123408.89283916 128005.55696666 131185.15733591 141954.15533257]\n",
            "Randomforest [142546.79479217 142546.79479217 143721.56854217 141994.92897074]\n",
            "XGBoost [154930.1  159020.89 206132.73 175648.17]\n",
            "LightGBM [154930.1  159020.89 206132.73 175648.17]\n",
            "SVM RBF [88208.58317484 88230.18085573 88166.32494252 88266.14335461]\n",
            "KNeighbors [123408.89283916 128005.55696666 131185.15733591 141954.15533257]\n",
            "XGB_test [154930.1  159020.89 206132.73 175648.17]\n",
            "Lightgbm [126096.38481247 114503.30490538 132475.6820312  156059.08854294]\n",
            "Kneighbors [147369.5 136188.  126612.  138945. ]\n",
            "Prophet multivariate [109070.14822032 109372.3131044  109674.47798847 109976.64287254]\n",
            "Tensorflow simple LSTM [  -96.47632 30348.607   42192.234   42536.863   42652.27    43354.3\n",
            " 40065.152     854.7033  29984.857   40705.016   41517.83    41985.203\n",
            " 42131.23    42323.133     547.0996  33377.332   40232.457   40745.477\n",
            " 40772.406   43043.84    43319.504    2884.5388  32664.97    42422.35\n",
            " 43366.324   43557.91    44395.17    45196.707  ]\n",
            "DeepAR [36066.188   32061.176   20070.365   28751.225   33500.19    15257.655\n",
            " 32442.996   25156.676   81840.766   28988.422   38598.484   40878.438\n",
            " 29921.098   28457.1     25356.764   42476.95    15079.401   28816.219\n",
            " 22115.645   25807.264   29866.152   17955.703   33081.316     631.51373\n",
            " 32758.283   32016.246   20218.332   24902.43   ]\n",
            "SVM RBF GRID SEARCH [25506.89841649 23164.52323904 34277.38384266 34138.82669843\n",
            " 32649.44418987 30662.91887811 28164.43643198 25654.60733186\n",
            " 23513.63041541 32688.62050806 32222.48951186 30998.3150707\n",
            " 29324.81337287 27206.00614403 25109.84444897 22719.90753359\n",
            " 29951.78957216 29566.36620846 28728.57948897 30929.39592892\n",
            " 29037.51318681 26862.53026106 23667.80172095 34223.73402253\n",
            " 34996.63660773 34024.50801046 32208.4221714  30202.39968471]\n",
            "SVM RBF GRID SEARCH 2 [98118.15713762 98698.93978364 98413.07870488 99152.10490718]\n",
            "Lightgbm 2 [ 2562.65521538 26027.10954604 57639.3728347  61576.5085816\n",
            " 60299.74433186 54442.97652012 38909.69053675  3397.43752882\n",
            " 25572.78997286 52425.00660533 50510.27685727 48305.25108834\n",
            " 48597.0006058  39221.67426012  -865.45709249 22975.51172581\n",
            " 55391.17324788 62363.6961076  52467.98190052 75623.70171055\n",
            " 57525.33383008 11052.75790651 29668.94684571 68223.01872042\n",
            " 68657.15493885 70536.66626345 66199.68214908 43188.9235504 ]\n",
            "XGBoost 2 [ 2562.65521538 26027.10954604 57639.3728347  61576.5085816\n",
            " 60299.74433186 54442.97652012 38909.69053675  3397.43752882\n",
            " 25572.78997286 52425.00660533 50510.27685727 48305.25108834\n",
            " 48597.0006058  39221.67426012  -865.45709249 22975.51172581\n",
            " 55391.17324788 62363.6961076  52467.98190052 75623.70171055\n",
            " 57525.33383008 11052.75790651 29668.94684571 68223.01872042\n",
            " 68657.15493885 70536.66626345 66199.68214908 43188.9235504 ]\n"
          ]
        }
      ]
    },
    {
      "cell_type": "code",
      "metadata": {
        "id": "gLnfkyemmMsD"
      },
      "source": [
        "predictionsDict['EnsembleXG+LIGHT'] = (\n",
        "    predictionsDict['XGBoost 2'] + predictionsDict['Lightgbm 2'])/2\n",
        "resultsDict['EnsembleXG+LIGHT'] = evaluate(\n",
        "    df_test.Amount_Spent.values, predictionsDict['EnsembleXG+LIGHT'])"
      ],
      "execution_count": null,
      "outputs": []
    },
    {
      "cell_type": "code",
      "metadata": {
        "id": "P8sb8l1OoO6T"
      },
      "source": [
        "def full_extent(ax, pad=0.0):\n",
        "    \"\"\"Get the full extent of an axes, including axes labels, tick labels, and\n",
        "    titles.\"\"\"\n",
        "    # For text objects, we need to draw the figure first, otherwise the extents\n",
        "    # are undefined.\n",
        "    ax.figure.canvas.draw()\n",
        "    items = ax.get_xticklabels() + ax.get_yticklabels()\n",
        "#    items += [ax, ax.title, ax.xaxis.label, ax.yaxis.label]\n",
        "    items += [ax, ax.title]\n",
        "    bbox = Bbox.union([item.get_window_extent() for item in items])\n",
        "\n",
        "    return bbox.expanded(1.0 + pad, 1.0 + pad)"
      ],
      "execution_count": null,
      "outputs": []
    },
    {
      "cell_type": "code",
      "metadata": {
        "id": "b0yzilUTpQBy"
      },
      "source": [
        "import matplotlib.pyplot as plt\n",
        "import pandas as pd\n",
        "\n",
        "\n",
        "def bar_metrics(resultsDict):\n",
        "    df = pd.DataFrame.from_dict(resultsDict)\n",
        "    colors = plt.rcParams[\"axes.prop_cycle\"].by_key()[\"color\"]\n",
        "    pallette = plt.cm.get_cmap(\"tab20c\", len(df.columns))\n",
        "    colors = [pallette(x) for x in range(len(df.columns))]\n",
        "    color_dict = dict(zip(df.columns, colors))\n",
        "    fig = plt.figure(figsize=(20, 15))\n",
        "\n",
        "    # MAE plot\n",
        "    fig.add_subplot(2, 2, 1)\n",
        "    df.loc[\"mae\"].sort_values().plot(\n",
        "        kind=\"bar\",\n",
        "        colormap=\"Paired\",\n",
        "        color=[color_dict.get(x, \"#333333\") for x in df.loc[\"mae\"].sort_values().index],\n",
        "    )\n",
        "    plt.legend()\n",
        "    plt.title(\"MAE Metric, lower is better\")\n",
        "    fig.add_subplot(2, 2, 2)\n",
        "    df.loc[\"rmse\"].sort_values().plot(\n",
        "        kind=\"bar\",\n",
        "        colormap=\"Paired\",\n",
        "        color=[\n",
        "            color_dict.get(x, \"#333333\") for x in df.loc[\"rmse\"].sort_values().index\n",
        "        ],\n",
        "    )\n",
        "    plt.legend()\n",
        "    plt.title(\"RMSE Metric, lower is better\")\n",
        "    fig.add_subplot(2, 2, 3)\n",
        "    df.loc[\"mape\"].sort_values().plot(\n",
        "        kind=\"bar\",\n",
        "        colormap=\"Paired\",\n",
        "        color=[\n",
        "            color_dict.get(x, \"#333333\") for x in df.loc[\"mape\"].sort_values().index\n",
        "        ],\n",
        "    )\n",
        "    plt.legend()\n",
        "    plt.title(\"MAPE Metric, lower is better\")\n",
        "    fig.add_subplot(2, 2, 4)\n",
        "    df.loc[\"r2\"].sort_values(ascending=False).plot(\n",
        "        kind=\"bar\",\n",
        "        colormap=\"Paired\",\n",
        "        color=[\n",
        "            color_dict.get(x, \"#333333\")\n",
        "            for x in df.loc[\"r2\"].sort_values(ascending=False).index\n",
        "        ],\n",
        "    )\n",
        "    plt.legend()\n",
        "    plt.title(\"R2 Metric, higher is better\")\n",
        "    plt.tight_layout()\n",
        "    plt.savefig(f\"{FOLDER_PATH}metrics.png\")\n",
        "    plt.show()\n"
      ],
      "execution_count": null,
      "outputs": []
    },
    {
      "cell_type": "code",
      "metadata": {
        "colab": {
          "base_uri": "https://localhost:8080/",
          "height": 35
        },
        "id": "yucqEhUdp67M",
        "outputId": "0bf1b4d7-73df-48bc-914a-eb33a8e3e0c3"
      },
      "source": [
        "FOLDER_PATH"
      ],
      "execution_count": null,
      "outputs": [
        {
          "output_type": "execute_result",
          "data": {
            "application/vnd.google.colaboratory.intrinsic+json": {
              "type": "string"
            },
            "text/plain": [
              "'/content/drive/MyDrive/Colab_Notebooks/online_retail/'"
            ]
          },
          "metadata": {},
          "execution_count": 284
        }
      ]
    },
    {
      "cell_type": "code",
      "metadata": {
        "colab": {
          "base_uri": "https://localhost:8080/",
          "height": 884
        },
        "id": "LS13smVwoTHr",
        "outputId": "dd6f8eb8-6e56-4101-8b17-86854a862617"
      },
      "source": [
        "bar_metrics(resultsDict)"
      ],
      "execution_count": null,
      "outputs": [
        {
          "output_type": "display_data",
          "data": {
            "image/png": "[encoded data removed]",
            "text/plain": [
              "<Figure size 1440x1080 with 4 Axes>"
            ]
          },
          "metadata": {
            "needs_background": "light"
          }
        }
      ]
    },
    {
      "cell_type": "code",
      "metadata": {
        "colab": {
          "base_uri": "https://localhost:8080/"
        },
        "id": "pXp2QhyzvevU",
        "outputId": "a2a1269a-6a3d-4969-c763-8b3f67b489a3"
      },
      "source": [
        "my_predictions"
      ],
      "execution_count": null,
      "outputs": [
        {
          "output_type": "execute_result",
          "data": {
            "text/plain": [
              "{'Lightgbm 2': array([ 2562.65521538, 26027.10954604, 57639.3728347 , 61576.5085816 ,\n",
              "        60299.74433186, 54442.97652012, 38909.69053675,  3397.43752882,\n",
              "        25572.78997286, 52425.00660533, 50510.27685727, 48305.25108834,\n",
              "        48597.0006058 , 39221.67426012,  -865.45709249, 22975.51172581,\n",
              "        55391.17324788, 62363.6961076 , 52467.98190052, 75623.70171055,\n",
              "        57525.33383008, 11052.75790651, 29668.94684571, 68223.01872042,\n",
              "        68657.15493885, 70536.66626345, 66199.68214908, 43188.9235504 ]),\n",
              " 'Tensorflow simple LSTM': array([  -96.47632, 30348.607  , 42192.234  , 42536.863  , 42652.27   ,\n",
              "        43354.3    , 40065.152  ,   854.7033 , 29984.857  , 40705.016  ,\n",
              "        41517.83   , 41985.203  , 42131.23   , 42323.133  ,   547.0996 ,\n",
              "        33377.332  , 40232.457  , 40745.477  , 40772.406  , 43043.84   ,\n",
              "        43319.504  ,  2884.5388 , 32664.97   , 42422.35   , 43366.324  ,\n",
              "        43557.91   , 44395.17   , 45196.707  ], dtype=float32),\n",
              " 'XGBoost 2': array([  6395.383 ,  26448.268 ,  59023.19  ,  66680.125 ,  59674.598 ,\n",
              "         58064.605 ,  27729.172 ,   8699.61  ,  31062.46  ,  49335.43  ,\n",
              "         42020.566 ,  46011.633 ,  48526.746 ,  52400.723 ,  -3073.0815,\n",
              "         26684.748 ,  43252.11  ,  64654.562 ,  49271.87  , 104955.59  ,\n",
              "         59908.45  ,  21954.717 ,  30290.111 ,  94024.33  ,  79815.18  ,\n",
              "         94258.49  ,  87185.07  ,  42724.89  ], dtype=float32)}"
            ]
          },
          "metadata": {},
          "execution_count": 287
        }
      ]
    },
    {
      "cell_type": "code",
      "metadata": {
        "colab": {
          "base_uri": "https://localhost:8080/",
          "height": 206
        },
        "id": "FRAvm00GvhKY",
        "outputId": "955e34b3-cf70-438c-cec3-73d7662c3ccc"
      },
      "source": [
        "test_df"
      ],
      "execution_count": null,
      "outputs": [
        {
          "output_type": "execute_result",
          "data": {
            "text/html": [
              "<div>\n",
              "<style scoped>\n",
              "    .dataframe tbody tr th:only-of-type {\n",
              "        vertical-align: middle;\n",
              "    }\n",
              "\n",
              "    .dataframe tbody tr th {\n",
              "        vertical-align: top;\n",
              "    }\n",
              "\n",
              "    .dataframe thead th {\n",
              "        text-align: right;\n",
              "    }\n",
              "</style>\n",
              "<table border=\"1\" class=\"dataframe\">\n",
              "  <thead>\n",
              "    <tr style=\"text-align: right;\">\n",
              "      <th></th>\n",
              "      <th>Quantity</th>\n",
              "      <th>date</th>\n",
              "      <th>hour</th>\n",
              "      <th>dayofweek</th>\n",
              "      <th>quarter</th>\n",
              "      <th>month</th>\n",
              "      <th>year</th>\n",
              "      <th>dayofyear</th>\n",
              "      <th>sin_day</th>\n",
              "      <th>cos_day</th>\n",
              "      <th>dayofmonth</th>\n",
              "      <th>weekofyear</th>\n",
              "    </tr>\n",
              "    <tr>\n",
              "      <th>Date</th>\n",
              "      <th></th>\n",
              "      <th></th>\n",
              "      <th></th>\n",
              "      <th></th>\n",
              "      <th></th>\n",
              "      <th></th>\n",
              "      <th></th>\n",
              "      <th></th>\n",
              "      <th></th>\n",
              "      <th></th>\n",
              "      <th></th>\n",
              "      <th></th>\n",
              "    </tr>\n",
              "  </thead>\n",
              "  <tbody>\n",
              "    <tr>\n",
              "      <th>2011-11-13</th>\n",
              "      <td>180316</td>\n",
              "      <td>2011-11-13</td>\n",
              "      <td>0</td>\n",
              "      <td>6</td>\n",
              "      <td>4</td>\n",
              "      <td>11</td>\n",
              "      <td>2011</td>\n",
              "      <td>317</td>\n",
              "      <td>0.296340</td>\n",
              "      <td>-0.955083</td>\n",
              "      <td>13</td>\n",
              "      <td>45</td>\n",
              "    </tr>\n",
              "    <tr>\n",
              "      <th>2011-11-20</th>\n",
              "      <td>150987</td>\n",
              "      <td>2011-11-20</td>\n",
              "      <td>0</td>\n",
              "      <td>6</td>\n",
              "      <td>4</td>\n",
              "      <td>11</td>\n",
              "      <td>2011</td>\n",
              "      <td>324</td>\n",
              "      <td>-0.404065</td>\n",
              "      <td>-0.914730</td>\n",
              "      <td>20</td>\n",
              "      <td>46</td>\n",
              "    </tr>\n",
              "    <tr>\n",
              "      <th>2011-11-27</th>\n",
              "      <td>146748</td>\n",
              "      <td>2011-11-27</td>\n",
              "      <td>0</td>\n",
              "      <td>6</td>\n",
              "      <td>4</td>\n",
              "      <td>11</td>\n",
              "      <td>2011</td>\n",
              "      <td>331</td>\n",
              "      <td>-0.905591</td>\n",
              "      <td>-0.424152</td>\n",
              "      <td>27</td>\n",
              "      <td>47</td>\n",
              "    </tr>\n",
              "    <tr>\n",
              "      <th>2011-12-04</th>\n",
              "      <td>153317</td>\n",
              "      <td>2011-12-04</td>\n",
              "      <td>0</td>\n",
              "      <td>6</td>\n",
              "      <td>4</td>\n",
              "      <td>12</td>\n",
              "      <td>2011</td>\n",
              "      <td>338</td>\n",
              "      <td>-0.961389</td>\n",
              "      <td>0.275192</td>\n",
              "      <td>4</td>\n",
              "      <td>48</td>\n",
              "    </tr>\n",
              "  </tbody>\n",
              "</table>\n",
              "</div>"
            ],
            "text/plain": [
              "            Quantity       date  hour  ...   cos_day  dayofmonth  weekofyear\n",
              "Date                                   ...                                  \n",
              "2011-11-13    180316 2011-11-13     0  ... -0.955083          13          45\n",
              "2011-11-20    150987 2011-11-20     0  ... -0.914730          20          46\n",
              "2011-11-27    146748 2011-11-27     0  ... -0.424152          27          47\n",
              "2011-12-04    153317 2011-12-04     0  ...  0.275192           4          48\n",
              "\n",
              "[4 rows x 12 columns]"
            ]
          },
          "metadata": {},
          "execution_count": 288
        }
      ]
    },
    {
      "cell_type": "code",
      "metadata": {
        "colab": {
          "base_uri": "https://localhost:8080/",
          "height": 959
        },
        "id": "nYUylf4Lvkmg",
        "outputId": "5d1a99b6-9a4d-445e-8850-21e89c7146c8"
      },
      "source": [
        "df_test"
      ],
      "execution_count": null,
      "outputs": [
        {
          "output_type": "execute_result",
          "data": {
            "text/html": [
              "<div>\n",
              "<style scoped>\n",
              "    .dataframe tbody tr th:only-of-type {\n",
              "        vertical-align: middle;\n",
              "    }\n",
              "\n",
              "    .dataframe tbody tr th {\n",
              "        vertical-align: top;\n",
              "    }\n",
              "\n",
              "    .dataframe thead th {\n",
              "        text-align: right;\n",
              "    }\n",
              "</style>\n",
              "<table border=\"1\" class=\"dataframe\">\n",
              "  <thead>\n",
              "    <tr style=\"text-align: right;\">\n",
              "      <th></th>\n",
              "      <th>Amount_Spent</th>\n",
              "      <th>date</th>\n",
              "      <th>hour</th>\n",
              "      <th>dayofweek</th>\n",
              "      <th>quarter</th>\n",
              "      <th>month</th>\n",
              "      <th>year</th>\n",
              "      <th>dayofyear</th>\n",
              "      <th>sin_day</th>\n",
              "      <th>cos_day</th>\n",
              "      <th>dayofmonth</th>\n",
              "      <th>weekofyear</th>\n",
              "    </tr>\n",
              "    <tr>\n",
              "      <th>Date</th>\n",
              "      <th></th>\n",
              "      <th></th>\n",
              "      <th></th>\n",
              "      <th></th>\n",
              "      <th></th>\n",
              "      <th></th>\n",
              "      <th></th>\n",
              "      <th></th>\n",
              "      <th></th>\n",
              "      <th></th>\n",
              "      <th></th>\n",
              "      <th></th>\n",
              "    </tr>\n",
              "  </thead>\n",
              "  <tbody>\n",
              "    <tr>\n",
              "      <th>2011-11-12</th>\n",
              "      <td>0.00</td>\n",
              "      <td>2011-11-12</td>\n",
              "      <td>0</td>\n",
              "      <td>5</td>\n",
              "      <td>4</td>\n",
              "      <td>11</td>\n",
              "      <td>2011</td>\n",
              "      <td>316</td>\n",
              "      <td>0.963787</td>\n",
              "      <td>-0.266672</td>\n",
              "      <td>12</td>\n",
              "      <td>45</td>\n",
              "    </tr>\n",
              "    <tr>\n",
              "      <th>2011-11-13</th>\n",
              "      <td>29192.66</td>\n",
              "      <td>2011-11-13</td>\n",
              "      <td>0</td>\n",
              "      <td>6</td>\n",
              "      <td>4</td>\n",
              "      <td>11</td>\n",
              "      <td>2011</td>\n",
              "      <td>317</td>\n",
              "      <td>0.296340</td>\n",
              "      <td>-0.955083</td>\n",
              "      <td>13</td>\n",
              "      <td>45</td>\n",
              "    </tr>\n",
              "    <tr>\n",
              "      <th>2011-11-14</th>\n",
              "      <td>74546.77</td>\n",
              "      <td>2011-11-14</td>\n",
              "      <td>0</td>\n",
              "      <td>0</td>\n",
              "      <td>4</td>\n",
              "      <td>11</td>\n",
              "      <td>2011</td>\n",
              "      <td>318</td>\n",
              "      <td>-0.643561</td>\n",
              "      <td>-0.765395</td>\n",
              "      <td>14</td>\n",
              "      <td>46</td>\n",
              "    </tr>\n",
              "    <tr>\n",
              "      <th>2011-11-15</th>\n",
              "      <td>53090.36</td>\n",
              "      <td>2011-11-15</td>\n",
              "      <td>0</td>\n",
              "      <td>1</td>\n",
              "      <td>4</td>\n",
              "      <td>11</td>\n",
              "      <td>2011</td>\n",
              "      <td>319</td>\n",
              "      <td>-0.991775</td>\n",
              "      <td>0.127994</td>\n",
              "      <td>15</td>\n",
              "      <td>46</td>\n",
              "    </tr>\n",
              "    <tr>\n",
              "      <th>2011-11-16</th>\n",
              "      <td>47897.82</td>\n",
              "      <td>2011-11-16</td>\n",
              "      <td>0</td>\n",
              "      <td>2</td>\n",
              "      <td>4</td>\n",
              "      <td>11</td>\n",
              "      <td>2011</td>\n",
              "      <td>320</td>\n",
              "      <td>-0.428155</td>\n",
              "      <td>0.903705</td>\n",
              "      <td>16</td>\n",
              "      <td>46</td>\n",
              "    </tr>\n",
              "    <tr>\n",
              "      <th>2011-11-17</th>\n",
              "      <td>54839.12</td>\n",
              "      <td>2011-11-17</td>\n",
              "      <td>0</td>\n",
              "      <td>3</td>\n",
              "      <td>4</td>\n",
              "      <td>11</td>\n",
              "      <td>2011</td>\n",
              "      <td>321</td>\n",
              "      <td>0.529108</td>\n",
              "      <td>0.848554</td>\n",
              "      <td>17</td>\n",
              "      <td>46</td>\n",
              "    </tr>\n",
              "    <tr>\n",
              "      <th>2011-11-18</th>\n",
              "      <td>40542.11</td>\n",
              "      <td>2011-11-18</td>\n",
              "      <td>0</td>\n",
              "      <td>4</td>\n",
              "      <td>4</td>\n",
              "      <td>11</td>\n",
              "      <td>2011</td>\n",
              "      <td>322</td>\n",
              "      <td>0.999912</td>\n",
              "      <td>0.013247</td>\n",
              "      <td>18</td>\n",
              "      <td>46</td>\n",
              "    </tr>\n",
              "    <tr>\n",
              "      <th>2011-11-19</th>\n",
              "      <td>0.00</td>\n",
              "      <td>2011-11-19</td>\n",
              "      <td>0</td>\n",
              "      <td>5</td>\n",
              "      <td>4</td>\n",
              "      <td>11</td>\n",
              "      <td>2011</td>\n",
              "      <td>323</td>\n",
              "      <td>0.551402</td>\n",
              "      <td>-0.834240</td>\n",
              "      <td>19</td>\n",
              "      <td>46</td>\n",
              "    </tr>\n",
              "    <tr>\n",
              "      <th>2011-11-20</th>\n",
              "      <td>30236.18</td>\n",
              "      <td>2011-11-20</td>\n",
              "      <td>0</td>\n",
              "      <td>6</td>\n",
              "      <td>4</td>\n",
              "      <td>11</td>\n",
              "      <td>2011</td>\n",
              "      <td>324</td>\n",
              "      <td>-0.404065</td>\n",
              "      <td>-0.914730</td>\n",
              "      <td>20</td>\n",
              "      <td>46</td>\n",
              "    </tr>\n",
              "    <tr>\n",
              "      <th>2011-11-21</th>\n",
              "      <td>42699.18</td>\n",
              "      <td>2011-11-21</td>\n",
              "      <td>0</td>\n",
              "      <td>0</td>\n",
              "      <td>4</td>\n",
              "      <td>11</td>\n",
              "      <td>2011</td>\n",
              "      <td>325</td>\n",
              "      <td>-0.988036</td>\n",
              "      <td>-0.154222</td>\n",
              "      <td>21</td>\n",
              "      <td>47</td>\n",
              "    </tr>\n",
              "    <tr>\n",
              "      <th>2011-11-22</th>\n",
              "      <td>51618.89</td>\n",
              "      <td>2011-11-22</td>\n",
              "      <td>0</td>\n",
              "      <td>1</td>\n",
              "      <td>4</td>\n",
              "      <td>11</td>\n",
              "      <td>2011</td>\n",
              "      <td>326</td>\n",
              "      <td>-0.663611</td>\n",
              "      <td>0.748078</td>\n",
              "      <td>22</td>\n",
              "      <td>47</td>\n",
              "    </tr>\n",
              "    <tr>\n",
              "      <th>2011-11-23</th>\n",
              "      <td>68007.83</td>\n",
              "      <td>2011-11-23</td>\n",
              "      <td>0</td>\n",
              "      <td>2</td>\n",
              "      <td>4</td>\n",
              "      <td>11</td>\n",
              "      <td>2011</td>\n",
              "      <td>327</td>\n",
              "      <td>0.270935</td>\n",
              "      <td>0.962598</td>\n",
              "      <td>23</td>\n",
              "      <td>47</td>\n",
              "    </tr>\n",
              "    <tr>\n",
              "      <th>2011-11-24</th>\n",
              "      <td>40197.87</td>\n",
              "      <td>2011-11-24</td>\n",
              "      <td>0</td>\n",
              "      <td>3</td>\n",
              "      <td>4</td>\n",
              "      <td>11</td>\n",
              "      <td>2011</td>\n",
              "      <td>328</td>\n",
              "      <td>0.956385</td>\n",
              "      <td>0.292110</td>\n",
              "      <td>24</td>\n",
              "      <td>47</td>\n",
              "    </tr>\n",
              "    <tr>\n",
              "      <th>2011-11-25</th>\n",
              "      <td>31659.94</td>\n",
              "      <td>2011-11-25</td>\n",
              "      <td>0</td>\n",
              "      <td>4</td>\n",
              "      <td>4</td>\n",
              "      <td>11</td>\n",
              "      <td>2011</td>\n",
              "      <td>329</td>\n",
              "      <td>0.762539</td>\n",
              "      <td>-0.646942</td>\n",
              "      <td>25</td>\n",
              "      <td>47</td>\n",
              "    </tr>\n",
              "    <tr>\n",
              "      <th>2011-11-26</th>\n",
              "      <td>0.00</td>\n",
              "      <td>2011-11-26</td>\n",
              "      <td>0</td>\n",
              "      <td>5</td>\n",
              "      <td>4</td>\n",
              "      <td>11</td>\n",
              "      <td>2011</td>\n",
              "      <td>330</td>\n",
              "      <td>-0.132382</td>\n",
              "      <td>-0.991199</td>\n",
              "      <td>26</td>\n",
              "      <td>47</td>\n",
              "    </tr>\n",
              "    <tr>\n",
              "      <th>2011-11-27</th>\n",
              "      <td>16692.97</td>\n",
              "      <td>2011-11-27</td>\n",
              "      <td>0</td>\n",
              "      <td>6</td>\n",
              "      <td>4</td>\n",
              "      <td>11</td>\n",
              "      <td>2011</td>\n",
              "      <td>331</td>\n",
              "      <td>-0.905591</td>\n",
              "      <td>-0.424152</td>\n",
              "      <td>27</td>\n",
              "      <td>47</td>\n",
              "    </tr>\n",
              "    <tr>\n",
              "      <th>2011-11-28</th>\n",
              "      <td>46887.24</td>\n",
              "      <td>2011-11-28</td>\n",
              "      <td>0</td>\n",
              "      <td>0</td>\n",
              "      <td>4</td>\n",
              "      <td>11</td>\n",
              "      <td>2011</td>\n",
              "      <td>332</td>\n",
              "      <td>-0.846204</td>\n",
              "      <td>0.532859</td>\n",
              "      <td>28</td>\n",
              "      <td>48</td>\n",
              "    </tr>\n",
              "    <tr>\n",
              "      <th>2011-11-29</th>\n",
              "      <td>50015.18</td>\n",
              "      <td>2011-11-29</td>\n",
              "      <td>0</td>\n",
              "      <td>1</td>\n",
              "      <td>4</td>\n",
              "      <td>11</td>\n",
              "      <td>2011</td>\n",
              "      <td>333</td>\n",
              "      <td>-0.008821</td>\n",
              "      <td>0.999961</td>\n",
              "      <td>29</td>\n",
              "      <td>48</td>\n",
              "    </tr>\n",
              "    <tr>\n",
              "      <th>2011-11-30</th>\n",
              "      <td>45494.72</td>\n",
              "      <td>2011-11-30</td>\n",
              "      <td>0</td>\n",
              "      <td>2</td>\n",
              "      <td>4</td>\n",
              "      <td>11</td>\n",
              "      <td>2011</td>\n",
              "      <td>334</td>\n",
              "      <td>0.836672</td>\n",
              "      <td>0.547704</td>\n",
              "      <td>30</td>\n",
              "      <td>48</td>\n",
              "    </tr>\n",
              "    <tr>\n",
              "      <th>2011-12-01</th>\n",
              "      <td>44725.16</td>\n",
              "      <td>2011-12-01</td>\n",
              "      <td>0</td>\n",
              "      <td>3</td>\n",
              "      <td>4</td>\n",
              "      <td>12</td>\n",
              "      <td>2011</td>\n",
              "      <td>335</td>\n",
              "      <td>0.912933</td>\n",
              "      <td>-0.408110</td>\n",
              "      <td>1</td>\n",
              "      <td>48</td>\n",
              "    </tr>\n",
              "    <tr>\n",
              "      <th>2011-12-02</th>\n",
              "      <td>44524.11</td>\n",
              "      <td>2011-12-02</td>\n",
              "      <td>0</td>\n",
              "      <td>4</td>\n",
              "      <td>4</td>\n",
              "      <td>12</td>\n",
              "      <td>2011</td>\n",
              "      <td>336</td>\n",
              "      <td>0.149847</td>\n",
              "      <td>-0.988709</td>\n",
              "      <td>2</td>\n",
              "      <td>48</td>\n",
              "    </tr>\n",
              "    <tr>\n",
              "      <th>2011-12-03</th>\n",
              "      <td>0.00</td>\n",
              "      <td>2011-12-03</td>\n",
              "      <td>0</td>\n",
              "      <td>5</td>\n",
              "      <td>4</td>\n",
              "      <td>12</td>\n",
              "      <td>2011</td>\n",
              "      <td>337</td>\n",
              "      <td>-0.751007</td>\n",
              "      <td>-0.660294</td>\n",
              "      <td>3</td>\n",
              "      <td>48</td>\n",
              "    </tr>\n",
              "    <tr>\n",
              "      <th>2011-12-04</th>\n",
              "      <td>22109.25</td>\n",
              "      <td>2011-12-04</td>\n",
              "      <td>0</td>\n",
              "      <td>6</td>\n",
              "      <td>4</td>\n",
              "      <td>12</td>\n",
              "      <td>2011</td>\n",
              "      <td>338</td>\n",
              "      <td>-0.961389</td>\n",
              "      <td>0.275192</td>\n",
              "      <td>4</td>\n",
              "      <td>48</td>\n",
              "    </tr>\n",
              "    <tr>\n",
              "      <th>2011-12-05</th>\n",
              "      <td>71461.87</td>\n",
              "      <td>2011-12-05</td>\n",
              "      <td>0</td>\n",
              "      <td>0</td>\n",
              "      <td>4</td>\n",
              "      <td>12</td>\n",
              "      <td>2011</td>\n",
              "      <td>339</td>\n",
              "      <td>-0.287874</td>\n",
              "      <td>0.957668</td>\n",
              "      <td>5</td>\n",
              "      <td>49</td>\n",
              "    </tr>\n",
              "    <tr>\n",
              "      <th>2011-12-06</th>\n",
              "      <td>53339.40</td>\n",
              "      <td>2011-12-06</td>\n",
              "      <td>0</td>\n",
              "      <td>1</td>\n",
              "      <td>4</td>\n",
              "      <td>12</td>\n",
              "      <td>2011</td>\n",
              "      <td>340</td>\n",
              "      <td>0.650311</td>\n",
              "      <td>0.759668</td>\n",
              "      <td>6</td>\n",
              "      <td>49</td>\n",
              "    </tr>\n",
              "    <tr>\n",
              "      <th>2011-12-07</th>\n",
              "      <td>74424.09</td>\n",
              "      <td>2011-12-07</td>\n",
              "      <td>0</td>\n",
              "      <td>2</td>\n",
              "      <td>4</td>\n",
              "      <td>12</td>\n",
              "      <td>2011</td>\n",
              "      <td>341</td>\n",
              "      <td>0.990603</td>\n",
              "      <td>-0.136767</td>\n",
              "      <td>7</td>\n",
              "      <td>49</td>\n",
              "    </tr>\n",
              "    <tr>\n",
              "      <th>2011-12-08</th>\n",
              "      <td>63484.82</td>\n",
              "      <td>2011-12-08</td>\n",
              "      <td>0</td>\n",
              "      <td>3</td>\n",
              "      <td>4</td>\n",
              "      <td>12</td>\n",
              "      <td>2011</td>\n",
              "      <td>342</td>\n",
              "      <td>0.420140</td>\n",
              "      <td>-0.907459</td>\n",
              "      <td>8</td>\n",
              "      <td>49</td>\n",
              "    </tr>\n",
              "    <tr>\n",
              "      <th>2011-12-09</th>\n",
              "      <td>23379.46</td>\n",
              "      <td>2011-12-09</td>\n",
              "      <td>0</td>\n",
              "      <td>4</td>\n",
              "      <td>4</td>\n",
              "      <td>12</td>\n",
              "      <td>2011</td>\n",
              "      <td>343</td>\n",
              "      <td>-0.536598</td>\n",
              "      <td>-0.843838</td>\n",
              "      <td>9</td>\n",
              "      <td>49</td>\n",
              "    </tr>\n",
              "  </tbody>\n",
              "</table>\n",
              "</div>"
            ],
            "text/plain": [
              "            Amount_Spent       date  hour  ...   cos_day  dayofmonth  weekofyear\n",
              "Date                                       ...                                  \n",
              "2011-11-12          0.00 2011-11-12     0  ... -0.266672          12          45\n",
              "2011-11-13      29192.66 2011-11-13     0  ... -0.955083          13          45\n",
              "2011-11-14      74546.77 2011-11-14     0  ... -0.765395          14          46\n",
              "2011-11-15      53090.36 2011-11-15     0  ...  0.127994          15          46\n",
              "2011-11-16      47897.82 2011-11-16     0  ...  0.903705          16          46\n",
              "2011-11-17      54839.12 2011-11-17     0  ...  0.848554          17          46\n",
              "2011-11-18      40542.11 2011-11-18     0  ...  0.013247          18          46\n",
              "2011-11-19          0.00 2011-11-19     0  ... -0.834240          19          46\n",
              "2011-11-20      30236.18 2011-11-20     0  ... -0.914730          20          46\n",
              "2011-11-21      42699.18 2011-11-21     0  ... -0.154222          21          47\n",
              "2011-11-22      51618.89 2011-11-22     0  ...  0.748078          22          47\n",
              "2011-11-23      68007.83 2011-11-23     0  ...  0.962598          23          47\n",
              "2011-11-24      40197.87 2011-11-24     0  ...  0.292110          24          47\n",
              "2011-11-25      31659.94 2011-11-25     0  ... -0.646942          25          47\n",
              "2011-11-26          0.00 2011-11-26     0  ... -0.991199          26          47\n",
              "2011-11-27      16692.97 2011-11-27     0  ... -0.424152          27          47\n",
              "2011-11-28      46887.24 2011-11-28     0  ...  0.532859          28          48\n",
              "2011-11-29      50015.18 2011-11-29     0  ...  0.999961          29          48\n",
              "2011-11-30      45494.72 2011-11-30     0  ...  0.547704          30          48\n",
              "2011-12-01      44725.16 2011-12-01     0  ... -0.408110           1          48\n",
              "2011-12-02      44524.11 2011-12-02     0  ... -0.988709           2          48\n",
              "2011-12-03          0.00 2011-12-03     0  ... -0.660294           3          48\n",
              "2011-12-04      22109.25 2011-12-04     0  ...  0.275192           4          48\n",
              "2011-12-05      71461.87 2011-12-05     0  ...  0.957668           5          49\n",
              "2011-12-06      53339.40 2011-12-06     0  ...  0.759668           6          49\n",
              "2011-12-07      74424.09 2011-12-07     0  ... -0.136767           7          49\n",
              "2011-12-08      63484.82 2011-12-08     0  ... -0.907459           8          49\n",
              "2011-12-09      23379.46 2011-12-09     0  ... -0.843838           9          49\n",
              "\n",
              "[28 rows x 12 columns]"
            ]
          },
          "metadata": {},
          "execution_count": 289
        }
      ]
    },
    {
      "cell_type": "code",
      "metadata": {
        "id": "-he8UtN7vn8w"
      },
      "source": [
        "# Generate the aggregated weekly sales\n",
        "# dated_retail_data = cleaned_data.copy()\n",
        "df_test[\"Date\"] = pd.to_datetime(df_test[\"date\"]) - pd.to_timedelta(7, unit=\"d\")\n",
        "df_test.index = df_test[\"Date\"]\n",
        "#resampling to get the weekly sales and returns\n",
        "weekly_sale_test = df_test[df_test['Amount_Spent']>0].Amount_Spent.resample('W').sum()\n",
        "# weekly_retail = dated_retail_data[dated_retail_data['Quantity']<0].Quantity.resample('W').sum().abs()"
      ],
      "execution_count": null,
      "outputs": []
    },
    {
      "cell_type": "code",
      "metadata": {
        "colab": {
          "base_uri": "https://localhost:8080/"
        },
        "id": "h7J4iyNLH7Af",
        "outputId": "8c00e182-75a9-409c-c322-3ff98118e80a"
      },
      "source": [
        "weekly_sale_test"
      ],
      "execution_count": null,
      "outputs": [
        {
          "output_type": "execute_result",
          "data": {
            "text/plain": [
              "Date\n",
              "2011-11-06     29192.66\n",
              "2011-11-13    301152.36\n",
              "2011-11-20    250876.68\n",
              "2011-11-27    253755.66\n",
              "2011-12-04    286089.64\n",
              "Freq: W-SUN, Name: Amount_Spent, dtype: float64"
            ]
          },
          "metadata": {},
          "execution_count": 302
        }
      ]
    },
    {
      "cell_type": "code",
      "metadata": {
        "id": "DrN3wQ7EH_dk"
      },
      "source": [
        "xgboost_pred = predictionsDict[\"XGBoost 2\"]\n",
        "\n",
        "xg_boost = pd.DataFrame(xgboost_pred,columns=[\"Amount_Spent\"])\n",
        "xg_boost.index = df_test.index"
      ],
      "execution_count": null,
      "outputs": []
    },
    {
      "cell_type": "code",
      "metadata": {
        "colab": {
          "base_uri": "https://localhost:8080/",
          "height": 959
        },
        "id": "Chm-ZXTyJsQ_",
        "outputId": "5d66295b-96ee-48f4-8c86-3070685e4060"
      },
      "source": [
        "xg_boost"
      ],
      "execution_count": null,
      "outputs": [
        {
          "output_type": "execute_result",
          "data": {
            "text/html": [
              "<div>\n",
              "<style scoped>\n",
              "    .dataframe tbody tr th:only-of-type {\n",
              "        vertical-align: middle;\n",
              "    }\n",
              "\n",
              "    .dataframe tbody tr th {\n",
              "        vertical-align: top;\n",
              "    }\n",
              "\n",
              "    .dataframe thead th {\n",
              "        text-align: right;\n",
              "    }\n",
              "</style>\n",
              "<table border=\"1\" class=\"dataframe\">\n",
              "  <thead>\n",
              "    <tr style=\"text-align: right;\">\n",
              "      <th></th>\n",
              "      <th>Amount_Spent</th>\n",
              "    </tr>\n",
              "    <tr>\n",
              "      <th>Date</th>\n",
              "      <th></th>\n",
              "    </tr>\n",
              "  </thead>\n",
              "  <tbody>\n",
              "    <tr>\n",
              "      <th>2011-11-05</th>\n",
              "      <td>6395.382812</td>\n",
              "    </tr>\n",
              "    <tr>\n",
              "      <th>2011-11-06</th>\n",
              "      <td>26448.267578</td>\n",
              "    </tr>\n",
              "    <tr>\n",
              "      <th>2011-11-07</th>\n",
              "      <td>59023.191406</td>\n",
              "    </tr>\n",
              "    <tr>\n",
              "      <th>2011-11-08</th>\n",
              "      <td>66680.125000</td>\n",
              "    </tr>\n",
              "    <tr>\n",
              "      <th>2011-11-09</th>\n",
              "      <td>59674.597656</td>\n",
              "    </tr>\n",
              "    <tr>\n",
              "      <th>2011-11-10</th>\n",
              "      <td>58064.605469</td>\n",
              "    </tr>\n",
              "    <tr>\n",
              "      <th>2011-11-11</th>\n",
              "      <td>27729.171875</td>\n",
              "    </tr>\n",
              "    <tr>\n",
              "      <th>2011-11-12</th>\n",
              "      <td>8699.610352</td>\n",
              "    </tr>\n",
              "    <tr>\n",
              "      <th>2011-11-13</th>\n",
              "      <td>31062.460938</td>\n",
              "    </tr>\n",
              "    <tr>\n",
              "      <th>2011-11-14</th>\n",
              "      <td>49335.429688</td>\n",
              "    </tr>\n",
              "    <tr>\n",
              "      <th>2011-11-15</th>\n",
              "      <td>42020.566406</td>\n",
              "    </tr>\n",
              "    <tr>\n",
              "      <th>2011-11-16</th>\n",
              "      <td>46011.632812</td>\n",
              "    </tr>\n",
              "    <tr>\n",
              "      <th>2011-11-17</th>\n",
              "      <td>48526.746094</td>\n",
              "    </tr>\n",
              "    <tr>\n",
              "      <th>2011-11-18</th>\n",
              "      <td>52400.722656</td>\n",
              "    </tr>\n",
              "    <tr>\n",
              "      <th>2011-11-19</th>\n",
              "      <td>-3073.081543</td>\n",
              "    </tr>\n",
              "    <tr>\n",
              "      <th>2011-11-20</th>\n",
              "      <td>26684.748047</td>\n",
              "    </tr>\n",
              "    <tr>\n",
              "      <th>2011-11-21</th>\n",
              "      <td>43252.109375</td>\n",
              "    </tr>\n",
              "    <tr>\n",
              "      <th>2011-11-22</th>\n",
              "      <td>64654.562500</td>\n",
              "    </tr>\n",
              "    <tr>\n",
              "      <th>2011-11-23</th>\n",
              "      <td>49271.871094</td>\n",
              "    </tr>\n",
              "    <tr>\n",
              "      <th>2011-11-24</th>\n",
              "      <td>104955.593750</td>\n",
              "    </tr>\n",
              "    <tr>\n",
              "      <th>2011-11-25</th>\n",
              "      <td>59908.449219</td>\n",
              "    </tr>\n",
              "    <tr>\n",
              "      <th>2011-11-26</th>\n",
              "      <td>21954.716797</td>\n",
              "    </tr>\n",
              "    <tr>\n",
              "      <th>2011-11-27</th>\n",
              "      <td>30290.111328</td>\n",
              "    </tr>\n",
              "    <tr>\n",
              "      <th>2011-11-28</th>\n",
              "      <td>94024.328125</td>\n",
              "    </tr>\n",
              "    <tr>\n",
              "      <th>2011-11-29</th>\n",
              "      <td>79815.179688</td>\n",
              "    </tr>\n",
              "    <tr>\n",
              "      <th>2011-11-30</th>\n",
              "      <td>94258.492188</td>\n",
              "    </tr>\n",
              "    <tr>\n",
              "      <th>2011-12-01</th>\n",
              "      <td>87185.070312</td>\n",
              "    </tr>\n",
              "    <tr>\n",
              "      <th>2011-12-02</th>\n",
              "      <td>42724.890625</td>\n",
              "    </tr>\n",
              "  </tbody>\n",
              "</table>\n",
              "</div>"
            ],
            "text/plain": [
              "             Amount_Spent\n",
              "Date                     \n",
              "2011-11-05    6395.382812\n",
              "2011-11-06   26448.267578\n",
              "2011-11-07   59023.191406\n",
              "2011-11-08   66680.125000\n",
              "2011-11-09   59674.597656\n",
              "2011-11-10   58064.605469\n",
              "2011-11-11   27729.171875\n",
              "2011-11-12    8699.610352\n",
              "2011-11-13   31062.460938\n",
              "2011-11-14   49335.429688\n",
              "2011-11-15   42020.566406\n",
              "2011-11-16   46011.632812\n",
              "2011-11-17   48526.746094\n",
              "2011-11-18   52400.722656\n",
              "2011-11-19   -3073.081543\n",
              "2011-11-20   26684.748047\n",
              "2011-11-21   43252.109375\n",
              "2011-11-22   64654.562500\n",
              "2011-11-23   49271.871094\n",
              "2011-11-24  104955.593750\n",
              "2011-11-25   59908.449219\n",
              "2011-11-26   21954.716797\n",
              "2011-11-27   30290.111328\n",
              "2011-11-28   94024.328125\n",
              "2011-11-29   79815.179688\n",
              "2011-11-30   94258.492188\n",
              "2011-12-01   87185.070312\n",
              "2011-12-02   42724.890625"
            ]
          },
          "metadata": {},
          "execution_count": 309
        }
      ]
    },
    {
      "cell_type": "code",
      "metadata": {
        "id": "R0_RMgAiIAfP"
      },
      "source": [
        "weekly_xg_boost = xg_boost[xg_boost['Amount_Spent']>0].Amount_Spent.resample('W').sum()"
      ],
      "execution_count": null,
      "outputs": []
    },
    {
      "cell_type": "code",
      "metadata": {
        "colab": {
          "base_uri": "https://localhost:8080/"
        },
        "id": "90WCmGQNJjvr",
        "outputId": "7aae9ad1-2d34-4c98-83f5-a8772bcf2e27"
      },
      "source": [
        "weekly_xg_boost"
      ],
      "execution_count": null,
      "outputs": [
        {
          "output_type": "execute_result",
          "data": {
            "text/plain": [
              "Date\n",
              "2011-11-06     32843.648438\n",
              "2011-11-13    310933.750000\n",
              "2011-11-20    264979.843750\n",
              "2011-11-27    374287.406250\n",
              "2011-12-04    398007.968750\n",
              "Freq: W-SUN, Name: Amount_Spent, dtype: float32"
            ]
          },
          "metadata": {},
          "execution_count": 311
        }
      ]
    },
    {
      "cell_type": "code",
      "metadata": {
        "colab": {
          "base_uri": "https://localhost:8080/"
        },
        "id": "Wuqk54qSJ0SQ",
        "outputId": "b3152880-d1c0-49e1-d5ac-984369f4bd62"
      },
      "source": [
        "evaluate(weekly_sale_test.values,\n",
        "         weekly_xg_boost.values)"
      ],
      "execution_count": null,
      "outputs": [
        {
          "output_type": "execute_result",
          "data": {
            "text/plain": [
              "{'mae': 51997.12343750037,\n",
              " 'mape': 0.2159904517667238,\n",
              " 'r2': 0.4457308209189358,\n",
              " 'rmse': 73975.0210529609}"
            ]
          },
          "metadata": {},
          "execution_count": 312
        }
      ]
    }
  ]
}