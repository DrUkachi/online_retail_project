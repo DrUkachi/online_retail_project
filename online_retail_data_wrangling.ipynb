{
  "nbformat": 4,
  "nbformat_minor": 0,
  "metadata": {
    "colab": {
      "name": "online_retail_data_wrangling.ipynb",
      "provenance": [],
      "collapsed_sections": []
    },
    "kernelspec": {
      "name": "python3",
      "display_name": "Python 3"
    },
    "language_info": {
      "name": "python"
    }
  },
  "cells": [
    {
      "cell_type": "markdown",
      "metadata": {
        "id": "agK3X1at8tkL"
      },
      "source": [
        "## Data Wrangling Step\n",
        "\n",
        "This step involves the cleaning, and formatting of data for the purpose of\n",
        "1. Data Analysis.\n",
        "2. Machine Learning Modelling.\n",
        "3. Development of actionable insights.\n",
        "\n"
      ]
    },
    {
      "cell_type": "markdown",
      "metadata": {
        "id": "MGkHV45fehST"
      },
      "source": [
        "Data Should be downloaded and stored on the local machine or can be downloaded straight from the UCI repository depending on the preference.\n"
      ]
    },
    {
      "cell_type": "code",
      "metadata": {
        "id": "63xMGYeusb4I"
      },
      "source": [
        "BASE_FOLDER = \"/content/drive/MyDrive/Colab_Notebooks/online_retail/\""
      ],
      "execution_count": null,
      "outputs": []
    },
    {
      "cell_type": "code",
      "metadata": {
        "id": "rsCF3rE0xbpX"
      },
      "source": [
        "# importing necessary libraries\n",
        "import pandas as pd\n",
        "import matplotlib.pyplot as plt\n",
        "import seaborn as sns\n",
        "import numpy as np\n",
        "import plotly.graph_objects as go\n",
        "\n",
        "import scipy as sp\n",
        "import scipy.stats\n"
      ],
      "execution_count": null,
      "outputs": []
    },
    {
      "cell_type": "code",
      "metadata": {
        "id": "N4lxDCUmxcm2"
      },
      "source": [
        "# Import Retail data\n",
        "retail_data = pd.read_csv(\"/content/drive/MyDrive/Colab_Notebooks/online_retail/online_retail_II.csv\")"
      ],
      "execution_count": null,
      "outputs": []
    },
    {
      "cell_type": "code",
      "metadata": {
        "colab": {
          "base_uri": "https://localhost:8080/",
          "height": 203
        },
        "id": "lFWsBMm9yYR2",
        "outputId": "cf066e0f-479b-45b7-cc4f-255ca730cb63"
      },
      "source": [
        "retail_data.tail()"
      ],
      "execution_count": null,
      "outputs": [
        {
          "output_type": "execute_result",
          "data": {
            "text/html": [
              "<div>\n",
              "<style scoped>\n",
              "    .dataframe tbody tr th:only-of-type {\n",
              "        vertical-align: middle;\n",
              "    }\n",
              "\n",
              "    .dataframe tbody tr th {\n",
              "        vertical-align: top;\n",
              "    }\n",
              "\n",
              "    .dataframe thead th {\n",
              "        text-align: right;\n",
              "    }\n",
              "</style>\n",
              "<table border=\"1\" class=\"dataframe\">\n",
              "  <thead>\n",
              "    <tr style=\"text-align: right;\">\n",
              "      <th></th>\n",
              "      <th>Invoice</th>\n",
              "      <th>StockCode</th>\n",
              "      <th>Description</th>\n",
              "      <th>Quantity</th>\n",
              "      <th>InvoiceDate</th>\n",
              "      <th>Price</th>\n",
              "      <th>Customer ID</th>\n",
              "      <th>Country</th>\n",
              "    </tr>\n",
              "  </thead>\n",
              "  <tbody>\n",
              "    <tr>\n",
              "      <th>1067366</th>\n",
              "      <td>581587</td>\n",
              "      <td>22899</td>\n",
              "      <td>CHILDREN'S APRON DOLLY GIRL</td>\n",
              "      <td>6</td>\n",
              "      <td>2011-12-09 12:50:00</td>\n",
              "      <td>2.10</td>\n",
              "      <td>12680.0</td>\n",
              "      <td>France</td>\n",
              "    </tr>\n",
              "    <tr>\n",
              "      <th>1067367</th>\n",
              "      <td>581587</td>\n",
              "      <td>23254</td>\n",
              "      <td>CHILDRENS CUTLERY DOLLY GIRL</td>\n",
              "      <td>4</td>\n",
              "      <td>2011-12-09 12:50:00</td>\n",
              "      <td>4.15</td>\n",
              "      <td>12680.0</td>\n",
              "      <td>France</td>\n",
              "    </tr>\n",
              "    <tr>\n",
              "      <th>1067368</th>\n",
              "      <td>581587</td>\n",
              "      <td>23255</td>\n",
              "      <td>CHILDRENS CUTLERY CIRCUS PARADE</td>\n",
              "      <td>4</td>\n",
              "      <td>2011-12-09 12:50:00</td>\n",
              "      <td>4.15</td>\n",
              "      <td>12680.0</td>\n",
              "      <td>France</td>\n",
              "    </tr>\n",
              "    <tr>\n",
              "      <th>1067369</th>\n",
              "      <td>581587</td>\n",
              "      <td>22138</td>\n",
              "      <td>BAKING SET 9 PIECE RETROSPOT</td>\n",
              "      <td>3</td>\n",
              "      <td>2011-12-09 12:50:00</td>\n",
              "      <td>4.95</td>\n",
              "      <td>12680.0</td>\n",
              "      <td>France</td>\n",
              "    </tr>\n",
              "    <tr>\n",
              "      <th>1067370</th>\n",
              "      <td>581587</td>\n",
              "      <td>POST</td>\n",
              "      <td>POSTAGE</td>\n",
              "      <td>1</td>\n",
              "      <td>2011-12-09 12:50:00</td>\n",
              "      <td>18.00</td>\n",
              "      <td>12680.0</td>\n",
              "      <td>France</td>\n",
              "    </tr>\n",
              "  </tbody>\n",
              "</table>\n",
              "</div>"
            ],
            "text/plain": [
              "        Invoice StockCode  ... Customer ID  Country\n",
              "1067366  581587     22899  ...     12680.0   France\n",
              "1067367  581587     23254  ...     12680.0   France\n",
              "1067368  581587     23255  ...     12680.0   France\n",
              "1067369  581587     22138  ...     12680.0   France\n",
              "1067370  581587      POST  ...     12680.0   France\n",
              "\n",
              "[5 rows x 8 columns]"
            ]
          },
          "metadata": {},
          "execution_count": 5
        }
      ]
    },
    {
      "cell_type": "code",
      "metadata": {
        "id": "PQiCmSFFycQ1",
        "colab": {
          "base_uri": "https://localhost:8080/",
          "height": 300
        },
        "outputId": "2dc9ad90-1d7d-43bc-c278-e43526b9be68"
      },
      "source": [
        "# To explore the data and give a descriptive statistics of the data\n",
        "retail_data.describe()"
      ],
      "execution_count": null,
      "outputs": [
        {
          "output_type": "execute_result",
          "data": {
            "text/html": [
              "<div>\n",
              "<style scoped>\n",
              "    .dataframe tbody tr th:only-of-type {\n",
              "        vertical-align: middle;\n",
              "    }\n",
              "\n",
              "    .dataframe tbody tr th {\n",
              "        vertical-align: top;\n",
              "    }\n",
              "\n",
              "    .dataframe thead th {\n",
              "        text-align: right;\n",
              "    }\n",
              "</style>\n",
              "<table border=\"1\" class=\"dataframe\">\n",
              "  <thead>\n",
              "    <tr style=\"text-align: right;\">\n",
              "      <th></th>\n",
              "      <th>Quantity</th>\n",
              "      <th>Price</th>\n",
              "      <th>Customer ID</th>\n",
              "    </tr>\n",
              "  </thead>\n",
              "  <tbody>\n",
              "    <tr>\n",
              "      <th>count</th>\n",
              "      <td>1.067371e+06</td>\n",
              "      <td>1.067371e+06</td>\n",
              "      <td>824364.000000</td>\n",
              "    </tr>\n",
              "    <tr>\n",
              "      <th>mean</th>\n",
              "      <td>9.938898e+00</td>\n",
              "      <td>4.649388e+00</td>\n",
              "      <td>15324.638504</td>\n",
              "    </tr>\n",
              "    <tr>\n",
              "      <th>std</th>\n",
              "      <td>1.727058e+02</td>\n",
              "      <td>1.235531e+02</td>\n",
              "      <td>1697.464450</td>\n",
              "    </tr>\n",
              "    <tr>\n",
              "      <th>min</th>\n",
              "      <td>-8.099500e+04</td>\n",
              "      <td>-5.359436e+04</td>\n",
              "      <td>12346.000000</td>\n",
              "    </tr>\n",
              "    <tr>\n",
              "      <th>25%</th>\n",
              "      <td>1.000000e+00</td>\n",
              "      <td>1.250000e+00</td>\n",
              "      <td>13975.000000</td>\n",
              "    </tr>\n",
              "    <tr>\n",
              "      <th>50%</th>\n",
              "      <td>3.000000e+00</td>\n",
              "      <td>2.100000e+00</td>\n",
              "      <td>15255.000000</td>\n",
              "    </tr>\n",
              "    <tr>\n",
              "      <th>75%</th>\n",
              "      <td>1.000000e+01</td>\n",
              "      <td>4.150000e+00</td>\n",
              "      <td>16797.000000</td>\n",
              "    </tr>\n",
              "    <tr>\n",
              "      <th>max</th>\n",
              "      <td>8.099500e+04</td>\n",
              "      <td>3.897000e+04</td>\n",
              "      <td>18287.000000</td>\n",
              "    </tr>\n",
              "  </tbody>\n",
              "</table>\n",
              "</div>"
            ],
            "text/plain": [
              "           Quantity         Price    Customer ID\n",
              "count  1.067371e+06  1.067371e+06  824364.000000\n",
              "mean   9.938898e+00  4.649388e+00   15324.638504\n",
              "std    1.727058e+02  1.235531e+02    1697.464450\n",
              "min   -8.099500e+04 -5.359436e+04   12346.000000\n",
              "25%    1.000000e+00  1.250000e+00   13975.000000\n",
              "50%    3.000000e+00  2.100000e+00   15255.000000\n",
              "75%    1.000000e+01  4.150000e+00   16797.000000\n",
              "max    8.099500e+04  3.897000e+04   18287.000000"
            ]
          },
          "metadata": {},
          "execution_count": 5
        }
      ]
    },
    {
      "cell_type": "markdown",
      "metadata": {
        "id": "oBqh3w1agfhC"
      },
      "source": [
        "From the above descriptive statistics it can be observed that certain values are abnormal\n",
        "\n",
        "1. For instance the Quantity and Price both have negative values.\n",
        "\n",
        "2. The CustomerID does not uniquely represent all the transactions that were carried out.\n",
        "\n",
        "There are also other issues to be addressed.\n",
        "\n",
        "3. Some descriptions are missing, this would also need to be sorted out as this will be useful for the analysis of the data."
      ]
    },
    {
      "cell_type": "markdown",
      "metadata": {
        "id": "gi5vrwX4uU3f"
      },
      "source": [
        "# Data Cleaning tasks"
      ]
    },
    {
      "cell_type": "code",
      "metadata": {
        "colab": {
          "base_uri": "https://localhost:8080/"
        },
        "id": "GrFPJLbCtIQN",
        "outputId": "05bcd73c-c26d-44da-f9d0-d1e20cffc2fb"
      },
      "source": [
        "retail_data.isnull().sum()"
      ],
      "execution_count": null,
      "outputs": [
        {
          "output_type": "execute_result",
          "data": {
            "text/plain": [
              "Invoice             0\n",
              "StockCode           0\n",
              "Description      4382\n",
              "Quantity            0\n",
              "InvoiceDate         0\n",
              "Price               0\n",
              "Customer ID    243007\n",
              "Country             0\n",
              "dtype: int64"
            ]
          },
          "metadata": {},
          "execution_count": 6
        }
      ]
    },
    {
      "cell_type": "code",
      "metadata": {
        "colab": {
          "base_uri": "https://localhost:8080/"
        },
        "id": "bb3G4KtovxBa",
        "outputId": "8b8d630e-4986-4d3b-8d18-e480a213cf44"
      },
      "source": [
        "print(\"Percentage of customers missing: \", round(retail_data['Customer ID'].isnull().sum() * 100 / len(retail_data),2),\"%\" )"
      ],
      "execution_count": null,
      "outputs": [
        {
          "output_type": "stream",
          "name": "stdout",
          "text": [
            "Percentage of customers missing:  22.77 %\n"
          ]
        }
      ]
    },
    {
      "cell_type": "markdown",
      "metadata": {
        "id": "ygCgOQBiu7pj"
      },
      "source": [
        "From the look of things its the description and the customer ID that possess the missing data. This rows with this missing data makes up 22.77% of the data. It therefore important to devise a means to fill in this missing data intelligently."
      ]
    },
    {
      "cell_type": "markdown",
      "metadata": {
        "id": "ZMF84e0h8H38"
      },
      "source": [
        "The average amount of orders made can be calculated using the invoice numbers and the total number of orders"
      ]
    },
    {
      "cell_type": "code",
      "metadata": {
        "colab": {
          "base_uri": "https://localhost:8080/"
        },
        "id": "tXtH0C2G757b",
        "outputId": "5d2b181b-369c-4558-ada6-4b15b96b012f"
      },
      "source": [
        "print(\"Number of orders in df1:\", retail_data['Invoice'].nunique())\n",
        "print(\"Avg. number of products per order in the dataset: \", round(retail_data['StockCode'].count() / retail_data['Invoice'].nunique(),2) )"
      ],
      "execution_count": null,
      "outputs": [
        {
          "output_type": "stream",
          "name": "stdout",
          "text": [
            "Number of orders in df1: 53628\n",
            "Avg. number of products per order in the dataset:  19.9\n"
          ]
        }
      ]
    },
    {
      "cell_type": "markdown",
      "metadata": {
        "id": "ZRKhGI9J8xrL"
      },
      "source": [
        "In the step to design or develop new customer IDs. This would ensure all customers can be uniquely identified."
      ]
    },
    {
      "cell_type": "code",
      "metadata": {
        "id": "4IEhxwIM8xQM"
      },
      "source": [
        "retail_data[\"Null_CustomerID\"] = [1 if i==True else 0 for i in retail_data[\"Customer ID\"].isnull()]"
      ],
      "execution_count": null,
      "outputs": []
    },
    {
      "cell_type": "markdown",
      "metadata": {
        "id": "3FvnlR3P-xZG"
      },
      "source": [
        "It is safe to assume that creating new customer IDs will not affect the insights we hope to gain from the data. Reason being that the invoice number can be used to identify all unique orders, which is our purpose of analysis for now.\n",
        "\n",
        "New customer IDs can be assigned by using the invoice orders, however this would mean that customers for which their customer IDs were not captured are automatically seen as new and unique customers."
      ]
    },
    {
      "cell_type": "code",
      "metadata": {
        "id": "8LyNwMKA9XP7"
      },
      "source": [
        "retail_data[\"New_ID\"] = retail_data[\"Customer ID\"]\n",
        "retail_data.loc[retail_data[\"Null_CustomerID\"] == 1, [\"New_ID\"]] = retail_data[\"Invoice\"]"
      ],
      "execution_count": null,
      "outputs": []
    },
    {
      "cell_type": "code",
      "metadata": {
        "colab": {
          "base_uri": "https://localhost:8080/",
          "height": 206
        },
        "id": "tLCrt2hEDvoo",
        "outputId": "aa47e6b9-f4f0-463f-a824-9928bff6a256"
      },
      "source": [
        "retail_data[retail_data[\"Null_CustomerID\"] == 1].head()"
      ],
      "execution_count": null,
      "outputs": [
        {
          "output_type": "execute_result",
          "data": {
            "text/html": [
              "<div>\n",
              "<style scoped>\n",
              "    .dataframe tbody tr th:only-of-type {\n",
              "        vertical-align: middle;\n",
              "    }\n",
              "\n",
              "    .dataframe tbody tr th {\n",
              "        vertical-align: top;\n",
              "    }\n",
              "\n",
              "    .dataframe thead th {\n",
              "        text-align: right;\n",
              "    }\n",
              "</style>\n",
              "<table border=\"1\" class=\"dataframe\">\n",
              "  <thead>\n",
              "    <tr style=\"text-align: right;\">\n",
              "      <th></th>\n",
              "      <th>Invoice</th>\n",
              "      <th>StockCode</th>\n",
              "      <th>Description</th>\n",
              "      <th>Quantity</th>\n",
              "      <th>InvoiceDate</th>\n",
              "      <th>Price</th>\n",
              "      <th>Customer ID</th>\n",
              "      <th>Country</th>\n",
              "      <th>Null_CustomerID</th>\n",
              "      <th>New_ID</th>\n",
              "    </tr>\n",
              "  </thead>\n",
              "  <tbody>\n",
              "    <tr>\n",
              "      <th>263</th>\n",
              "      <td>489464</td>\n",
              "      <td>21733</td>\n",
              "      <td>85123a mixed</td>\n",
              "      <td>-96</td>\n",
              "      <td>2009-12-01 10:52:00</td>\n",
              "      <td>0.00</td>\n",
              "      <td>NaN</td>\n",
              "      <td>United Kingdom</td>\n",
              "      <td>1</td>\n",
              "      <td>489464</td>\n",
              "    </tr>\n",
              "    <tr>\n",
              "      <th>283</th>\n",
              "      <td>489463</td>\n",
              "      <td>71477</td>\n",
              "      <td>short</td>\n",
              "      <td>-240</td>\n",
              "      <td>2009-12-01 10:52:00</td>\n",
              "      <td>0.00</td>\n",
              "      <td>NaN</td>\n",
              "      <td>United Kingdom</td>\n",
              "      <td>1</td>\n",
              "      <td>489463</td>\n",
              "    </tr>\n",
              "    <tr>\n",
              "      <th>284</th>\n",
              "      <td>489467</td>\n",
              "      <td>85123A</td>\n",
              "      <td>21733 mixed</td>\n",
              "      <td>-192</td>\n",
              "      <td>2009-12-01 10:53:00</td>\n",
              "      <td>0.00</td>\n",
              "      <td>NaN</td>\n",
              "      <td>United Kingdom</td>\n",
              "      <td>1</td>\n",
              "      <td>489467</td>\n",
              "    </tr>\n",
              "    <tr>\n",
              "      <th>470</th>\n",
              "      <td>489521</td>\n",
              "      <td>21646</td>\n",
              "      <td>NaN</td>\n",
              "      <td>-50</td>\n",
              "      <td>2009-12-01 11:44:00</td>\n",
              "      <td>0.00</td>\n",
              "      <td>NaN</td>\n",
              "      <td>United Kingdom</td>\n",
              "      <td>1</td>\n",
              "      <td>489521</td>\n",
              "    </tr>\n",
              "    <tr>\n",
              "      <th>577</th>\n",
              "      <td>489525</td>\n",
              "      <td>85226C</td>\n",
              "      <td>BLUE PULL BACK RACING CAR</td>\n",
              "      <td>1</td>\n",
              "      <td>2009-12-01 11:49:00</td>\n",
              "      <td>0.55</td>\n",
              "      <td>NaN</td>\n",
              "      <td>United Kingdom</td>\n",
              "      <td>1</td>\n",
              "      <td>489525</td>\n",
              "    </tr>\n",
              "  </tbody>\n",
              "</table>\n",
              "</div>"
            ],
            "text/plain": [
              "    Invoice StockCode  ... Null_CustomerID  New_ID\n",
              "263  489464     21733  ...               1  489464\n",
              "283  489463     71477  ...               1  489463\n",
              "284  489467    85123A  ...               1  489467\n",
              "470  489521     21646  ...               1  489521\n",
              "577  489525    85226C  ...               1  489525\n",
              "\n",
              "[5 rows x 10 columns]"
            ]
          },
          "metadata": {},
          "execution_count": 10
        }
      ]
    },
    {
      "cell_type": "code",
      "metadata": {
        "colab": {
          "base_uri": "https://localhost:8080/",
          "height": 203
        },
        "id": "jJgVz-BTD02H",
        "outputId": "c10796b7-edd2-4e7b-a375-4a9234c09c52"
      },
      "source": [
        "retail_data[retail_data[\"Null_CustomerID\"] == 0].head() "
      ],
      "execution_count": null,
      "outputs": [
        {
          "output_type": "execute_result",
          "data": {
            "text/html": [
              "<div>\n",
              "<style scoped>\n",
              "    .dataframe tbody tr th:only-of-type {\n",
              "        vertical-align: middle;\n",
              "    }\n",
              "\n",
              "    .dataframe tbody tr th {\n",
              "        vertical-align: top;\n",
              "    }\n",
              "\n",
              "    .dataframe thead th {\n",
              "        text-align: right;\n",
              "    }\n",
              "</style>\n",
              "<table border=\"1\" class=\"dataframe\">\n",
              "  <thead>\n",
              "    <tr style=\"text-align: right;\">\n",
              "      <th></th>\n",
              "      <th>Invoice</th>\n",
              "      <th>StockCode</th>\n",
              "      <th>Description</th>\n",
              "      <th>Quantity</th>\n",
              "      <th>InvoiceDate</th>\n",
              "      <th>Price</th>\n",
              "      <th>Customer ID</th>\n",
              "      <th>Country</th>\n",
              "      <th>Null_CustomerID</th>\n",
              "      <th>New_ID</th>\n",
              "    </tr>\n",
              "  </thead>\n",
              "  <tbody>\n",
              "    <tr>\n",
              "      <th>0</th>\n",
              "      <td>489434</td>\n",
              "      <td>85048</td>\n",
              "      <td>15CM CHRISTMAS GLASS BALL 20 LIGHTS</td>\n",
              "      <td>12</td>\n",
              "      <td>2009-12-01 07:45:00</td>\n",
              "      <td>6.95</td>\n",
              "      <td>13085.0</td>\n",
              "      <td>United Kingdom</td>\n",
              "      <td>0</td>\n",
              "      <td>13085</td>\n",
              "    </tr>\n",
              "    <tr>\n",
              "      <th>1</th>\n",
              "      <td>489434</td>\n",
              "      <td>79323P</td>\n",
              "      <td>PINK CHERRY LIGHTS</td>\n",
              "      <td>12</td>\n",
              "      <td>2009-12-01 07:45:00</td>\n",
              "      <td>6.75</td>\n",
              "      <td>13085.0</td>\n",
              "      <td>United Kingdom</td>\n",
              "      <td>0</td>\n",
              "      <td>13085</td>\n",
              "    </tr>\n",
              "    <tr>\n",
              "      <th>2</th>\n",
              "      <td>489434</td>\n",
              "      <td>79323W</td>\n",
              "      <td>WHITE CHERRY LIGHTS</td>\n",
              "      <td>12</td>\n",
              "      <td>2009-12-01 07:45:00</td>\n",
              "      <td>6.75</td>\n",
              "      <td>13085.0</td>\n",
              "      <td>United Kingdom</td>\n",
              "      <td>0</td>\n",
              "      <td>13085</td>\n",
              "    </tr>\n",
              "    <tr>\n",
              "      <th>3</th>\n",
              "      <td>489434</td>\n",
              "      <td>22041</td>\n",
              "      <td>RECORD FRAME 7\" SINGLE SIZE</td>\n",
              "      <td>48</td>\n",
              "      <td>2009-12-01 07:45:00</td>\n",
              "      <td>2.10</td>\n",
              "      <td>13085.0</td>\n",
              "      <td>United Kingdom</td>\n",
              "      <td>0</td>\n",
              "      <td>13085</td>\n",
              "    </tr>\n",
              "    <tr>\n",
              "      <th>4</th>\n",
              "      <td>489434</td>\n",
              "      <td>21232</td>\n",
              "      <td>STRAWBERRY CERAMIC TRINKET BOX</td>\n",
              "      <td>24</td>\n",
              "      <td>2009-12-01 07:45:00</td>\n",
              "      <td>1.25</td>\n",
              "      <td>13085.0</td>\n",
              "      <td>United Kingdom</td>\n",
              "      <td>0</td>\n",
              "      <td>13085</td>\n",
              "    </tr>\n",
              "  </tbody>\n",
              "</table>\n",
              "</div>"
            ],
            "text/plain": [
              "  Invoice StockCode  ... Null_CustomerID  New_ID\n",
              "0  489434     85048  ...               0   13085\n",
              "1  489434    79323P  ...               0   13085\n",
              "2  489434    79323W  ...               0   13085\n",
              "3  489434     22041  ...               0   13085\n",
              "4  489434     21232  ...               0   13085\n",
              "\n",
              "[5 rows x 10 columns]"
            ]
          },
          "metadata": {},
          "execution_count": 17
        }
      ]
    },
    {
      "cell_type": "code",
      "metadata": {
        "colab": {
          "base_uri": "https://localhost:8080/"
        },
        "id": "TiVlWJNcECKT",
        "outputId": "b987f035-ea37-4c6c-c7c8-8036ce64d500"
      },
      "source": [
        "retail_data.info()"
      ],
      "execution_count": null,
      "outputs": [
        {
          "output_type": "stream",
          "name": "stdout",
          "text": [
            "<class 'pandas.core.frame.DataFrame'>\n",
            "RangeIndex: 1067371 entries, 0 to 1067370\n",
            "Data columns (total 10 columns):\n",
            " #   Column           Non-Null Count    Dtype  \n",
            "---  ------           --------------    -----  \n",
            " 0   Invoice          1067371 non-null  object \n",
            " 1   StockCode        1067371 non-null  object \n",
            " 2   Description      1062989 non-null  object \n",
            " 3   Quantity         1067371 non-null  int64  \n",
            " 4   InvoiceDate      1067371 non-null  object \n",
            " 5   Price            1067371 non-null  float64\n",
            " 6   Customer ID      824364 non-null   float64\n",
            " 7   Country          1067371 non-null  object \n",
            " 8   Null_CustomerID  1067371 non-null  int64  \n",
            " 9   New_ID           1067371 non-null  object \n",
            "dtypes: float64(2), int64(2), object(6)\n",
            "memory usage: 81.4+ MB\n"
          ]
        }
      ]
    },
    {
      "cell_type": "code",
      "metadata": {
        "colab": {
          "base_uri": "https://localhost:8080/",
          "height": 203
        },
        "id": "_tRfNRUkEJ-i",
        "outputId": "d66b8b75-e404-4676-8d77-25ccba43c855"
      },
      "source": [
        "#drop Customer ID column since it isn't need anymore\n",
        "retail_data = retail_data.drop('Customer ID', 1)\n",
        "retail_data.head()"
      ],
      "execution_count": null,
      "outputs": [
        {
          "output_type": "execute_result",
          "data": {
            "text/html": [
              "<div>\n",
              "<style scoped>\n",
              "    .dataframe tbody tr th:only-of-type {\n",
              "        vertical-align: middle;\n",
              "    }\n",
              "\n",
              "    .dataframe tbody tr th {\n",
              "        vertical-align: top;\n",
              "    }\n",
              "\n",
              "    .dataframe thead th {\n",
              "        text-align: right;\n",
              "    }\n",
              "</style>\n",
              "<table border=\"1\" class=\"dataframe\">\n",
              "  <thead>\n",
              "    <tr style=\"text-align: right;\">\n",
              "      <th></th>\n",
              "      <th>Invoice</th>\n",
              "      <th>StockCode</th>\n",
              "      <th>Description</th>\n",
              "      <th>Quantity</th>\n",
              "      <th>InvoiceDate</th>\n",
              "      <th>Price</th>\n",
              "      <th>Country</th>\n",
              "      <th>Null_CustomerID</th>\n",
              "      <th>New_ID</th>\n",
              "    </tr>\n",
              "  </thead>\n",
              "  <tbody>\n",
              "    <tr>\n",
              "      <th>0</th>\n",
              "      <td>489434</td>\n",
              "      <td>85048</td>\n",
              "      <td>15CM CHRISTMAS GLASS BALL 20 LIGHTS</td>\n",
              "      <td>12</td>\n",
              "      <td>2009-12-01 07:45:00</td>\n",
              "      <td>6.95</td>\n",
              "      <td>United Kingdom</td>\n",
              "      <td>0</td>\n",
              "      <td>13085</td>\n",
              "    </tr>\n",
              "    <tr>\n",
              "      <th>1</th>\n",
              "      <td>489434</td>\n",
              "      <td>79323P</td>\n",
              "      <td>PINK CHERRY LIGHTS</td>\n",
              "      <td>12</td>\n",
              "      <td>2009-12-01 07:45:00</td>\n",
              "      <td>6.75</td>\n",
              "      <td>United Kingdom</td>\n",
              "      <td>0</td>\n",
              "      <td>13085</td>\n",
              "    </tr>\n",
              "    <tr>\n",
              "      <th>2</th>\n",
              "      <td>489434</td>\n",
              "      <td>79323W</td>\n",
              "      <td>WHITE CHERRY LIGHTS</td>\n",
              "      <td>12</td>\n",
              "      <td>2009-12-01 07:45:00</td>\n",
              "      <td>6.75</td>\n",
              "      <td>United Kingdom</td>\n",
              "      <td>0</td>\n",
              "      <td>13085</td>\n",
              "    </tr>\n",
              "    <tr>\n",
              "      <th>3</th>\n",
              "      <td>489434</td>\n",
              "      <td>22041</td>\n",
              "      <td>RECORD FRAME 7\" SINGLE SIZE</td>\n",
              "      <td>48</td>\n",
              "      <td>2009-12-01 07:45:00</td>\n",
              "      <td>2.10</td>\n",
              "      <td>United Kingdom</td>\n",
              "      <td>0</td>\n",
              "      <td>13085</td>\n",
              "    </tr>\n",
              "    <tr>\n",
              "      <th>4</th>\n",
              "      <td>489434</td>\n",
              "      <td>21232</td>\n",
              "      <td>STRAWBERRY CERAMIC TRINKET BOX</td>\n",
              "      <td>24</td>\n",
              "      <td>2009-12-01 07:45:00</td>\n",
              "      <td>1.25</td>\n",
              "      <td>United Kingdom</td>\n",
              "      <td>0</td>\n",
              "      <td>13085</td>\n",
              "    </tr>\n",
              "  </tbody>\n",
              "</table>\n",
              "</div>"
            ],
            "text/plain": [
              "  Invoice StockCode  ... Null_CustomerID  New_ID\n",
              "0  489434     85048  ...               0   13085\n",
              "1  489434    79323P  ...               0   13085\n",
              "2  489434    79323W  ...               0   13085\n",
              "3  489434     22041  ...               0   13085\n",
              "4  489434     21232  ...               0   13085\n",
              "\n",
              "[5 rows x 9 columns]"
            ]
          },
          "metadata": {},
          "execution_count": 19
        }
      ]
    },
    {
      "cell_type": "markdown",
      "metadata": {
        "id": "5vdVsgL2R1i9"
      },
      "source": [
        "To ensure consistency the data types of the new ID is meant to be numeric, since cancelled orders were inclusive in the invoice column some of the rows must have affected the data type of the New ID, \n"
      ]
    },
    {
      "cell_type": "code",
      "metadata": {
        "colab": {
          "base_uri": "https://localhost:8080/",
          "height": 80
        },
        "id": "ZzWGUpT5FLUb",
        "outputId": "d8e11a35-ac63-4945-e67d-28cafa88806d"
      },
      "source": [
        "#Remove all non digits from column NewID\n",
        "retail_data['New_ID'] = retail_data['New_ID'].astype(str).str.replace('\\D+', '')\n",
        "\n",
        "#Convert to integer\n",
        "retail_data['New_ID'] = pd.to_numeric(retail_data['New_ID'])\n",
        "\n",
        "#Check if the 'C' character was removed in the NewID column\n",
        "retail_data[retail_data['New_ID']== 580605]"
      ],
      "execution_count": null,
      "outputs": [
        {
          "output_type": "execute_result",
          "data": {
            "text/html": [
              "<div>\n",
              "<style scoped>\n",
              "    .dataframe tbody tr th:only-of-type {\n",
              "        vertical-align: middle;\n",
              "    }\n",
              "\n",
              "    .dataframe tbody tr th {\n",
              "        vertical-align: top;\n",
              "    }\n",
              "\n",
              "    .dataframe thead th {\n",
              "        text-align: right;\n",
              "    }\n",
              "</style>\n",
              "<table border=\"1\" class=\"dataframe\">\n",
              "  <thead>\n",
              "    <tr style=\"text-align: right;\">\n",
              "      <th></th>\n",
              "      <th>Invoice</th>\n",
              "      <th>StockCode</th>\n",
              "      <th>Description</th>\n",
              "      <th>Quantity</th>\n",
              "      <th>InvoiceDate</th>\n",
              "      <th>Price</th>\n",
              "      <th>Country</th>\n",
              "      <th>Null_CustomerID</th>\n",
              "      <th>New_ID</th>\n",
              "    </tr>\n",
              "  </thead>\n",
              "  <tbody>\n",
              "    <tr>\n",
              "      <th>1050063</th>\n",
              "      <td>C580605</td>\n",
              "      <td>AMAZONFEE</td>\n",
              "      <td>AMAZON FEE</td>\n",
              "      <td>-1</td>\n",
              "      <td>2011-12-05 11:36:00</td>\n",
              "      <td>17836.46</td>\n",
              "      <td>United Kingdom</td>\n",
              "      <td>1</td>\n",
              "      <td>580605</td>\n",
              "    </tr>\n",
              "  </tbody>\n",
              "</table>\n",
              "</div>"
            ],
            "text/plain": [
              "         Invoice  StockCode  ... Null_CustomerID  New_ID\n",
              "1050063  C580605  AMAZONFEE  ...               1  580605\n",
              "\n",
              "[1 rows x 9 columns]"
            ]
          },
          "metadata": {},
          "execution_count": 23
        }
      ]
    },
    {
      "cell_type": "code",
      "metadata": {
        "colab": {
          "base_uri": "https://localhost:8080/"
        },
        "id": "jAdcIAI1TKVd",
        "outputId": "529f21ff-84ec-43d6-ef99-f92533a76d0c"
      },
      "source": [
        "retail_data.info()"
      ],
      "execution_count": null,
      "outputs": [
        {
          "output_type": "stream",
          "name": "stdout",
          "text": [
            "<class 'pandas.core.frame.DataFrame'>\n",
            "RangeIndex: 1067371 entries, 0 to 1067370\n",
            "Data columns (total 9 columns):\n",
            " #   Column           Non-Null Count    Dtype  \n",
            "---  ------           --------------    -----  \n",
            " 0   Invoice          1067371 non-null  object \n",
            " 1   StockCode        1067371 non-null  object \n",
            " 2   Description      1062989 non-null  object \n",
            " 3   Quantity         1067371 non-null  int64  \n",
            " 4   InvoiceDate      1067371 non-null  object \n",
            " 5   Price            1067371 non-null  float64\n",
            " 6   Country          1067371 non-null  object \n",
            " 7   Null_CustomerID  1067371 non-null  int64  \n",
            " 8   New_ID           1067371 non-null  int64  \n",
            "dtypes: float64(1), int64(3), object(5)\n",
            "memory usage: 73.3+ MB\n"
          ]
        }
      ]
    },
    {
      "cell_type": "code",
      "metadata": {
        "id": "MzE4gCCrp--o",
        "colab": {
          "base_uri": "https://localhost:8080/"
        },
        "outputId": "66ad73f1-7a1f-4aba-d330-571a9586a00b"
      },
      "source": [
        "\n",
        "retail_data.isnull().sum()"
      ],
      "execution_count": null,
      "outputs": [
        {
          "output_type": "execute_result",
          "data": {
            "text/plain": [
              "Invoice                 0\n",
              "StockCode               0\n",
              "Description          4382\n",
              "Quantity                0\n",
              "InvoiceDate             0\n",
              "Price                   0\n",
              "Customer ID        243007\n",
              "Country                 0\n",
              "Null_CustomerID         0\n",
              "New_ID                  0\n",
              "dtype: int64"
            ]
          },
          "metadata": {},
          "execution_count": 12
        }
      ]
    },
    {
      "cell_type": "markdown",
      "metadata": {
        "id": "ZNZKTUn6tcD9"
      },
      "source": [
        "From the above result it is evident that all the transactions now possess unique customer IDs.\n",
        "\n",
        "To aid the analysis of this data, other columns will also need be addressed. The columns would be addressed in this order:\n",
        "\n",
        "1. Description column:\n",
        "*   Ensure all items possess valid descriptions.\n",
        "* Ensure all transactions posses descriptions.\n",
        "\n",
        "2. Invoice Date\n",
        "* Ensure Proper date-time formatting\n",
        "\n",
        "3. StockCode\n",
        "* Ensure proper StockCode assignments.\n",
        "* Removing irrelevant StockCodes.\n",
        "\n",
        "4. Country\n",
        "* Ensure unique values are assigned in the Country column.\n",
        "\n",
        "5. Price\n",
        "* Remove outliers\n",
        "\n"
      ]
    },
    {
      "cell_type": "code",
      "metadata": {
        "colab": {
          "base_uri": "https://localhost:8080/"
        },
        "id": "sB9bkrSsxeXP",
        "outputId": "5b509308-c4a6-4669-cab5-cd74d2daee36"
      },
      "source": [
        "# Dealing with the Description columns\n",
        "# String formatting\n",
        "\n",
        "#Strings\n",
        "retail_data['Description'] = retail_data['Description'].str.replace('.','').str.upper().str.strip()\n",
        "retail_data['Description'] = retail_data['Description'].replace('\\s+',' ',regex = True)\n",
        "\n",
        "# Assigning correct and missing descriptions by using the StockCode\n",
        "for index,value in retail_data.StockCode[retail_data.Description.isna()==True].items():\n",
        "    if pd.notna(retail_data.Description[retail_data.StockCode == value]).sum() != 0:\n",
        "        retail_data.Description[index] = retail_data.Description[retail_data.StockCode == value].mode()[0]\n",
        "    else:\n",
        "        retail_data.drop(index = index, inplace = True)\n",
        "        \n",
        "retail_data['Description'] = retail_data['Description'].astype(str)"
      ],
      "execution_count": null,
      "outputs": [
        {
          "output_type": "stream",
          "name": "stderr",
          "text": [
            "/usr/local/lib/python3.7/dist-packages/ipykernel_launcher.py:11: SettingWithCopyWarning:\n",
            "\n",
            "\n",
            "A value is trying to be set on a copy of a slice from a DataFrame\n",
            "\n",
            "See the caveats in the documentation: https://pandas.pydata.org/pandas-docs/stable/user_guide/indexing.html#returning-a-view-versus-a-copy\n",
            "\n"
          ]
        }
      ]
    },
    {
      "cell_type": "code",
      "metadata": {
        "id": "xmu5Ir0x1NtV"
      },
      "source": [
        "# Dealing with the StockCode column\n",
        "# String formatting\n",
        "retail_data['StockCode'] = retail_data['StockCode'].str.upper()\n",
        "\n",
        "# Dropping all stockcodes that contain only strings\n",
        "code_types = list(map(lambda codes: any(char.isdigit() for char in codes), retail_data['StockCode']))\n",
        "irrelevant_codes = [i for i,v in enumerate(code_types) if v == False]\n",
        "retail_data.drop(irrelevant_codes , inplace = True)\n",
        "\n"
      ],
      "execution_count": null,
      "outputs": []
    },
    {
      "cell_type": "code",
      "metadata": {
        "colab": {
          "base_uri": "https://localhost:8080/"
        },
        "id": "n-bBY_IiCpwz",
        "outputId": "f8c2837a-4294-40c9-d0ef-13f660a3e436"
      },
      "source": [
        "retail_data.columns"
      ],
      "execution_count": null,
      "outputs": [
        {
          "output_type": "execute_result",
          "data": {
            "text/plain": [
              "Index(['Invoice', 'StockCode', 'Description', 'Quantity', 'InvoiceDate',\n",
              "       'Price', 'Customer ID', 'Country', 'Null_CustomerID', 'New_ID'],\n",
              "      dtype='object')"
            ]
          },
          "metadata": {},
          "execution_count": 22
        }
      ]
    },
    {
      "cell_type": "code",
      "metadata": {
        "colab": {
          "base_uri": "https://localhost:8080/"
        },
        "id": "Fv3462ek_XAy",
        "outputId": "5f930d76-6161-4e82-a40a-d07518763ae3"
      },
      "source": [
        "# Removing Outliers Based on Z-score\n",
        "retail_data = retail_data[(np.abs(sp.stats.zscore(retail_data['Price']))<3) & (np.abs(sp.stats.zscore(retail_data['Quantity']))<5)]\n",
        "\n",
        "# Dealing with missing & incorrect values in Price and Quantity columns\n",
        "retail_data.drop(retail_data[(retail_data.Quantity>0) & (retail_data.Invoice.str.contains('C') == True)].index, inplace = True)\n",
        "retail_data.drop(retail_data[(retail_data.Quantity<0) & (retail_data.Invoice.str.contains('C') == False)].index, inplace = True)\n",
        "retail_data.drop(retail_data[retail_data.Description.str.contains('?',regex=False) == True].index, inplace = True)\n",
        "retail_data.drop(retail_data[retail_data.Price == 0].index, inplace = True)"
      ],
      "execution_count": null,
      "outputs": [
        {
          "output_type": "stream",
          "name": "stderr",
          "text": [
            "/usr/local/lib/python3.7/dist-packages/pandas/core/frame.py:4174: SettingWithCopyWarning:\n",
            "\n",
            "\n",
            "A value is trying to be set on a copy of a slice from a DataFrame\n",
            "\n",
            "See the caveats in the documentation: https://pandas.pydata.org/pandas-docs/stable/user_guide/indexing.html#returning-a-view-versus-a-copy\n",
            "\n",
            "/usr/local/lib/python3.7/dist-packages/pandas/core/frame.py:4174: SettingWithCopyWarning:\n",
            "\n",
            "\n",
            "A value is trying to be set on a copy of a slice from a DataFrame\n",
            "\n",
            "See the caveats in the documentation: https://pandas.pydata.org/pandas-docs/stable/user_guide/indexing.html#returning-a-view-versus-a-copy\n",
            "\n",
            "/usr/local/lib/python3.7/dist-packages/pandas/core/frame.py:4174: SettingWithCopyWarning:\n",
            "\n",
            "\n",
            "A value is trying to be set on a copy of a slice from a DataFrame\n",
            "\n",
            "See the caveats in the documentation: https://pandas.pydata.org/pandas-docs/stable/user_guide/indexing.html#returning-a-view-versus-a-copy\n",
            "\n",
            "/usr/local/lib/python3.7/dist-packages/pandas/core/frame.py:4174: SettingWithCopyWarning:\n",
            "\n",
            "\n",
            "A value is trying to be set on a copy of a slice from a DataFrame\n",
            "\n",
            "See the caveats in the documentation: https://pandas.pydata.org/pandas-docs/stable/user_guide/indexing.html#returning-a-view-versus-a-copy\n",
            "\n"
          ]
        }
      ]
    },
    {
      "cell_type": "code",
      "metadata": {
        "id": "ExOroX_Zt5jY",
        "colab": {
          "base_uri": "https://localhost:8080/"
        },
        "outputId": "b4349b93-fcb3-4a2d-d508-8761b1ab593c"
      },
      "source": [
        "# Dealing with the country column\n",
        "\n",
        "# Customers with Different Countries\n",
        "Customers = retail_data.groupby('New_ID')['Country'].unique()\n",
        "Customers.loc[Customers.apply(lambda x:len(x)>1)]"
      ],
      "execution_count": null,
      "outputs": [
        {
          "output_type": "execute_result",
          "data": {
            "text/plain": [
              "New_ID\n",
              "123700           [Austria, Cyprus]\n",
              "123940          [Belgium, Denmark]\n",
              "124130             [Spain, France]\n",
              "124170            [Belgium, Spain]\n",
              "124220    [Australia, Switzerland]\n",
              "124230          [Denmark, Belgium]\n",
              "124290          [Denmark, Austria]\n",
              "124310        [Belgium, Australia]\n",
              "124490          [Denmark, Belgium]\n",
              "124550             [Cyprus, Spain]\n",
              "124570       [Switzerland, Cyprus]\n",
              "126520           [Germany, France]\n",
              "127450      [EIRE, United Kingdom]\n",
              "Name: Country, dtype: object"
            ]
          },
          "metadata": {},
          "execution_count": 25
        }
      ]
    },
    {
      "cell_type": "code",
      "metadata": {
        "id": "MnVB1fUQB57q"
      },
      "source": [
        "# Fixing duplicate CustomerIDs and Multiple Countries\n",
        "for i,v in retail_data.groupby('New_ID')['Country'].unique().items():\n",
        "    if len(v)>1:\n",
        "        retail_data.Country[retail_data['New_ID'] == i] = retail_data.Country[retail_data['New_ID'] == i].mode()[0]"
      ],
      "execution_count": null,
      "outputs": []
    },
    {
      "cell_type": "code",
      "metadata": {
        "id": "xFuGX353DBL1"
      },
      "source": [
        "# Adding Desired Features\n",
        "retail_data['Amount_Spent'] = retail_data['Quantity']*retail_data['Price'] # Total \n",
        "# Formatting Date/Time\n",
        "retail_data['InvoiceDate'] = pd.to_datetime(retail_data['InvoiceDate'], format = '%Y/%m/%d %H:%M')\n",
        "\n",
        "retail_data['InvoiceMonth'] = retail_data['InvoiceDate'].apply(lambda x: x.strftime('%B'))\n",
        "\n",
        "retail_data['Day of week'] = retail_data['InvoiceDate'].dt.day_name()"
      ],
      "execution_count": null,
      "outputs": []
    },
    {
      "cell_type": "code",
      "metadata": {
        "id": "gMPquprQE8Iy"
      },
      "source": [
        "# Exporting Processed Data\n",
        "retail_data.to_csv(f'{BASE_FOLDER}cleaned_retail_data.csv', date_format = '%Y-%m-%d %H:%M', index = False)"
      ],
      "execution_count": null,
      "outputs": []
    }
  ]
}